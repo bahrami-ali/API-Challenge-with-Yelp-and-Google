{
 "cells": [
  {
   "cell_type": "markdown",
   "metadata": {},
   "source": [
    "# `Mini Project II`\n",
    "## Points of Interest in Playa Del Carmen, Mexico\n",
    "\n",
    "### Ali Bahrami\n",
    "#### November 04, 2021"
   ]
  },
  {
   "cell_type": "code",
   "execution_count": 2,
   "metadata": {},
   "outputs": [],
   "source": [
    "import requests as re\n",
    "import pandas as pd\n",
    "import sqlite3 as sql\n",
    "import json\n",
    "import os\n",
    "from IPython.display import JSON"
   ]
  },
  {
   "cell_type": "code",
   "execution_count": 3,
   "metadata": {},
   "outputs": [],
   "source": [
    "## Pull the Data\n"
   ]
  },
  {
   "cell_type": "code",
   "execution_count": 4,
   "metadata": {},
   "outputs": [
    {
     "data": {
      "application/json": {
       "meta": {
        "code": 200,
        "requestId": "618c37f23c3d37349678a051"
       },
       "response": {
        "geocode": {
         "cc": "MX",
         "center": {
          "lat": 20.6274,
          "lng": -87.07987
         },
         "displayString": "Playa del Carmen, QR, Mexico",
         "geometry": {
          "bounds": {
           "ne": {
            "lat": 20.709390172856555,
            "lng": -87.02172505212904
           },
           "sw": {
            "lat": 20.600182360272555,
            "lng": -87.11403718538024
           }
          }
         },
         "longId": "72057594041449278",
         "slug": "playa-del-carmen-mexico",
         "what": "",
         "where": "playa del carmen mexico"
        },
        "groups": [
         {
          "items": [
           {
            "reasons": {
             "count": 0,
             "items": [
              {
               "reasonName": "globalInteractionReason",
               "summary": "This spot is popular",
               "type": "general"
              }
             ]
            },
            "referralId": "e-1-4bf1aea53fa220a1a2951820-0",
            "venue": {
             "categories": [
              {
               "icon": {
                "prefix": "https://ss3.4sqi.net/img/categories_v2/shops/mall_",
                "suffix": ".png"
               },
               "id": "4bf58dd8d48988d1fd941735",
               "name": "Shopping Mall",
               "pluralName": "Shopping Malls",
               "primary": true,
               "shortName": "Mall"
              }
             ],
             "id": "4bf1aea53fa220a1a2951820",
             "location": {
              "address": "10 Avenida",
              "cc": "MX",
              "city": "Playa del Carmen",
              "country": "México",
              "crossStreet": "1 Sur",
              "formattedAddress": [
               "10 Avenida (1 Sur)",
               "77710 Playa del Carmen, Quintana Roo",
               "México"
              ],
              "labeledLatLngs": [
               {
                "label": "display",
                "lat": 20.621728481540952,
                "lng": -87.07646211260577
               }
              ],
              "lat": 20.621728481540952,
              "lng": -87.07646211260577,
              "postalCode": "77710",
              "state": "Quintana Roo"
             },
             "name": "Paseo del Carmen",
             "photos": {
              "count": 0,
              "groups": []
             }
            }
           },
           {
            "flags": {
             "outsideRadius": true
            },
            "reasons": {
             "count": 0,
             "items": [
              {
               "reasonName": "globalInteractionReason",
               "summary": "This spot is popular",
               "type": "general"
              }
             ]
            },
            "referralId": "e-1-4bc8780e6501c9b6a1224029-1",
            "venue": {
             "categories": [
              {
               "icon": {
                "prefix": "https://ss3.4sqi.net/img/categories_v2/arts_entertainment/waterpark_",
                "suffix": ".png"
               },
               "id": "4bf58dd8d48988d193941735",
               "name": "Water Park",
               "pluralName": "Water Parks",
               "primary": true,
               "shortName": "Water Park"
              }
             ],
             "id": "4bc8780e6501c9b6a1224029",
             "location": {
              "address": "Carretera Federal 307 Km. 282",
              "cc": "MX",
              "city": "Playa del Carmen",
              "country": "México",
              "crossStreet": "Mexico 307",
              "formattedAddress": [
               "Carretera Federal 307 Km. 282 (Mexico 307)",
               "77710 Playa del Carmen, Quintana Roo",
               "México"
              ],
              "labeledLatLngs": [
               {
                "label": "display",
                "lat": 20.593723594438217,
                "lng": -87.12432170631233
               }
              ],
              "lat": 20.593723594438217,
              "lng": -87.12432170631233,
              "postalCode": "77710",
              "state": "Quintana Roo"
             },
             "name": "Xplor",
             "photos": {
              "count": 0,
              "groups": []
             }
            }
           },
           {
            "reasons": {
             "count": 0,
             "items": [
              {
               "reasonName": "globalInteractionReason",
               "summary": "This spot is popular",
               "type": "general"
              }
             ]
            },
            "referralId": "e-1-513e58a8e4b020367f5d2f26-2",
            "venue": {
             "categories": [
              {
               "icon": {
                "prefix": "https://ss3.4sqi.net/img/categories_v2/shops/mall_",
                "suffix": ".png"
               },
               "id": "4bf58dd8d48988d1fd941735",
               "name": "Shopping Mall",
               "pluralName": "Shopping Malls",
               "primary": true,
               "shortName": "Mall"
              }
             ],
             "id": "513e58a8e4b020367f5d2f26",
             "location": {
              "address": "5ta. Avenida",
              "cc": "MX",
              "city": "Playa del Carmen",
              "country": "México",
              "crossStreet": "Constituyentes",
              "formattedAddress": [
               "5ta. Avenida (Constituyentes)",
               "77710 Playa del Carmen, Quintana Roo",
               "México"
              ],
              "labeledLatLngs": [
               {
                "label": "display",
                "lat": 20.62978502107342,
                "lng": -87.0704291447895
               }
              ],
              "lat": 20.62978502107342,
              "lng": -87.0704291447895,
              "postalCode": "77710",
              "state": "Quintana Roo"
             },
             "name": "Quinta Alegría",
             "photos": {
              "count": 0,
              "groups": []
             }
            }
           },
           {
            "reasons": {
             "count": 0,
             "items": [
              {
               "reasonName": "globalInteractionReason",
               "summary": "This spot is popular",
               "type": "general"
              }
             ]
            },
            "referralId": "e-1-577bdc75498efeaf450a2b50-3",
            "venue": {
             "categories": [
              {
               "icon": {
                "prefix": "https://ss3.4sqi.net/img/categories_v2/food/caribbean_",
                "suffix": ".png"
               },
               "id": "4bf58dd8d48988d144941735",
               "name": "Caribbean Restaurant",
               "pluralName": "Caribbean Restaurants",
               "primary": true,
               "shortName": "Caribbean"
              }
             ],
             "id": "577bdc75498efeaf450a2b50",
             "location": {
              "cc": "MX",
              "city": "Playa del Carmen",
              "country": "México",
              "formattedAddress": [
               "Playa del Carmen, Quintana Roo",
               "México"
              ],
              "labeledLatLngs": [
               {
                "label": "display",
                "lat": 20.6009,
                "lng": -87.092971
               }
              ],
              "lat": 20.6009,
              "lng": -87.092971,
              "state": "Quintana Roo"
             },
             "name": "Blue Moon Beach Bar Sandos Select Club",
             "photos": {
              "count": 0,
              "groups": []
             }
            }
           },
           {
            "reasons": {
             "count": 0,
             "items": [
              {
               "reasonName": "globalInteractionReason",
               "summary": "This spot is popular",
               "type": "general"
              }
             ]
            },
            "referralId": "e-1-4bd7ebee0b779c74412006a0-4",
            "venue": {
             "categories": [
              {
               "icon": {
                "prefix": "https://ss3.4sqi.net/img/categories_v2/travel/hotel_",
                "suffix": ".png"
               },
               "id": "4bf58dd8d48988d1fa931735",
               "name": "Hotel",
               "pluralName": "Hotels",
               "primary": true,
               "shortName": "Hotel"
              }
             ],
             "id": "4bd7ebee0b779c74412006a0",
             "location": {
              "address": "Ave Xaman-Ha Mza 9 y 10 Lote 1",
              "cc": "MX",
              "city": "Playa del Carmen",
              "country": "México",
              "crossStreet": "Sayil",
              "formattedAddress": [
               "Ave Xaman-Ha Mza 9 y 10 Lote 1 (Sayil)",
               "77710 Playa del Carmen, Quintana Roo",
               "México"
              ],
              "labeledLatLngs": [
               {
                "label": "display",
                "lat": 20.6114243932637,
                "lng": -87.08595513870873
               }
              ],
              "lat": 20.6114243932637,
              "lng": -87.08595513870873,
              "postalCode": "77710",
              "state": "Quintana Roo"
             },
             "name": "Riu Palace Riviera Maya",
             "photos": {
              "count": 0,
              "groups": []
             }
            }
           },
           {
            "reasons": {
             "count": 0,
             "items": [
              {
               "reasonName": "globalInteractionReason",
               "summary": "This spot is popular",
               "type": "general"
              }
             ]
            },
            "referralId": "e-1-4d222eff2eb1f04d6721fec1-5",
            "venue": {
             "categories": [
              {
               "icon": {
                "prefix": "https://ss3.4sqi.net/img/categories_v2/parks_outdoors/beach_",
                "suffix": ".png"
               },
               "id": "4bf58dd8d48988d1e2941735",
               "name": "Beach",
               "pluralName": "Beaches",
               "primary": true,
               "shortName": "Beach"
              }
             ],
             "id": "4d222eff2eb1f04d6721fec1",
             "location": {
              "address": "Ocean Riviera Paradise",
              "cc": "MX",
              "city": "Playa del Carmen",
              "country": "México",
              "formattedAddress": [
               "Ocean Riviera Paradise",
               "Playa del Carmen, Quintana Roo",
               "México"
              ],
              "labeledLatLngs": [
               {
                "label": "display",
                "lat": 20.66612379189923,
                "lng": -87.02984509815855
               }
              ],
              "lat": 20.66612379189923,
              "lng": -87.02984509815855,
              "state": "Quintana Roo"
             },
             "name": "Playa - Beach",
             "photos": {
              "count": 0,
              "groups": []
             }
            }
           },
           {
            "reasons": {
             "count": 0,
             "items": [
              {
               "reasonName": "globalInteractionReason",
               "summary": "This spot is popular",
               "type": "general"
              }
             ]
            },
            "referralId": "e-1-4bc9e453cc8cd13abc5cbccf-6",
            "venue": {
             "categories": [
              {
               "icon": {
                "prefix": "https://ss3.4sqi.net/img/categories_v2/travel/resort_",
                "suffix": ".png"
               },
               "id": "4bf58dd8d48988d12f951735",
               "name": "Resort",
               "pluralName": "Resorts",
               "primary": true,
               "shortName": "Resort"
              }
             ],
             "id": "4bc9e453cc8cd13abc5cbccf",
             "location": {
              "address": "Bahia del Espiritu Santo",
              "cc": "MX",
              "city": "Playa del Carmen",
              "country": "México",
              "crossStreet": "Abraira de Arriba",
              "formattedAddress": [
               "Bahia del Espiritu Santo (Abraira de Arriba)",
               "77710 Playa del Carmen, Quintana Roo",
               "México"
              ],
              "labeledLatLngs": [
               {
                "label": "display",
                "lat": 20.62010697407601,
                "lng": -87.076284438853
               }
              ],
              "lat": 20.62010697407601,
              "lng": -87.076284438853,
              "postalCode": "77710",
              "state": "Quintana Roo"
             },
             "name": "Playacar Palace",
             "photos": {
              "count": 0,
              "groups": []
             }
            }
           },
           {
            "flags": {
             "outsideRadius": true
            },
            "reasons": {
             "count": 0,
             "items": [
              {
               "reasonName": "globalInteractionReason",
               "summary": "This spot is popular",
               "type": "general"
              }
             ]
            },
            "referralId": "e-1-51e032f2498e6f47a2c4f759-7",
            "venue": {
             "categories": [
              {
               "icon": {
                "prefix": "https://ss3.4sqi.net/img/categories_v2/travel/resort_",
                "suffix": ".png"
               },
               "id": "4bf58dd8d48988d12f951735",
               "name": "Resort",
               "pluralName": "Resorts",
               "primary": true,
               "shortName": "Resort"
              }
             ],
             "id": "51e032f2498e6f47a2c4f759",
             "location": {
              "address": "Ctra. Chetumal - Puerto Juárez, km. 309",
              "cc": "MX",
              "city": "Playa del Carmen",
              "country": "México",
              "formattedAddress": [
               "Ctra. Chetumal - Puerto Juárez, km. 309",
               "77710 Playa del Carmen, Quintana Roo",
               "México"
              ],
              "labeledLatLngs": [
               {
                "label": "display",
                "lat": 20.755566191877893,
                "lng": -86.9591843740296
               }
              ],
              "lat": 20.755566191877893,
              "lng": -86.9591843740296,
              "postalCode": "77710",
              "state": "Quintana Roo"
             },
             "name": "Iberostar Grand Hotel Paraíso",
             "photos": {
              "count": 0,
              "groups": []
             }
            }
           },
           {
            "flags": {
             "outsideRadius": true
            },
            "reasons": {
             "count": 0,
             "items": [
              {
               "reasonName": "globalInteractionReason",
               "summary": "This spot is popular",
               "type": "general"
              }
             ]
            },
            "referralId": "e-1-4daddb088154b108fec7e347-8",
            "venue": {
             "categories": [
              {
               "icon": {
                "prefix": "https://ss3.4sqi.net/img/categories_v2/parks_outdoors/pool_",
                "suffix": ".png"
               },
               "id": "4bf58dd8d48988d132951735",
               "name": "Hotel Pool",
               "pluralName": "Hotel Pools",
               "primary": true,
               "shortName": "Pool"
              }
             ],
             "id": "4daddb088154b108fec7e347",
             "location": {
              "address": "Grand Luxxe",
              "cc": "MX",
              "city": "Playa del Carmen",
              "country": "México",
              "formattedAddress": [
               "Grand Luxxe",
               "77710 Playa del Carmen, Quintana Roo",
               "México"
              ],
              "labeledLatLngs": [
               {
                "label": "display",
                "lat": 20.765080605786615,
                "lng": -86.95024321210686
               }
              ],
              "lat": 20.765080605786615,
              "lng": -86.95024321210686,
              "postalCode": "77710",
              "state": "Quintana Roo"
             },
             "name": "Alberca - Pool (Alberca)",
             "photos": {
              "count": 0,
              "groups": []
             }
            }
           },
           {
            "reasons": {
             "count": 0,
             "items": [
              {
               "reasonName": "globalInteractionReason",
               "summary": "This spot is popular",
               "type": "general"
              }
             ]
            },
            "referralId": "e-1-4fde52c6e4b09473e238dce4-9",
            "venue": {
             "categories": [
              {
               "icon": {
                "prefix": "https://ss3.4sqi.net/img/categories_v2/parks_outdoors/beach_",
                "suffix": ".png"
               },
               "id": "4bf58dd8d48988d1e2941735",
               "name": "Beach",
               "pluralName": "Beaches",
               "primary": true,
               "shortName": "Beach"
              }
             ],
             "id": "4fde52c6e4b09473e238dce4",
             "location": {
              "address": "Playa del Carmen",
              "cc": "MX",
              "city": "Playa del Carmen",
              "country": "México",
              "formattedAddress": [
               "Playa del Carmen",
               "77717 Playa Del Carmen, Quintana Roo",
               "México"
              ],
              "labeledLatLngs": [
               {
                "label": "display",
                "lat": 20.608531,
                "lng": -87.085927
               }
              ],
              "lat": 20.608531,
              "lng": -87.085927,
              "postalCode": "77717",
              "state": "Quintana Roo"
             },
             "name": "Playacar Beach",
             "photos": {
              "count": 0,
              "groups": []
             }
            }
           },
           {
            "reasons": {
             "count": 0,
             "items": [
              {
               "reasonName": "globalInteractionReason",
               "summary": "This spot is popular",
               "type": "general"
              }
             ]
            },
            "referralId": "e-1-4c22a7cb13c00f4764e687de-10",
            "venue": {
             "categories": [
              {
               "icon": {
                "prefix": "https://ss3.4sqi.net/img/categories_v2/food/french_",
                "suffix": ".png"
               },
               "id": "4bf58dd8d48988d10c941735",
               "name": "French Restaurant",
               "pluralName": "French Restaurants",
               "primary": true,
               "shortName": "French"
              }
             ],
             "id": "4c22a7cb13c00f4764e687de",
             "location": {
              "address": "5ta Av.",
              "cc": "MX",
              "city": "Playa del Carmen",
              "country": "México",
              "crossStreet": "Calle 34",
              "formattedAddress": [
               "5ta Av. (Calle 34)",
               "Playa del Carmen, Quintana Roo",
               "México"
              ],
              "labeledLatLngs": [
               {
                "label": "display",
                "lat": 20.633791170480357,
                "lng": -87.06731765334713
               }
              ],
              "lat": 20.633791170480357,
              "lng": -87.06731765334713,
              "state": "Quintana Roo"
             },
             "name": "Chez Céline",
             "photos": {
              "count": 0,
              "groups": []
             }
            }
           },
           {
            "reasons": {
             "count": 0,
             "items": [
              {
               "reasonName": "globalInteractionReason",
               "summary": "This spot is popular",
               "type": "general"
              }
             ]
            },
            "referralId": "e-1-4e8031ab61afa6eeac961a6c-11",
            "venue": {
             "categories": [
              {
               "icon": {
                "prefix": "https://ss3.4sqi.net/img/categories_v2/travel/hotel_",
                "suffix": ".png"
               },
               "id": "4bf58dd8d48988d1fa931735",
               "name": "Hotel",
               "pluralName": "Hotels",
               "primary": true,
               "shortName": "Hotel"
              }
             ],
             "id": "4e8031ab61afa6eeac961a6c",
             "location": {
              "address": "Paseo Xaman-ha",
              "cc": "MX",
              "city": "Playa del Carmen",
              "country": "México",
              "formattedAddress": [
               "Paseo Xaman-ha",
               "Playa del Carmen, Quintana Roo",
               "México"
              ],
              "labeledLatLngs": [
               {
                "label": "display",
                "lat": 20.6071180790533,
                "lng": -87.09185701669665
               }
              ],
              "lat": 20.6071180790533,
              "lng": -87.09185701669665,
              "state": "Quintana Roo"
             },
             "name": "Hotel Riu Palace Mexico",
             "photos": {
              "count": 0,
              "groups": []
             }
            }
           },
           {
            "reasons": {
             "count": 0,
             "items": [
              {
               "reasonName": "globalInteractionReason",
               "summary": "This spot is popular",
               "type": "general"
              }
             ]
            },
            "referralId": "e-1-5abaf23b4a1cc02d3826b7fc-12",
            "venue": {
             "categories": [
              {
               "icon": {
                "prefix": "https://ss3.4sqi.net/img/categories_v2/shops/departmentstore_",
                "suffix": ".png"
               },
               "id": "4bf58dd8d48988d1f6941735",
               "name": "Department Store",
               "pluralName": "Department Stores",
               "primary": true,
               "shortName": "Department Store"
              }
             ],
             "id": "5abaf23b4a1cc02d3826b7fc",
             "location": {
              "address": "Paseo del Carmen",
              "cc": "MX",
              "city": "Playa del Carmen",
              "country": "México",
              "crossStreet": "10 Avenida",
              "formattedAddress": [
               "Paseo del Carmen (10 Avenida)",
               "77713 Playa del Carmen, QROO",
               "México"
              ],
              "labeledLatLngs": [
               {
                "label": "display",
                "lat": 20.62138440893505,
                "lng": -87.07748553789651
               }
              ],
              "lat": 20.62138440893505,
              "lng": -87.07748553789651,
              "postalCode": "77713",
              "state": "QROO"
             },
             "name": "MINISO",
             "photos": {
              "count": 0,
              "groups": []
             }
            }
           },
           {
            "reasons": {
             "count": 0,
             "items": [
              {
               "reasonName": "globalInteractionReason",
               "summary": "This spot is popular",
               "type": "general"
              }
             ]
            },
            "referralId": "e-1-4ce098ca3644a09315f7589f-13",
            "venue": {
             "categories": [
              {
               "icon": {
                "prefix": "https://ss3.4sqi.net/img/categories_v2/parks_outdoors/default_",
                "suffix": ".png"
               },
               "id": "52e81612bcbc57f1066b7a25",
               "name": "Pedestrian Plaza",
               "pluralName": "Pedestrian Plazas",
               "primary": true,
               "shortName": "Pedestrian Street/Plaza"
              }
             ],
             "id": "4ce098ca3644a09315f7589f",
             "location": {
              "address": "5a Ave.",
              "cc": "MX",
              "city": "Playa del Carmen",
              "country": "México",
              "crossStreet": "20 Nte",
              "formattedAddress": [
               "5a Ave. (20 Nte)",
               "77710 Playa del Carmen, Quintana Roo",
               "México"
              ],
              "lat": 20.626441963420188,
              "lng": -87.07336015735162,
              "postalCode": "77710",
              "state": "Quintana Roo"
             },
             "name": "5ª Avenida",
             "photos": {
              "count": 0,
              "groups": []
             }
            }
           },
           {
            "reasons": {
             "count": 0,
             "items": [
              {
               "reasonName": "globalInteractionReason",
               "summary": "This spot is popular",
               "type": "general"
              }
             ]
            },
            "referralId": "e-1-539097c6498ee57f7d881a55-14",
            "venue": {
             "categories": [
              {
               "icon": {
                "prefix": "https://ss3.4sqi.net/img/categories_v2/food/default_",
                "suffix": ".png"
               },
               "id": "52e81612bcbc57f1066b79f4",
               "name": "Buffet",
               "pluralName": "Buffets",
               "primary": true,
               "shortName": "Buffet"
              }
             ],
             "id": "539097c6498ee57f7d881a55",
             "location": {
              "cc": "MX",
              "city": "Playa del Carmen",
              "country": "México",
              "formattedAddress": [
               "Playa del Carmen, Quintana Roo",
               "México"
              ],
              "labeledLatLngs": [
               {
                "label": "display",
                "lat": 20.60195374795605,
                "lng": -87.09377141223476
               }
              ],
              "lat": 20.60195374795605,
              "lng": -87.09377141223476,
              "state": "Quintana Roo"
             },
             "name": "Festival Grand Buffet",
             "photos": {
              "count": 0,
              "groups": []
             }
            }
           },
           {
            "reasons": {
             "count": 0,
             "items": [
              {
               "reasonName": "globalInteractionReason",
               "summary": "This spot is popular",
               "type": "general"
              }
             ]
            },
            "referralId": "e-1-54271240498e2e36b59d8048-15",
            "venue": {
             "categories": [
              {
               "icon": {
                "prefix": "https://ss3.4sqi.net/img/categories_v2/travel/resort_",
                "suffix": ".png"
               },
               "id": "4bf58dd8d48988d12f951735",
               "name": "Resort",
               "pluralName": "Resorts",
               "primary": true,
               "shortName": "Resort"
              }
             ],
             "id": "54271240498e2e36b59d8048",
             "location": {
              "address": "Prolongacion Quinta Avenida, Mz 20, LOte 006",
              "cc": "MX",
              "city": "Riviera Maya",
              "country": "México",
              "formattedAddress": [
               "Prolongacion Quinta Avenida, Mz 20, LOte 006",
               "77710 Riviera Maya, Quintana Roo",
               "México"
              ],
              "labeledLatLngs": [
               {
                "label": "display",
                "lat": 20.67075700188304,
                "lng": -87.02904750076557
               }
              ],
              "lat": 20.67075700188304,
              "lng": -87.02904750076557,
              "postalCode": "77710",
              "state": "Quintana Roo"
             },
             "name": "Platinum Yucatan Princess",
             "photos": {
              "count": 0,
              "groups": []
             }
            }
           },
           {
            "reasons": {
             "count": 0,
             "items": [
              {
               "reasonName": "globalInteractionReason",
               "summary": "This spot is popular",
               "type": "general"
              }
             ]
            },
            "referralId": "e-1-4ce60cbc9f776ea870d54f22-16",
            "venue": {
             "categories": [
              {
               "icon": {
                "prefix": "https://ss3.4sqi.net/img/categories_v2/nightlife/pub_",
                "suffix": ".png"
               },
               "id": "4bf58dd8d48988d116941735",
               "name": "Bar",
               "pluralName": "Bars",
               "primary": true,
               "shortName": "Bar"
              }
             ],
             "id": "4ce60cbc9f776ea870d54f22",
             "location": {
              "address": "The Royal Resort",
              "cc": "MX",
              "city": "Playa del Carmen",
              "country": "México",
              "formattedAddress": [
               "The Royal Resort",
               "Playa del Carmen, Quintana Roo",
               "México"
              ],
              "labeledLatLngs": [
               {
                "label": "display",
                "lat": 20.62953978668051,
                "lng": -87.06815105419838
               }
              ],
              "lat": 20.62953978668051,
              "lng": -87.06815105419838,
              "state": "Quintana Roo"
             },
             "name": "Lobby Bar",
             "photos": {
              "count": 0,
              "groups": []
             }
            }
           },
           {
            "reasons": {
             "count": 0,
             "items": [
              {
               "reasonName": "globalInteractionReason",
               "summary": "This spot is popular",
               "type": "general"
              }
             ]
            },
            "referralId": "e-1-510be59ce4b040b58cebee5d-17",
            "venue": {
             "categories": [
              {
               "icon": {
                "prefix": "https://ss3.4sqi.net/img/categories_v2/food/cafe_",
                "suffix": ".png"
               },
               "id": "4bf58dd8d48988d16d941735",
               "name": "Café",
               "pluralName": "Cafés",
               "primary": true,
               "shortName": "Café"
              }
             ],
             "id": "510be59ce4b040b58cebee5d",
             "location": {
              "cc": "MX",
              "city": "Playa del Carmen",
              "country": "México",
              "formattedAddress": [
               "Playa del Carmen, Quintana Roo",
               "México"
              ],
              "labeledLatLngs": [
               {
                "label": "display",
                "lat": 20.602541,
                "lng": -87.094501
               }
              ],
              "lat": 20.602541,
              "lng": -87.094501,
              "state": "Quintana Roo"
             },
             "name": "Cupcake Cafe",
             "photos": {
              "count": 0,
              "groups": []
             }
            }
           },
           {
            "reasons": {
             "count": 0,
             "items": [
              {
               "reasonName": "globalInteractionReason",
               "summary": "This spot is popular",
               "type": "general"
              }
             ]
            },
            "referralId": "e-1-5a40b028c4df1d5eb2e3ab11-18",
            "venue": {
             "categories": [
              {
               "icon": {
                "prefix": "https://ss3.4sqi.net/img/categories_v2/food/steakhouse_",
                "suffix": ".png"
               },
               "id": "4bf58dd8d48988d1cc941735",
               "name": "Steakhouse",
               "pluralName": "Steakhouses",
               "primary": true,
               "shortName": "Steakhouse"
              }
             ],
             "id": "5a40b028c4df1d5eb2e3ab11",
             "location": {
              "cc": "MX",
              "city": "Playa del Carmen",
              "country": "México",
              "formattedAddress": [
               "77710 Playa del Carmen, QROO",
               "México"
              ],
              "labeledLatLngs": [
               {
                "label": "display",
                "lat": 20.627535102924856,
                "lng": -87.07181483668064
               }
              ],
              "lat": 20.627535102924856,
              "lng": -87.07181483668064,
              "postalCode": "77710",
              "state": "QROO"
             },
             "name": "Sonora Grill PRIME",
             "photos": {
              "count": 0,
              "groups": []
             }
            }
           },
           {
            "reasons": {
             "count": 0,
             "items": [
              {
               "reasonName": "globalInteractionReason",
               "summary": "This spot is popular",
               "type": "general"
              }
             ]
            },
            "referralId": "e-1-57a3895c498e3f28534c1d44-19",
            "venue": {
             "categories": [
              {
               "icon": {
                "prefix": "https://ss3.4sqi.net/img/categories_v2/parks_outdoors/pool_",
                "suffix": ".png"
               },
               "id": "4bf58dd8d48988d15e941735",
               "name": "Pool",
               "pluralName": "Pools",
               "primary": true,
               "shortName": "Pool"
              }
             ],
             "id": "57a3895c498e3f28534c1d44",
             "location": {
              "address": "Playacar",
              "cc": "MX",
              "city": "Playa del Carmen",
              "country": "México",
              "formattedAddress": [
               "Playacar",
               "77710 Playa del Carmen, Quintana Roo",
               "México"
              ],
              "labeledLatLngs": [
               {
                "label": "display",
                "lat": 20.604037390352282,
                "lng": -87.09046125472612
               }
              ],
              "lat": 20.604037390352282,
              "lng": -87.09046125472612,
              "postalCode": "77710",
              "state": "Quintana Roo"
             },
             "name": "RIU Yucatan (Swimming Pool)",
             "photos": {
              "count": 0,
              "groups": []
             }
            }
           },
           {
            "reasons": {
             "count": 0,
             "items": [
              {
               "reasonName": "globalInteractionReason",
               "summary": "This spot is popular",
               "type": "general"
              }
             ]
            },
            "referralId": "e-1-51e02da8498e3733d6119da8-20",
            "venue": {
             "categories": [
              {
               "icon": {
                "prefix": "https://ss3.4sqi.net/img/categories_v2/arts_entertainment/waterpark_",
                "suffix": ".png"
               },
               "id": "4bf58dd8d48988d193941735",
               "name": "Water Park",
               "pluralName": "Water Parks",
               "primary": true,
               "shortName": "Water Park"
              }
             ],
             "id": "51e02da8498e3733d6119da8",
             "location": {
              "cc": "MX",
              "city": "Playa del Carmen",
              "country": "México",
              "formattedAddress": [
               "Quintana Roo",
               "México"
              ],
              "labeledLatLngs": [
               {
                "label": "display",
                "lat": 20.662402615804513,
                "lng": -87.03767115611883
               }
              ],
              "lat": 20.662402615804513,
              "lng": -87.03767115611883,
              "state": "Quintana Roo"
             },
             "name": "Sandos AquaPark",
             "photos": {
              "count": 0,
              "groups": []
             }
            }
           },
           {
            "reasons": {
             "count": 0,
             "items": [
              {
               "reasonName": "globalInteractionReason",
               "summary": "This spot is popular",
               "type": "general"
              }
             ]
            },
            "referralId": "e-1-4fb79bcbe4b04e126fb62a04-21",
            "venue": {
             "categories": [
              {
               "icon": {
                "prefix": "https://ss3.4sqi.net/img/categories_v2/parks_outdoors/beach_",
                "suffix": ".png"
               },
               "id": "4bf58dd8d48988d1e2941735",
               "name": "Beach",
               "pluralName": "Beaches",
               "primary": true,
               "shortName": "Beach"
              }
             ],
             "id": "4fb79bcbe4b04e126fb62a04",
             "location": {
              "address": "Av. Juárez",
              "cc": "MX",
              "city": "Playa del Carmen",
              "country": "México",
              "formattedAddress": [
               "Av. Juárez",
               "77710 Playa del Carmen, Quintana Roo",
               "México"
              ],
              "labeledLatLngs": [
               {
                "label": "display",
                "lat": 20.62156841130323,
                "lng": -87.07440733909607
               }
              ],
              "lat": 20.62156841130323,
              "lng": -87.07440733909607,
              "postalCode": "77710",
              "state": "Quintana Roo"
             },
             "name": "Playa Fundadores",
             "photos": {
              "count": 0,
              "groups": []
             }
            }
           },
           {
            "reasons": {
             "count": 0,
             "items": [
              {
               "reasonName": "globalInteractionReason",
               "summary": "This spot is popular",
               "type": "general"
              }
             ]
            },
            "referralId": "e-1-57853c8a498e6dc86f724aab-22",
            "venue": {
             "categories": [
              {
               "icon": {
                "prefix": "https://ss3.4sqi.net/img/categories_v2/parks_outdoors/pool_",
                "suffix": ".png"
               },
               "id": "4bf58dd8d48988d15e941735",
               "name": "Pool",
               "pluralName": "Pools",
               "primary": true,
               "shortName": "Pool"
              }
             ],
             "id": "57853c8a498e6dc86f724aab",
             "location": {
              "cc": "MX",
              "city": "Playa del Carmen",
              "country": "México",
              "formattedAddress": [
               "Quintana Roo",
               "México"
              ],
              "labeledLatLngs": [
               {
                "label": "display",
                "lat": 20.60716586650807,
                "lng": -87.08782153406018
               }
              ],
              "lat": 20.60716586650807,
              "lng": -87.08782153406018,
              "state": "Quintana Roo"
             },
             "name": "Pool Bar Riu Playcar",
             "photos": {
              "count": 0,
              "groups": []
             }
            }
           },
           {
            "reasons": {
             "count": 0,
             "items": [
              {
               "reasonName": "globalInteractionReason",
               "summary": "This spot is popular",
               "type": "general"
              }
             ]
            },
            "referralId": "e-1-4e9ca5bd0cd6b41aacf4f538-23",
            "venue": {
             "categories": [
              {
               "icon": {
                "prefix": "https://ss3.4sqi.net/img/categories_v2/parks_outdoors/beach_",
                "suffix": ".png"
               },
               "id": "4bf58dd8d48988d1e2941735",
               "name": "Beach",
               "pluralName": "Beaches",
               "primary": true,
               "shortName": "Beach"
              }
             ],
             "id": "4e9ca5bd0cd6b41aacf4f538",
             "location": {
              "address": "Av. Constituyentes",
              "cc": "MX",
              "city": "Playa del Carmen",
              "country": "México",
              "formattedAddress": [
               "Av. Constituyentes",
               "77710 Playa del Carmen, Quintana Roo",
               "México"
              ],
              "labeledLatLngs": [
               {
                "label": "display",
                "lat": 20.62790974600037,
                "lng": -87.06670225934865
               }
              ],
              "lat": 20.62790974600037,
              "lng": -87.06670225934865,
              "postalCode": "77710",
              "state": "Quintana Roo"
             },
             "name": "Constituyentes Beach",
             "photos": {
              "count": 0,
              "groups": []
             }
            }
           },
           {
            "reasons": {
             "count": 0,
             "items": [
              {
               "reasonName": "globalInteractionReason",
               "summary": "This spot is popular",
               "type": "general"
              }
             ]
            },
            "referralId": "e-1-4b65e626f964a520f8062be3-24",
            "venue": {
             "categories": [
              {
               "icon": {
                "prefix": "https://ss3.4sqi.net/img/categories_v2/parks_outdoors/beach_",
                "suffix": ".png"
               },
               "id": "4bf58dd8d48988d1e2941735",
               "name": "Beach",
               "pluralName": "Beaches",
               "primary": true,
               "shortName": "Beach"
              }
             ],
             "id": "4b65e626f964a520f8062be3",
             "location": {
              "address": "Calle 28 Norte, Mza. 10 Lt. 8",
              "cc": "MX",
              "city": "Playa del Carmen",
              "country": "México",
              "formattedAddress": [
               "Calle 28 Norte, Mza. 10 Lt. 8",
               "77710 Playa del Carmen, Quintana Roo",
               "México"
              ],
              "lat": 20.631207607646555,
              "lng": -87.06491654949264,
              "postalCode": "77710",
              "state": "Quintana Roo"
             },
             "name": "Mamita's Beach Club",
             "photos": {
              "count": 0,
              "groups": []
             },
             "venuePage": {
              "id": "45297089"
             }
            }
           },
           {
            "reasons": {
             "count": 0,
             "items": [
              {
               "reasonName": "globalInteractionReason",
               "summary": "This spot is popular",
               "type": "general"
              }
             ]
            },
            "referralId": "e-1-4bca9491511f95219830b0c7-25",
            "venue": {
             "categories": [
              {
               "icon": {
                "prefix": "https://ss3.4sqi.net/img/categories_v2/food/taco_",
                "suffix": ".png"
               },
               "id": "4bf58dd8d48988d151941735",
               "name": "Taco Place",
               "pluralName": "Taco Places",
               "primary": true,
               "shortName": "Tacos"
              }
             ],
             "id": "4bca9491511f95219830b0c7",
             "location": {
              "address": "Av. Constituyentes",
              "cc": "MX",
              "city": "Playa del Carmen",
              "country": "México",
              "crossStreet": "Av. 25 y Av. 30",
              "formattedAddress": [
               "Av. Constituyentes (Av. 25 y Av. 30)",
               "Playa del Carmen, Quintana Roo",
               "México"
              ],
              "labeledLatLngs": [
               {
                "label": "display",
                "lat": 20.632714776792472,
                "lng": -87.07400701234882
               }
              ],
              "lat": 20.632714776792472,
              "lng": -87.07400701234882,
              "state": "Quintana Roo"
             },
             "name": "El Fogón",
             "photos": {
              "count": 0,
              "groups": []
             }
            }
           },
           {
            "flags": {
             "outsideRadius": true
            },
            "reasons": {
             "count": 0,
             "items": [
              {
               "reasonName": "globalInteractionReason",
               "summary": "This spot is popular",
               "type": "general"
              }
             ]
            },
            "referralId": "e-1-57311972cd10f947fec21381-26",
            "venue": {
             "categories": [
              {
               "icon": {
                "prefix": "https://ss3.4sqi.net/img/categories_v2/parks_outdoors/park_",
                "suffix": ".png"
               },
               "id": "4bf58dd8d48988d163941735",
               "name": "Park",
               "pluralName": "Parks",
               "primary": true,
               "shortName": "Park"
              }
             ],
             "id": "57311972cd10f947fec21381",
             "location": {
              "cc": "MX",
              "city": "Playa del Carmen",
              "country": "México",
              "formattedAddress": [
               "Playa del Carmen, Quintana Roo",
               "México"
              ],
              "labeledLatLngs": [
               {
                "label": "display",
                "lat": 20.584863137412565,
                "lng": -87.12594788378976
               }
              ],
              "lat": 20.584863137412565,
              "lng": -87.12594788378976,
              "state": "Quintana Roo"
             },
             "name": "Xenses",
             "photos": {
              "count": 0,
              "groups": []
             }
            }
           },
           {
            "flags": {
             "outsideRadius": true
            },
            "reasons": {
             "count": 0,
             "items": [
              {
               "reasonName": "globalInteractionReason",
               "summary": "This spot is popular",
               "type": "general"
              }
             ]
            },
            "referralId": "e-1-4c6b77890440b713edb45cce-27",
            "venue": {
             "categories": [
              {
               "icon": {
                "prefix": "https://ss3.4sqi.net/img/categories_v2/travel/resort_",
                "suffix": ".png"
               },
               "id": "4bf58dd8d48988d12f951735",
               "name": "Resort",
               "pluralName": "Resorts",
               "primary": true,
               "shortName": "Resort"
              }
             ],
             "id": "4c6b77890440b713edb45cce",
             "location": {
              "address": "Carretera Cancún-Tulum, Km. 54",
              "cc": "MX",
              "city": "Playa del Carmen",
              "country": "México",
              "formattedAddress": [
               "Carretera Cancún-Tulum, Km. 54",
               "77760 Playa del Carmen, Quintana Roo",
               "México"
              ],
              "labeledLatLngs": [
               {
                "label": "display",
                "lat": 20.70567930953365,
                "lng": -87.01027374814534
               }
              ],
              "lat": 20.70567930953365,
              "lng": -87.01027374814534,
              "postalCode": "77760",
              "state": "Quintana Roo"
             },
             "name": "Hacienda Tres Ríos, Resort, Spa and Nature Park",
             "photos": {
              "count": 0,
              "groups": []
             },
             "venuePage": {
              "id": "37774736"
             }
            }
           },
           {
            "flags": {
             "outsideRadius": true
            },
            "reasons": {
             "count": 0,
             "items": [
              {
               "reasonName": "globalInteractionReason",
               "summary": "This spot is popular",
               "type": "general"
              }
             ]
            },
            "referralId": "e-1-50bbb455e4b0040a86081d2c-28",
            "venue": {
             "categories": [
              {
               "icon": {
                "prefix": "https://ss3.4sqi.net/img/categories_v2/parks_outdoors/pool_",
                "suffix": ".png"
               },
               "id": "4bf58dd8d48988d132951735",
               "name": "Hotel Pool",
               "pluralName": "Hotel Pools",
               "primary": true,
               "shortName": "Pool"
              }
             ],
             "id": "50bbb455e4b0040a86081d2c",
             "location": {
              "address": "The Grand Mayan",
              "cc": "MX",
              "city": "Playa del Carmen",
              "country": "México",
              "formattedAddress": [
               "The Grand Mayan",
               "77710 Playa del Carmen, Quintana Roo",
               "México"
              ],
              "labeledLatLngs": [
               {
                "label": "display",
                "lat": 20.76456524501781,
                "lng": -86.95283791721153
               }
              ],
              "lat": 20.76456524501781,
              "lng": -86.95283791721153,
              "postalCode": "77710",
              "state": "Quintana Roo"
             },
             "name": "Alberca - Pool",
             "photos": {
              "count": 0,
              "groups": []
             }
            }
           },
           {
            "reasons": {
             "count": 0,
             "items": [
              {
               "reasonName": "globalInteractionReason",
               "summary": "This spot is popular",
               "type": "general"
              }
             ]
            },
            "referralId": "e-1-4cf7c459069c60fced2fbcc8-29",
            "venue": {
             "categories": [
              {
               "icon": {
                "prefix": "https://ss3.4sqi.net/img/categories_v2/food/coffeeshop_",
                "suffix": ".png"
               },
               "id": "4bf58dd8d48988d1e0931735",
               "name": "Coffee Shop",
               "pluralName": "Coffee Shops",
               "primary": true,
               "shortName": "Coffee Shop"
              }
             ],
             "id": "4cf7c459069c60fced2fbcc8",
             "location": {
              "address": "5ta Av.",
              "cc": "MX",
              "city": "Playa del Carmen",
              "country": "México",
              "crossStreet": "Av. Constituyentes",
              "formattedAddress": [
               "5ta Av. (Av. Constituyentes)",
               "77710 Playa del Carmen, Quintana Roo",
               "México"
              ],
              "labeledLatLngs": [
               {
                "label": "display",
                "lat": 20.63008160597109,
                "lng": -87.07004642674661
               }
              ],
              "lat": 20.63008160597109,
              "lng": -87.07004642674661,
              "postalCode": "77710",
              "state": "Quintana Roo"
             },
             "name": "Ah Cacao Chocolate Café",
             "photos": {
              "count": 0,
              "groups": []
             }
            }
           },
           {
            "reasons": {
             "count": 0,
             "items": [
              {
               "reasonName": "globalInteractionReason",
               "summary": "This spot is popular",
               "type": "general"
              }
             ]
            },
            "referralId": "e-1-4fd271e1e4b03f13ec0fe2a5-30",
            "venue": {
             "categories": [
              {
               "icon": {
                "prefix": "https://ss3.4sqi.net/img/categories_v2/food/seafood_",
                "suffix": ".png"
               },
               "id": "4bf58dd8d48988d1ce941735",
               "name": "Seafood Restaurant",
               "pluralName": "Seafood Restaurants",
               "primary": true,
               "shortName": "Seafood"
              }
             ],
             "id": "4fd271e1e4b03f13ec0fe2a5",
             "location": {
              "address": "Av. Constituyentes",
              "cc": "MX",
              "city": "Playa del Carmen",
              "country": "México",
              "crossStreet": "entre. 5a y 1a Av.",
              "formattedAddress": [
               "Av. Constituyentes (entre. 5a y 1a Av.)",
               "77720 Playa del carmen, Quintana Roo",
               "México"
              ],
              "labeledLatLngs": [
               {
                "label": "display",
                "lat": 20.62983505596421,
                "lng": -87.06950726435616
               }
              ],
              "lat": 20.62983505596421,
              "lng": -87.06950726435616,
              "postalCode": "77720",
              "state": "Quintana Roo"
             },
             "name": "Los Aguachiles",
             "photos": {
              "count": 0,
              "groups": []
             },
             "venuePage": {
              "id": "135745490"
             }
            }
           },
           {
            "reasons": {
             "count": 0,
             "items": [
              {
               "reasonName": "globalInteractionReason",
               "summary": "This spot is popular",
               "type": "general"
              }
             ]
            },
            "referralId": "e-1-4d72840f0d0ca1431e3aaa83-31",
            "venue": {
             "categories": [
              {
               "icon": {
                "prefix": "https://ss3.4sqi.net/img/categories_v2/parks_outdoors/beach_",
                "suffix": ".png"
               },
               "id": "4bf58dd8d48988d1e2941735",
               "name": "Beach",
               "pluralName": "Beaches",
               "primary": true,
               "shortName": "Beach"
              }
             ],
             "id": "4d72840f0d0ca1431e3aaa83",
             "location": {
              "cc": "MX",
              "city": "Playa del Carmen",
              "country": "México",
              "formattedAddress": [
               "Playa Del Carmen, Quintana Roo",
               "México"
              ],
              "labeledLatLngs": [
               {
                "label": "display",
                "lat": 20.66211397780408,
                "lng": -87.03253269195557
               }
              ],
              "lat": 20.66211397780408,
              "lng": -87.03253269195557,
              "state": "Quintana Roo"
             },
             "name": "Xcalacoco",
             "photos": {
              "count": 0,
              "groups": []
             }
            }
           },
           {
            "flags": {
             "outsideRadius": true
            },
            "reasons": {
             "count": 0,
             "items": [
              {
               "reasonName": "globalInteractionReason",
               "summary": "This spot is popular",
               "type": "general"
              }
             ]
            },
            "referralId": "e-1-4b8c4dcdf964a52087c932e3-32",
            "venue": {
             "categories": [
              {
               "icon": {
                "prefix": "https://ss3.4sqi.net/img/categories_v2/travel/hotel_",
                "suffix": ".png"
               },
               "id": "4bf58dd8d48988d1fa931735",
               "name": "Hotel",
               "pluralName": "Hotels",
               "primary": true,
               "shortName": "Hotel"
              }
             ],
             "id": "4b8c4dcdf964a52087c932e3",
             "location": {
              "address": "Carretera Federal Cancún-Playa del Carmen km 298",
              "cc": "MX",
              "city": "Playa del Carmen",
              "country": "México",
              "formattedAddress": [
               "Carretera Federal Cancún-Playa del Carmen km 298",
               "Playa del Carmen, Quintana Roo",
               "México"
              ],
              "labeledLatLngs": [
               {
                "label": "display",
                "lat": 20.69213160033114,
                "lng": -87.02642092652266
               }
              ],
              "lat": 20.69213160033114,
              "lng": -87.02642092652266,
              "state": "Quintana Roo"
             },
             "name": "Rosewood Mayakoba",
             "photos": {
              "count": 0,
              "groups": []
             },
             "venuePage": {
              "id": "133073118"
             }
            }
           },
           {
            "reasons": {
             "count": 0,
             "items": [
              {
               "reasonName": "globalInteractionReason",
               "summary": "This spot is popular",
               "type": "general"
              }
             ]
            },
            "referralId": "e-1-5010b19ce4b06b8dcaa2ab1d-33",
            "venue": {
             "categories": [
              {
               "icon": {
                "prefix": "https://ss3.4sqi.net/img/categories_v2/food/vegetarian_",
                "suffix": ".png"
               },
               "id": "4bf58dd8d48988d1d3941735",
               "name": "Vegetarian / Vegan Restaurant",
               "pluralName": "Vegetarian / Vegan Restaurants",
               "primary": true,
               "shortName": "Vegetarian / Vegan"
              }
             ],
             "id": "5010b19ce4b06b8dcaa2ab1d",
             "location": {
              "address": "Calle 26 (entre5y10)",
              "cc": "MX",
              "city": "Playa del Carmen",
              "country": "México",
              "crossStreet": "5ta Avenida",
              "formattedAddress": [
               "Calle 26 (entre5y10) (5ta Avenida)",
               "Playa Del Carmen, Quintana Roo",
               "México"
              ],
              "labeledLatLngs": [
               {
                "label": "display",
                "lat": 20.630178651491764,
                "lng": -87.07112943531399
               }
              ],
              "lat": 20.630178651491764,
              "lng": -87.07112943531399,
              "state": "Quintana Roo"
             },
             "name": "BIO-natural",
             "photos": {
              "count": 0,
              "groups": []
             }
            }
           },
           {
            "reasons": {
             "count": 0,
             "items": [
              {
               "reasonName": "globalInteractionReason",
               "summary": "This spot is popular",
               "type": "general"
              }
             ]
            },
            "referralId": "e-1-56297962498ed4fd69ac3c3e-34",
            "venue": {
             "categories": [
              {
               "icon": {
                "prefix": "https://ss3.4sqi.net/img/categories_v2/food/taco_",
                "suffix": ".png"
               },
               "id": "4bf58dd8d48988d151941735",
               "name": "Taco Place",
               "pluralName": "Taco Places",
               "primary": true,
               "shortName": "Tacos"
              }
             ],
             "id": "56297962498ed4fd69ac3c3e",
             "location": {
              "address": "Av. 30",
              "cc": "MX",
              "city": "Playa del Carmen",
              "country": "México",
              "crossStreet": "Calle 6 Bis",
              "formattedAddress": [
               "Av. 30 (Calle 6 Bis)",
               "77710 Playa Del Carmen, Quintana Roo",
               "México"
              ],
              "labeledLatLngs": [
               {
                "label": "display",
                "lat": 20.628299329704145,
                "lng": -87.07765189037993
               }
              ],
              "lat": 20.628299329704145,
              "lng": -87.07765189037993,
              "postalCode": "77710",
              "state": "Quintana Roo"
             },
             "name": "El Fogón Fiesta Jarocha",
             "photos": {
              "count": 0,
              "groups": []
             }
            }
           },
           {
            "reasons": {
             "count": 0,
             "items": [
              {
               "reasonName": "globalInteractionReason",
               "summary": "This spot is popular",
               "type": "general"
              }
             ]
            },
            "referralId": "e-1-4c86efb0d92ea0931a7a7272-35",
            "venue": {
             "categories": [
              {
               "icon": {
                "prefix": "https://ss3.4sqi.net/img/categories_v2/nightlife/default_",
                "suffix": ".png"
               },
               "id": "52e81612bcbc57f1066b7a0d",
               "name": "Beach Bar",
               "pluralName": "Beach Bars",
               "primary": true,
               "shortName": "Beach Bar"
              }
             ],
             "id": "4c86efb0d92ea0931a7a7272",
             "location": {
              "address": "6th",
              "cc": "MX",
              "city": "Playa del Carmen",
              "country": "México",
              "crossStreet": "con Playa",
              "formattedAddress": [
               "6th (con Playa)",
               "77710 Playa del Carmen, Qroo",
               "México"
              ],
              "labeledLatLngs": [
               {
                "label": "display",
                "lat": 20.624435395186193,
                "lng": -87.07254380428803
               }
              ],
              "lat": 20.624435395186193,
              "lng": -87.07254380428803,
              "postalCode": "77710",
              "state": "Qroo"
             },
             "name": "Fusion Beach Hotel Bar & Grill",
             "photos": {
              "count": 0,
              "groups": []
             }
            }
           },
           {
            "reasons": {
             "count": 0,
             "items": [
              {
               "reasonName": "globalInteractionReason",
               "summary": "This spot is popular",
               "type": "general"
              }
             ]
            },
            "referralId": "e-1-55229ff5498e86217e152626-36",
            "venue": {
             "categories": [
              {
               "icon": {
                "prefix": "https://ss3.4sqi.net/img/categories_v2/food/argentinian_",
                "suffix": ".png"
               },
               "id": "4bf58dd8d48988d16b941735",
               "name": "Brazilian Restaurant",
               "pluralName": "Brazilian Restaurants",
               "primary": true,
               "shortName": "Brazilian"
              }
             ],
             "id": "55229ff5498e86217e152626",
             "location": {
              "address": "Avenida 10 esquina con Calle 12",
              "cc": "MX",
              "city": "Playa del Carmen",
              "country": "México",
              "crossStreet": "Calle 12",
              "formattedAddress": [
               "Avenida 10 esquina con Calle 12 (Calle 12)",
               "Playa del Carmen, Quintana Roo",
               "México"
              ],
              "labeledLatLngs": [
               {
                "label": "display",
                "lat": 20.628029,
                "lng": -87.072544
               }
              ],
              "lat": 20.628029,
              "lng": -87.072544,
              "state": "Quintana Roo"
             },
             "name": "Bovino's",
             "photos": {
              "count": 0,
              "groups": []
             }
            }
           },
           {
            "reasons": {
             "count": 0,
             "items": [
              {
               "reasonName": "globalInteractionReason",
               "summary": "This spot is popular",
               "type": "general"
              }
             ]
            },
            "referralId": "e-1-4da9c5674b22f071eaa75316-37",
            "venue": {
             "categories": [
              {
               "icon": {
                "prefix": "https://ss3.4sqi.net/img/categories_v2/parks_outdoors/surfspot_",
                "suffix": ".png"
               },
               "id": "4bf58dd8d48988d1e3941735",
               "name": "Surf Spot",
               "pluralName": "Surf Spots",
               "primary": true,
               "shortName": "Surf Spot"
              }
             ],
             "id": "4da9c5674b22f071eaa75316",
             "location": {
              "address": "Carretera Federal Puerto Juarez Km 294 + 700",
              "cc": "MX",
              "city": "Playa del Carmen",
              "country": "México",
              "formattedAddress": [
               "Carretera Federal Puerto Juarez Km 294 + 700",
               "Playa del Carmen, QROO",
               "México"
              ],
              "labeledLatLngs": [
               {
                "label": "display",
                "lat": 20.652988801430674,
                "lng": -87.05064476933032
               }
              ],
              "lat": 20.652988801430674,
              "lng": -87.05064476933032,
              "state": "QROO"
             },
             "name": "Mareazul",
             "photos": {
              "count": 0,
              "groups": []
             }
            }
           },
           {
            "reasons": {
             "count": 0,
             "items": [
              {
               "reasonName": "globalInteractionReason",
               "summary": "This spot is popular",
               "type": "general"
              }
             ]
            },
            "referralId": "e-1-5ccf543b6e4650003993b7b8-38",
            "venue": {
             "categories": [
              {
               "icon": {
                "prefix": "https://ss3.4sqi.net/img/categories_v2/parks_outdoors/plaza_",
                "suffix": ".png"
               },
               "id": "4bf58dd8d48988d164941735",
               "name": "Plaza",
               "pluralName": "Plazas",
               "primary": true,
               "shortName": "Plaza"
              }
             ],
             "id": "5ccf543b6e4650003993b7b8",
             "location": {
              "address": "Av CTM",
              "cc": "MX",
              "city": "Playa del Carmen",
              "country": "México",
              "formattedAddress": [
               "Av CTM",
               "Playa Del Carmen, Quintana Roo",
               "México"
              ],
              "labeledLatLngs": [
               {
                "label": "display",
                "lat": 20.661666,
                "lng": -87.097879
               }
              ],
              "lat": 20.661666,
              "lng": -87.097879,
              "neighborhood": "Real Ibiza",
              "state": "Quintana Roo"
             },
             "name": "Public Market",
             "photos": {
              "count": 0,
              "groups": []
             }
            }
           },
           {
            "reasons": {
             "count": 0,
             "items": [
              {
               "reasonName": "globalInteractionReason",
               "summary": "This spot is popular",
               "type": "general"
              }
             ]
            },
            "referralId": "e-1-4e1f134c7d8ba0907aea0f72-39",
            "venue": {
             "categories": [
              {
               "icon": {
                "prefix": "https://ss3.4sqi.net/img/categories_v2/food/mexican_",
                "suffix": ".png"
               },
               "id": "4bf58dd8d48988d1c1941735",
               "name": "Mexican Restaurant",
               "pluralName": "Mexican Restaurants",
               "primary": true,
               "shortName": "Mexican"
              }
             ],
             "id": "4e1f134c7d8ba0907aea0f72",
             "location": {
              "address": "Fairmont Mayakoba, Riviera Maya",
              "cc": "MX",
              "city": "Playa del Carmen",
              "country": "México",
              "formattedAddress": [
               "Fairmont Mayakoba, Riviera Maya",
               "77710 Playa del Carmen, Quintana Roo",
               "México"
              ],
              "labeledLatLngs": [
               {
                "label": "display",
                "lat": 20.686135925551874,
                "lng": -87.02551735627486
               }
              ],
              "lat": 20.686135925551874,
              "lng": -87.02551735627486,
              "postalCode": "77710",
              "state": "Quintana Roo"
             },
             "name": "La Laguna Restaurant & Lounge",
             "photos": {
              "count": 0,
              "groups": []
             }
            }
           },
           {
            "reasons": {
             "count": 0,
             "items": [
              {
               "reasonName": "globalInteractionReason",
               "summary": "This spot is popular",
               "type": "general"
              }
             ]
            },
            "referralId": "e-1-4efe31a77ee5f14f38f865bf-40",
            "venue": {
             "categories": [
              {
               "icon": {
                "prefix": "https://ss3.4sqi.net/img/categories_v2/food/mexican_",
                "suffix": ".png"
               },
               "id": "4bf58dd8d48988d1c1941735",
               "name": "Mexican Restaurant",
               "pluralName": "Mexican Restaurants",
               "primary": true,
               "shortName": "Mexican"
              }
             ],
             "id": "4efe31a77ee5f14f38f865bf",
             "location": {
              "address": "5ta Avenida",
              "cc": "MX",
              "city": "Playa del Carmen",
              "country": "México",
              "crossStreet": "Calle 14",
              "formattedAddress": [
               "5ta Avenida (Calle 14)",
               "Playa del Carmen, Quintana Roo",
               "México"
              ],
              "labeledLatLngs": [
               {
                "label": "display",
                "lat": 20.62855939714326,
                "lng": -87.07097735389064
               }
              ],
              "lat": 20.62855939714326,
              "lng": -87.07097735389064,
              "state": "Quintana Roo"
             },
             "name": "Aldea Corazón",
             "photos": {
              "count": 0,
              "groups": []
             }
            }
           },
           {
            "reasons": {
             "count": 0,
             "items": [
              {
               "reasonName": "globalInteractionReason",
               "summary": "This spot is popular",
               "type": "general"
              }
             ]
            },
            "referralId": "e-1-55523f4f498ed7494a57da95-41",
            "venue": {
             "categories": [
              {
               "icon": {
                "prefix": "https://ss3.4sqi.net/img/categories_v2/food/seafood_",
                "suffix": ".png"
               },
               "id": "4bf58dd8d48988d1ce941735",
               "name": "Seafood Restaurant",
               "pluralName": "Seafood Restaurants",
               "primary": true,
               "shortName": "Seafood"
              }
             ],
             "id": "55523f4f498ed7494a57da95",
             "location": {
              "address": "Av 5",
              "cc": "MX",
              "city": "Playa del Carmen",
              "country": "México",
              "crossStreet": "38",
              "formattedAddress": [
               "Av 5 (38)",
               "Playa del Carmen, Quintana Roo",
               "México"
              ],
              "labeledLatLngs": [
               {
                "label": "display",
                "lat": 20.6356558542571,
                "lng": -87.06587791442871
               }
              ],
              "lat": 20.6356558542571,
              "lng": -87.06587791442871,
              "state": "Quintana Roo"
             },
             "name": "Las Hijas de la Tostada",
             "photos": {
              "count": 0,
              "groups": []
             }
            }
           },
           {
            "reasons": {
             "count": 0,
             "items": [
              {
               "reasonName": "globalInteractionReason",
               "summary": "This spot is popular",
               "type": "general"
              }
             ]
            },
            "referralId": "e-1-54d63cb0498ed049e50706ed-42",
            "venue": {
             "categories": [
              {
               "icon": {
                "prefix": "https://ss3.4sqi.net/img/categories_v2/shops/mall_",
                "suffix": ".png"
               },
               "id": "4bf58dd8d48988d1fd941735",
               "name": "Shopping Mall",
               "pluralName": "Shopping Malls",
               "primary": true,
               "shortName": "Mall"
              }
             ],
             "id": "54d63cb0498ed049e50706ed",
             "location": {
              "address": "Av. 5",
              "cc": "MX",
              "city": "Playa del Carmen",
              "country": "México",
              "crossStreet": "Calle 12 Y Calle 14",
              "formattedAddress": [
               "Av. 5 (Calle 12 Y Calle 14)",
               "Playa Del Carmen, Quintana Roo",
               "México"
              ],
              "labeledLatLngs": [
               {
                "label": "display",
                "lat": 20.62814715208699,
                "lng": -87.07151278176346
               }
              ],
              "lat": 20.62814715208699,
              "lng": -87.07151278176346,
              "state": "Quintana Roo"
             },
             "name": "Plaza Calle Corazón",
             "photos": {
              "count": 0,
              "groups": []
             }
            }
           },
           {
            "reasons": {
             "count": 0,
             "items": [
              {
               "reasonName": "globalInteractionReason",
               "summary": "This spot is popular",
               "type": "general"
              }
             ]
            },
            "referralId": "e-1-525f289111d27f0c7983f70c-43",
            "venue": {
             "categories": [
              {
               "icon": {
                "prefix": "https://ss3.4sqi.net/img/categories_v2/shops/apparel_boutique_",
                "suffix": ".png"
               },
               "id": "4bf58dd8d48988d104951735",
               "name": "Boutique",
               "pluralName": "Boutiques",
               "primary": true,
               "shortName": "Boutique"
              }
             ],
             "id": "525f289111d27f0c7983f70c",
             "location": {
              "address": "Paseo del Carmen",
              "cc": "MX",
              "city": "Playa del Carmen",
              "country": "México",
              "crossStreet": "10 Avenida",
              "formattedAddress": [
               "Paseo del Carmen (10 Avenida)",
               "Playa Del Carmen, Quintana Roo",
               "México"
              ],
              "labeledLatLngs": [
               {
                "label": "display",
                "lat": 20.6216412116275,
                "lng": -87.07640236257939
               }
              ],
              "lat": 20.6216412116275,
              "lng": -87.07640236257939,
              "state": "Quintana Roo"
             },
             "name": "Zara",
             "photos": {
              "count": 0,
              "groups": []
             }
            }
           },
           {
            "flags": {
             "outsideRadius": true
            },
            "reasons": {
             "count": 0,
             "items": [
              {
               "reasonName": "globalInteractionReason",
               "summary": "This spot is popular",
               "type": "general"
              }
             ]
            },
            "referralId": "e-1-4eed1b6a30f824cfc4992bf0-44",
            "venue": {
             "categories": [
              {
               "icon": {
                "prefix": "https://ss3.4sqi.net/img/categories_v2/parks_outdoors/lighthouse_",
                "suffix": ".png"
               },
               "id": "4bf58dd8d48988d15d941735",
               "name": "Lighthouse",
               "pluralName": "Lighthouses",
               "primary": true,
               "shortName": "Lighthouse"
              }
             ],
             "id": "4eed1b6a30f824cfc4992bf0",
             "location": {
              "address": "Xcaret",
              "cc": "MX",
              "city": "Playa del Carmen",
              "country": "México",
              "formattedAddress": [
               "Xcaret",
               "77710 Playa del Carmen, Quintana Roo",
               "México"
              ],
              "labeledLatLngs": [
               {
                "label": "display",
                "lat": 20.583981701375382,
                "lng": -87.11903098038401
               }
              ],
              "lat": 20.583981701375382,
              "lng": -87.11903098038401,
              "postalCode": "77710",
              "state": "Quintana Roo"
             },
             "name": "Torre Escénica Giratoria Xcaret",
             "photos": {
              "count": 0,
              "groups": []
             }
            }
           },
           {
            "reasons": {
             "count": 0,
             "items": [
              {
               "reasonName": "globalInteractionReason",
               "summary": "This spot is popular",
               "type": "general"
              }
             ]
            },
            "referralId": "e-1-577ab9a7498ea862946a6ae1-45",
            "venue": {
             "categories": [
              {
               "icon": {
                "prefix": "https://ss3.4sqi.net/img/categories_v2/parks_outdoors/pool_",
                "suffix": ".png"
               },
               "id": "4bf58dd8d48988d15e941735",
               "name": "Pool",
               "pluralName": "Pools",
               "primary": true,
               "shortName": "Pool"
              }
             ],
             "id": "577ab9a7498ea862946a6ae1",
             "location": {
              "cc": "MX",
              "city": "Playa del Carmen",
              "country": "México",
              "formattedAddress": [
               "Quintana Roo",
               "México"
              ],
              "labeledLatLngs": [
               {
                "label": "display",
                "lat": 20.605392857399778,
                "lng": -87.08993649915723
               }
              ],
              "lat": 20.605392857399778,
              "lng": -87.08993649915723,
              "state": "Quintana Roo"
             },
             "name": "Swimming pool Riu Palace",
             "photos": {
              "count": 0,
              "groups": []
             }
            }
           },
           {
            "reasons": {
             "count": 0,
             "items": [
              {
               "reasonName": "globalInteractionReason",
               "summary": "This spot is popular",
               "type": "general"
              }
             ]
            },
            "referralId": "e-1-4d49b58e83eda1cdd686abb1-46",
            "venue": {
             "categories": [
              {
               "icon": {
                "prefix": "https://ss3.4sqi.net/img/categories_v2/parks_outdoors/beach_",
                "suffix": ".png"
               },
               "id": "4bf58dd8d48988d1e2941735",
               "name": "Beach",
               "pluralName": "Beaches",
               "primary": true,
               "shortName": "Beach"
              }
             ],
             "id": "4d49b58e83eda1cdd686abb1",
             "location": {
              "address": "38th",
              "cc": "MX",
              "city": "Playa del Carmen",
              "country": "México",
              "crossStreet": "1st",
              "formattedAddress": [
               "38th (1st)",
               "Playa del Carmen, Quintana Roo",
               "México"
              ],
              "labeledLatLngs": [
               {
                "label": "display",
                "lat": 20.634096,
                "lng": -87.06185
               }
              ],
              "lat": 20.634096,
              "lng": -87.06185,
              "state": "Quintana Roo"
             },
             "name": "Shangri-la's Beach",
             "photos": {
              "count": 0,
              "groups": []
             }
            }
           },
           {
            "flags": {
             "outsideRadius": true
            },
            "reasons": {
             "count": 0,
             "items": [
              {
               "reasonName": "globalInteractionReason",
               "summary": "This spot is popular",
               "type": "general"
              }
             ]
            },
            "referralId": "e-1-4f32f93b4fc6bf7ff9a0b45b-47",
            "venue": {
             "categories": [
              {
               "icon": {
                "prefix": "https://ss3.4sqi.net/img/categories_v2/arts_entertainment/waterpark_",
                "suffix": ".png"
               },
               "id": "4bf58dd8d48988d193941735",
               "name": "Water Park",
               "pluralName": "Water Parks",
               "primary": true,
               "shortName": "Water Park"
              }
             ],
             "id": "4f32f93b4fc6bf7ff9a0b45b",
             "location": {
              "address": "Carretera Chetumal-Puerto Juárez Km 282 #307",
              "cc": "MX",
              "city": "Playa del Carmen",
              "country": "México",
              "formattedAddress": [
               "Carretera Chetumal-Puerto Juárez Km 282 #307",
               "77710 Playa del Carmen, Quintana Roo",
               "México"
              ],
              "labeledLatLngs": [
               {
                "label": "display",
                "lat": 20.58044518454343,
                "lng": -87.1167056243822
               }
              ],
              "lat": 20.58044518454343,
              "lng": -87.1167056243822,
              "postalCode": "77710",
              "state": "Quintana Roo"
             },
             "name": "Delphinus Riviera Maya",
             "photos": {
              "count": 0,
              "groups": []
             }
            }
           },
           {
            "reasons": {
             "count": 0,
             "items": [
              {
               "reasonName": "globalInteractionReason",
               "summary": "This spot is popular",
               "type": "general"
              }
             ]
            },
            "referralId": "e-1-4cade2650c1e6dcb364979bf-48",
            "venue": {
             "categories": [
              {
               "icon": {
                "prefix": "https://ss3.4sqi.net/img/categories_v2/food/mexican_",
                "suffix": ".png"
               },
               "id": "4bf58dd8d48988d1c1941735",
               "name": "Mexican Restaurant",
               "pluralName": "Mexican Restaurants",
               "primary": true,
               "shortName": "Mexican"
              }
             ],
             "id": "4cade2650c1e6dcb364979bf",
             "location": {
              "address": "Calle 38",
              "cc": "MX",
              "city": "Playa del Carmen",
              "country": "México",
              "crossStreet": "5ta Avenida",
              "formattedAddress": [
               "Calle 38 (5ta Avenida)",
               "77100 Playa del Carmen, Quintana Roo",
               "México"
              ],
              "labeledLatLngs": [
               {
                "label": "display",
                "lat": 20.635008254540676,
                "lng": -87.06564022752286
               }
              ],
              "lat": 20.635008254540676,
              "lng": -87.06564022752286,
              "postalCode": "77100",
              "state": "Quintana Roo"
             },
             "name": "La Cueva del Chango",
             "photos": {
              "count": 0,
              "groups": []
             }
            }
           },
           {
            "reasons": {
             "count": 0,
             "items": [
              {
               "reasonName": "globalInteractionReason",
               "summary": "This spot is popular",
               "type": "general"
              }
             ]
            },
            "referralId": "e-1-5f20606812f65008dcfff8f8-49",
            "venue": {
             "categories": [
              {
               "icon": {
                "prefix": "https://ss3.4sqi.net/img/categories_v2/shops/pet_store_",
                "suffix": ".png"
               },
               "id": "4bf58dd8d48988d100951735",
               "name": "Pet Store",
               "pluralName": "Pet Stores",
               "primary": true,
               "shortName": "Pet Store"
              }
             ],
             "id": "5f20606812f65008dcfff8f8",
             "location": {
              "cc": "MX",
              "city": "Playa del Carmen",
              "country": "México",
              "formattedAddress": [
               "77712 Playa del Carmen, QROO",
               "México"
              ],
              "labeledLatLngs": [
               {
                "label": "display",
                "lat": 20.618951,
                "lng": -87.093385
               }
              ],
              "lat": 20.618951,
              "lng": -87.093385,
              "postalCode": "77712",
              "state": "QROO"
             },
             "name": "Petco",
             "photos": {
              "count": 0,
              "groups": []
             }
            }
           }
          ],
          "name": "recommended",
          "type": "Recommended Places"
         }
        ],
        "headerFullLocation": "Playa del Carmen",
        "headerLocation": "Playa del Carmen",
        "headerLocationGranularity": "city",
        "suggestedBounds": {
         "ne": {
          "lat": 20.774312376848773,
          "lng": -86.9414579785227
         },
         "sw": {
          "lat": 20.57121341348127,
          "lng": -87.1347331173739
         }
        },
        "suggestedFilters": {
         "filters": [
          {
           "key": "openNow",
           "name": "Open now"
          }
         ],
         "header": "Tap to show:"
        },
        "totalResults": 125
       }
      },
      "text/plain": [
       "<IPython.core.display.JSON object>"
      ]
     },
     "execution_count": 4,
     "metadata": {
      "application/json": {
       "expanded": false,
       "root": "root"
      }
     },
     "output_type": "execute_result"
    }
   ],
   "source": [
    "## Foursquare\n",
    "\n",
    "## Run only once so as not to overload the API. Uncomment resp variable below to run again\n",
    "\n",
    "client_id = os.environ['client_id']\n",
    "client_secret = os.environ[\"client_secret\"]\n",
    "\n",
    "url = 'https://api.foursquare.com/v2/venues/explore'\n",
    "\n",
    "params = dict(\n",
    "client_id=client_id,\n",
    "client_secret=client_secret,\n",
    "near='Playa Del Carmen, Mexico',\n",
    "section='topPicks',\n",
    "limit=50,\n",
    "sortByPopularity = 1,\n",
    "v=20211104)\n",
    "\n",
    "resp = re.get(url=url, params=params)\n",
    "data = json.loads(resp.text)\n",
    "\n",
    "#Write to file\n",
    "with open('#########################################', 'w', encoding='utf-8') as f:\n",
    "    json.dump(data, f, ensure_ascii=False, indent=4)\n",
    "\n",
    "# Shows same data in a friendlier format only in Jupyter Notebook    \n",
    "JSON(data)"
   ]
  },
  {
   "cell_type": "code",
   "execution_count": 5,
   "metadata": {},
   "outputs": [
    {
     "ename": "FileNotFoundError",
     "evalue": "[Errno 2] No such file or directory: 'data_fs.json'",
     "output_type": "error",
     "traceback": [
      "\u001b[0;31m---------------------------------------------------------------------------\u001b[0m",
      "\u001b[0;31mFileNotFoundError\u001b[0m                         Traceback (most recent call last)",
      "\u001b[0;32m<ipython-input-5-9ab8de67c924>\u001b[0m in \u001b[0;36m<module>\u001b[0;34m\u001b[0m\n\u001b[0;32m----> 1\u001b[0;31m \u001b[0;32mwith\u001b[0m \u001b[0mopen\u001b[0m\u001b[0;34m(\u001b[0m\u001b[0;34m'data_fs.json'\u001b[0m\u001b[0;34m,\u001b[0m\u001b[0;34m'r'\u001b[0m\u001b[0;34m)\u001b[0m \u001b[0;32mas\u001b[0m \u001b[0mf\u001b[0m\u001b[0;34m:\u001b[0m\u001b[0;34m\u001b[0m\u001b[0;34m\u001b[0m\u001b[0m\n\u001b[0m\u001b[1;32m      2\u001b[0m     \u001b[0mdata\u001b[0m \u001b[0;34m=\u001b[0m \u001b[0mjson\u001b[0m\u001b[0;34m.\u001b[0m\u001b[0mloads\u001b[0m\u001b[0;34m(\u001b[0m\u001b[0mf\u001b[0m\u001b[0;34m.\u001b[0m\u001b[0mread\u001b[0m\u001b[0;34m(\u001b[0m\u001b[0;34m)\u001b[0m\u001b[0;34m)\u001b[0m\u001b[0;34m\u001b[0m\u001b[0;34m\u001b[0m\u001b[0m\n\u001b[1;32m      3\u001b[0m \u001b[0;34m\u001b[0m\u001b[0m\n\u001b[1;32m      4\u001b[0m \u001b[0mdfs\u001b[0m \u001b[0;34m=\u001b[0m \u001b[0mpd\u001b[0m\u001b[0;34m.\u001b[0m\u001b[0mjson_normalize\u001b[0m\u001b[0;34m(\u001b[0m\u001b[0mdata\u001b[0m\u001b[0;34m,\u001b[0m \u001b[0mrecord_path\u001b[0m\u001b[0;34m=\u001b[0m\u001b[0;34m[\u001b[0m\u001b[0;34m'response'\u001b[0m\u001b[0;34m,\u001b[0m \u001b[0;34m'groups'\u001b[0m\u001b[0;34m,\u001b[0m \u001b[0;34m'items'\u001b[0m\u001b[0;34m]\u001b[0m\u001b[0;34m,\u001b[0m \u001b[0merrors\u001b[0m\u001b[0;34m=\u001b[0m\u001b[0;34m'ignore'\u001b[0m\u001b[0;34m)\u001b[0m\u001b[0;34m\u001b[0m\u001b[0;34m\u001b[0m\u001b[0m\n\u001b[1;32m      5\u001b[0m \u001b[0;34m\u001b[0m\u001b[0m\n",
      "\u001b[0;31mFileNotFoundError\u001b[0m: [Errno 2] No such file or directory: 'data_fs.json'"
     ]
    }
   ],
   "source": [
    "with open('data_fs.json','r') as f:\n",
    "    data = json.loads(f.read())\n",
    "\n",
    "dfs = pd.json_normalize(data, record_path=['response', 'groups', 'items'], errors='ignore')\n",
    "\n",
    "dfs = dfs.applymap(str)\n",
    "dfs.dtypes\n"
   ]
  },
  {
   "cell_type": "code",
   "execution_count": 31,
   "metadata": {},
   "outputs": [
    {
     "data": {
      "text/plain": [
       "Index(['referralId', 'reasons.count', 'reasons.items', 'venue.id',\n",
       "       'venue.name', 'venue.location.address', 'venue.location.crossStreet',\n",
       "       'venue.location.lat', 'venue.location.lng', 'venue.location.postalCode',\n",
       "       'venue.location.cc', 'venue.location.city', 'venue.location.state',\n",
       "       'venue.location.country', 'venue.location.formattedAddress',\n",
       "       'venue.categories', 'venue.photos.count', 'venue.photos.groups',\n",
       "       'venue.location.labeledLatLngs', 'venue.venuePage.id',\n",
       "       'flags.outsideRadius', 'venue.location.neighborhood'],\n",
       "      dtype='object')"
      ]
     },
     "execution_count": 31,
     "metadata": {},
     "output_type": "execute_result"
    }
   ],
   "source": [
    "dfs.columns"
   ]
  },
  {
   "cell_type": "code",
   "execution_count": 4,
   "metadata": {},
   "outputs": [],
   "source": [
    "conn = sql.connect('playa.db')\n",
    "dfs.to_sql('foursquare_data2', conn, schema='online', index=False, if_exists='append')"
   ]
  },
  {
   "cell_type": "code",
   "execution_count": 73,
   "metadata": {},
   "outputs": [
    {
     "data": {
      "text/html": [
       "<div>\n",
       "<style scoped>\n",
       "    .dataframe tbody tr th:only-of-type {\n",
       "        vertical-align: middle;\n",
       "    }\n",
       "\n",
       "    .dataframe tbody tr th {\n",
       "        vertical-align: top;\n",
       "    }\n",
       "\n",
       "    .dataframe thead th {\n",
       "        text-align: right;\n",
       "    }\n",
       "</style>\n",
       "<table border=\"1\" class=\"dataframe\">\n",
       "  <thead>\n",
       "    <tr style=\"text-align: right;\">\n",
       "      <th></th>\n",
       "      <th>venue.name</th>\n",
       "      <th>reasons.items</th>\n",
       "      <th>venue.location.formattedAddress</th>\n",
       "    </tr>\n",
       "  </thead>\n",
       "  <tbody>\n",
       "    <tr>\n",
       "      <th>11</th>\n",
       "      <td>La Bodeguita del Medio</td>\n",
       "      <td>[{'summary': 'This spot is popular', 'type': '...</td>\n",
       "      <td>['5ta Avenida (Esq. con 34 Nte.)', '77710 Play...</td>\n",
       "    </tr>\n",
       "    <tr>\n",
       "      <th>12</th>\n",
       "      <td>La Cochi-loka</td>\n",
       "      <td>[{'summary': 'This spot is popular', 'type': '...</td>\n",
       "      <td>['Calle 10 (Avenida 10)', 'Playa Del Carmen, Q...</td>\n",
       "    </tr>\n",
       "    <tr>\n",
       "      <th>13</th>\n",
       "      <td>Dac</td>\n",
       "      <td>[{'summary': 'This spot is popular', 'type': '...</td>\n",
       "      <td>['30 Av. Norte LB', 'Playa del Carmen, Quintan...</td>\n",
       "    </tr>\n",
       "    <tr>\n",
       "      <th>14</th>\n",
       "      <td>Taqueria El Ñero</td>\n",
       "      <td>[{'summary': 'This spot is popular', 'type': '...</td>\n",
       "      <td>['Av', 'Playa del Carmen, Quintana Roo', 'Méxi...</td>\n",
       "    </tr>\n",
       "    <tr>\n",
       "      <th>15</th>\n",
       "      <td>Chiltepin Marisquillos</td>\n",
       "      <td>[{'summary': 'This spot is popular', 'type': '...</td>\n",
       "      <td>['20 nte (Av 34 Nte)', '77720 Playa del Carmen...</td>\n",
       "    </tr>\n",
       "    <tr>\n",
       "      <th>16</th>\n",
       "      <td>Las Helodias</td>\n",
       "      <td>[{'summary': 'This spot is popular', 'type': '...</td>\n",
       "      <td>['Calle 28 Nte (1 Av. Nte)', '77710 Playa del ...</td>\n",
       "    </tr>\n",
       "    <tr>\n",
       "      <th>17</th>\n",
       "      <td>Caiman Tugurio</td>\n",
       "      <td>[{'summary': 'This spot is popular', 'type': '...</td>\n",
       "      <td>['24 Avenue (5ta)', 'Playa del Carmen, QROO', ...</td>\n",
       "    </tr>\n",
       "    <tr>\n",
       "      <th>18</th>\n",
       "      <td>El Fogón Fiesta Jarocha</td>\n",
       "      <td>[{'summary': 'This spot is popular', 'type': '...</td>\n",
       "      <td>['Av. 30 (Calle 6 Bis)', '77710 Playa Del Carm...</td>\n",
       "    </tr>\n",
       "    <tr>\n",
       "      <th>19</th>\n",
       "      <td>Renzo's Pizza</td>\n",
       "      <td>[{'summary': 'This spot is popular', 'type': '...</td>\n",
       "      <td>['Quintana Roo', 'México']</td>\n",
       "    </tr>\n",
       "  </tbody>\n",
       "</table>\n",
       "</div>"
      ],
      "text/plain": [
       "                 venue.name  \\\n",
       "11   La Bodeguita del Medio   \n",
       "12            La Cochi-loka   \n",
       "13                      Dac   \n",
       "14         Taqueria El Ñero   \n",
       "15   Chiltepin Marisquillos   \n",
       "16             Las Helodias   \n",
       "17           Caiman Tugurio   \n",
       "18  El Fogón Fiesta Jarocha   \n",
       "19            Renzo's Pizza   \n",
       "\n",
       "                                        reasons.items  \\\n",
       "11  [{'summary': 'This spot is popular', 'type': '...   \n",
       "12  [{'summary': 'This spot is popular', 'type': '...   \n",
       "13  [{'summary': 'This spot is popular', 'type': '...   \n",
       "14  [{'summary': 'This spot is popular', 'type': '...   \n",
       "15  [{'summary': 'This spot is popular', 'type': '...   \n",
       "16  [{'summary': 'This spot is popular', 'type': '...   \n",
       "17  [{'summary': 'This spot is popular', 'type': '...   \n",
       "18  [{'summary': 'This spot is popular', 'type': '...   \n",
       "19  [{'summary': 'This spot is popular', 'type': '...   \n",
       "\n",
       "                      venue.location.formattedAddress  \n",
       "11  ['5ta Avenida (Esq. con 34 Nte.)', '77710 Play...  \n",
       "12  ['Calle 10 (Avenida 10)', 'Playa Del Carmen, Q...  \n",
       "13  ['30 Av. Norte LB', 'Playa del Carmen, Quintan...  \n",
       "14  ['Av', 'Playa del Carmen, Quintana Roo', 'Méxi...  \n",
       "15  ['20 nte (Av 34 Nte)', '77720 Playa del Carmen...  \n",
       "16  ['Calle 28 Nte (1 Av. Nte)', '77710 Playa del ...  \n",
       "17  ['24 Avenue (5ta)', 'Playa del Carmen, QROO', ...  \n",
       "18  ['Av. 30 (Calle 6 Bis)', '77710 Playa Del Carm...  \n",
       "19                         ['Quintana Roo', 'México']  "
      ]
     },
     "execution_count": 73,
     "metadata": {},
     "output_type": "execute_result"
    }
   ],
   "source": [
    "dfs_sql = pd.read_sql('SELECT * FROM foursquare_data2', conn)\n",
    "dfs_sql[['venue.name', 'reasons.items', 'venue.location.formattedAddress']].iloc[11:20]"
   ]
  },
  {
   "cell_type": "code",
   "execution_count": null,
   "metadata": {},
   "outputs": [],
   "source": []
  },
  {
   "cell_type": "code",
   "execution_count": null,
   "metadata": {},
   "outputs": [],
   "source": []
  },
  {
   "cell_type": "code",
   "execution_count": null,
   "metadata": {},
   "outputs": [],
   "source": []
  },
  {
   "cell_type": "code",
   "execution_count": null,
   "metadata": {},
   "outputs": [],
   "source": []
  },
  {
   "cell_type": "code",
   "execution_count": 49,
   "metadata": {},
   "outputs": [
    {
     "data": {
      "application/json": {
       "businesses": [
        {
         "alias": "xcaret-park-playa-del-carmen",
         "categories": [
          {
           "alias": "amusementparks",
           "title": "Amusement Parks"
          },
          {
           "alias": "waterparks",
           "title": "Water Parks"
          }
         ],
         "coordinates": {
          "latitude": 20.581157534014,
          "longitude": -87.1199016958881
         },
         "display_phone": "+52 998 883 3143",
         "distance": 10408.351232500612,
         "id": "CL9t618dOWzQVgivfscweA",
         "image_url": "https://s3-media3.fl.yelpcdn.com/bphoto/H5IDDOZq5LAy_SSYYv52rA/o.jpg",
         "is_closed": false,
         "location": {
          "address1": "Carretera Chetumal-Puerto Juárez Km 282",
          "address2": "",
          "address3": "",
          "city": "Playa del Carmen",
          "country": "MX",
          "display_address": [
           "Carretera Chetumal-Puerto Juárez Km 282",
           "77710 Playa del Carmen, Quintana Roo",
           "Mexico"
          ],
          "state": "ROO",
          "zip_code": "77710"
         },
         "name": "Xcaret Park",
         "phone": "+529988833143",
         "rating": 4,
         "review_count": 420,
         "transactions": [],
         "url": "https://www.yelp.com/biz/xcaret-park-playa-del-carmen?adjust_creative=_ggy3Sdpay4Ja_rXWsdaCQ&utm_campaign=yelp_api_v3&utm_medium=api_v3_business_search&utm_source=_ggy3Sdpay4Ja_rXWsdaCQ"
        },
        {
         "alias": "la-cueva-del-chango-playa-del-carmen",
         "categories": [
          {
           "alias": "vegetarian",
           "title": "Vegetarian"
          },
          {
           "alias": "mexican",
           "title": "Mexican"
          }
         ],
         "coordinates": {
          "latitude": 20.6349418986887,
          "longitude": -87.0656166736106
         },
         "display_phone": "+52 984 147 0271",
         "distance": 2295.2276880024074,
         "id": "NPEufmi9YbugrebwORhb4A",
         "image_url": "https://s3-media4.fl.yelpcdn.com/bphoto/ILW2h_dmDtdEJ5-Bk19s_g/o.jpg",
         "is_closed": false,
         "location": {
          "address1": "Calle 38 Nte. S/N",
          "address2": "Col. Zazil Ha",
          "address3": null,
          "city": "Playa del Carmen",
          "country": "MX",
          "display_address": [
           "Calle 38 Nte. S/N",
           "Col. Zazil Ha",
           "77710 Playa del Carmen, Quintana Roo",
           "Mexico"
          ],
          "state": "ROO",
          "zip_code": "77710"
         },
         "name": "La Cueva del Chango",
         "phone": "+529841470271",
         "price": "$$",
         "rating": 4.5,
         "review_count": 340,
         "transactions": [],
         "url": "https://www.yelp.com/biz/la-cueva-del-chango-playa-del-carmen?adjust_creative=_ggy3Sdpay4Ja_rXWsdaCQ&utm_campaign=yelp_api_v3&utm_medium=api_v3_business_search&utm_source=_ggy3Sdpay4Ja_rXWsdaCQ"
        },
        {
         "alias": "xplor-park-playa-del-carmen-2",
         "categories": [
          {
           "alias": "amusementparks",
           "title": "Amusement Parks"
          }
         ],
         "coordinates": {
          "latitude": 20.5935,
          "longitude": -87.124554
         },
         "display_phone": "+52 998 883 3143",
         "distance": 9724.382973973014,
         "id": "0swNNVJ50Hfe-m-TciYFDw",
         "image_url": "https://s3-media3.fl.yelpcdn.com/bphoto/1o5Ij3Zmu-Nhk3DKKQR6cA/o.jpg",
         "is_closed": false,
         "location": {
          "address1": "Carretera Federal 307 Km 282",
          "address2": "",
          "address3": "",
          "city": "Playa del Carmen",
          "country": "MX",
          "display_address": [
           "Carretera Federal 307 Km 282",
           "77710 Playa del Carmen, Quintana Roo",
           "Mexico"
          ],
          "state": "ROO",
          "zip_code": "77710"
         },
         "name": "Xplor Park",
         "phone": "+529988833143",
         "rating": 4.5,
         "review_count": 310,
         "transactions": [],
         "url": "https://www.yelp.com/biz/xplor-park-playa-del-carmen-2?adjust_creative=_ggy3Sdpay4Ja_rXWsdaCQ&utm_campaign=yelp_api_v3&utm_medium=api_v3_business_search&utm_source=_ggy3Sdpay4Ja_rXWsdaCQ"
        },
        {
         "alias": "alux-restaurant-playa-del-carmen",
         "categories": [
          {
           "alias": "mexican",
           "title": "Mexican"
          },
          {
           "alias": "bars",
           "title": "Bars"
          }
         ],
         "coordinates": {
          "latitude": 20.62908,
          "longitude": -87.08633
         },
         "display_phone": "+52 984 206 1401",
         "distance": 4116.232984281021,
         "id": "jV1JvRez1vZtlvWQYg59BQ",
         "image_url": "https://s3-media4.fl.yelpcdn.com/bphoto/E1EMN0J9x7hlkXA4v3-eGg/o.jpg",
         "is_closed": false,
         "location": {
          "address1": "Av. Juárez S/N",
          "address2": "Col. Ejidal",
          "address3": "",
          "city": "Playa del Carmen",
          "country": "MX",
          "display_address": [
           "Av. Juárez S/N",
           "Col. Ejidal",
           "77710 Playa del Carmen, Quintana Roo",
           "Mexico"
          ],
          "state": "ROO",
          "zip_code": "77710"
         },
         "name": "Alux Restaurant",
         "phone": "+529842061401",
         "price": "$$$$",
         "rating": 3.5,
         "review_count": 269,
         "transactions": [],
         "url": "https://www.yelp.com/biz/alux-restaurant-playa-del-carmen?adjust_creative=_ggy3Sdpay4Ja_rXWsdaCQ&utm_campaign=yelp_api_v3&utm_medium=api_v3_business_search&utm_source=_ggy3Sdpay4Ja_rXWsdaCQ"
        },
        {
         "alias": "la-choza-cozumel",
         "categories": [
          {
           "alias": "mexican",
           "title": "Mexican"
          },
          {
           "alias": "seafood",
           "title": "Seafood"
          }
         ],
         "coordinates": {
          "latitude": 20.5080319111813,
          "longitude": -86.9498958438634
         },
         "display_phone": "+52 987 872 0958",
         "distance": 19689.70965959058,
         "id": "K22Nlyo-PFtFTYEMBVt-Cw",
         "image_url": "https://s3-media3.fl.yelpcdn.com/bphoto/79K8i9pzNVjrMrsRAFBD5Q/o.jpg",
         "is_closed": false,
         "location": {
          "address1": "10a Avenida Sur 216",
          "address2": "Col. Centro",
          "address3": "",
          "city": "Cozumel",
          "country": "MX",
          "display_address": [
           "10a Avenida Sur 216",
           "Col. Centro",
           "77600 Cozumel, Quintana Roo",
           "Mexico"
          ],
          "state": "ROO",
          "zip_code": "77600"
         },
         "name": "La Choza",
         "phone": "+529878720958",
         "price": "$$",
         "rating": 4.5,
         "review_count": 236,
         "transactions": [],
         "url": "https://www.yelp.com/biz/la-choza-cozumel?adjust_creative=_ggy3Sdpay4Ja_rXWsdaCQ&utm_campaign=yelp_api_v3&utm_medium=api_v3_business_search&utm_source=_ggy3Sdpay4Ja_rXWsdaCQ"
        },
        {
         "alias": "los-aguachiles-playa-del-carmen",
         "categories": [
          {
           "alias": "seafood",
           "title": "Seafood"
          },
          {
           "alias": "mexican",
           "title": "Mexican"
          }
         ],
         "coordinates": {
          "latitude": 20.63616,
          "longitude": -87.071033
         },
         "display_phone": "+52 984 873 0862",
         "distance": 2457.13080369708,
         "id": "TgIDQKJf24eOV2RNNUX6zw",
         "image_url": "https://s3-media4.fl.yelpcdn.com/bphoto/kfSCMqJgUkBHIIbCdRnotQ/o.jpg",
         "is_closed": false,
         "location": {
          "address1": "Calle 34 Nte S/N",
          "address2": "Col. Centro",
          "address3": "",
          "city": "Playa del Carmen",
          "country": "MX",
          "display_address": [
           "Calle 34 Nte S/N",
           "Col. Centro",
           "77710 Playa del Carmen, Quintana Roo",
           "Mexico"
          ],
          "state": "ROO",
          "zip_code": "77710"
         },
         "name": "Los Aguachiles",
         "phone": "+529848730862",
         "price": "$$",
         "rating": 4.5,
         "review_count": 235,
         "transactions": [],
         "url": "https://www.yelp.com/biz/los-aguachiles-playa-del-carmen?adjust_creative=_ggy3Sdpay4Ja_rXWsdaCQ&utm_campaign=yelp_api_v3&utm_medium=api_v3_business_search&utm_source=_ggy3Sdpay4Ja_rXWsdaCQ"
        },
        {
         "alias": "la-famiglia-playa-del-carmen",
         "categories": [
          {
           "alias": "pizza",
           "title": "Pizza"
          },
          {
           "alias": "italian",
           "title": "Italian"
          }
         ],
         "coordinates": {
          "latitude": 20.62738578403,
          "longitude": -87.0731767647736
         },
         "display_phone": "+52 984 202 0512",
         "distance": 3398.636982671651,
         "id": "se_r808CXU7v8_uqLoIApw",
         "image_url": "https://s3-media4.fl.yelpcdn.com/bphoto/SHFD6w-To_fsfQBgqqAY8A/o.jpg",
         "is_closed": false,
         "location": {
          "address1": "Av. 10 S/N",
          "address2": "Col. Centro",
          "address3": "",
          "city": "Playa del Carmen",
          "country": "MX",
          "display_address": [
           "Av. 10 S/N",
           "Col. Centro",
           "77710 Playa del Carmen, Quintana Roo",
           "Mexico"
          ],
          "state": "ROO",
          "zip_code": "77710"
         },
         "name": "La Famiglia",
         "phone": "+529842020512",
         "price": "$$",
         "rating": 4.5,
         "review_count": 226,
         "transactions": [],
         "url": "https://www.yelp.com/biz/la-famiglia-playa-del-carmen?adjust_creative=_ggy3Sdpay4Ja_rXWsdaCQ&utm_campaign=yelp_api_v3&utm_medium=api_v3_business_search&utm_source=_ggy3Sdpay4Ja_rXWsdaCQ"
        },
        {
         "alias": "axiote-playa-del-carmen-5",
         "categories": [
          {
           "alias": "mexican",
           "title": "Mexican"
          },
          {
           "alias": "bars",
           "title": "Bars"
          }
         ],
         "coordinates": {
          "latitude": 20.6340924850412,
          "longitude": -87.0677161160063
         },
         "display_phone": "+52 984 803 1727",
         "distance": 2472.689338418252,
         "id": "PWEP1vbTDXnLHtihKIn6HA",
         "image_url": "https://s3-media3.fl.yelpcdn.com/bphoto/soZbvFQgJJ4d6r2IdmEFww/o.jpg",
         "is_closed": false,
         "location": {
          "address1": "Calle 34 Nte. S/N",
          "address2": "Col. Centro",
          "address3": "",
          "city": "Playa del Carmen",
          "country": "MX",
          "display_address": [
           "Calle 34 Nte. S/N",
           "Col. Centro",
           "77710 Playa del Carmen, Quintana Roo",
           "Mexico"
          ],
          "state": "ROO",
          "zip_code": "77710"
         },
         "name": "Axiote",
         "phone": "+529848031727",
         "price": "$$",
         "rating": 4.5,
         "review_count": 208,
         "transactions": [],
         "url": "https://www.yelp.com/biz/axiote-playa-del-carmen-5?adjust_creative=_ggy3Sdpay4Ja_rXWsdaCQ&utm_campaign=yelp_api_v3&utm_medium=api_v3_business_search&utm_source=_ggy3Sdpay4Ja_rXWsdaCQ"
        },
        {
         "alias": "carboncitos-playa-del-carmen",
         "categories": [
          {
           "alias": "mexican",
           "title": "Mexican"
          },
          {
           "alias": "latin",
           "title": "Latin American"
          },
          {
           "alias": "seafood",
           "title": "Seafood"
          }
         ],
         "coordinates": {
          "latitude": 20.6243495986169,
          "longitude": -87.0741480282807
         },
         "display_phone": "+52 984 873 1382",
         "distance": 3742.9296063026613,
         "id": "pdYWIHDnEK1oDlXqcEJziA",
         "image_url": "https://s3-media1.fl.yelpcdn.com/bphoto/5eW7iRjXIQmIDOTFDSQC6Q/o.jpg",
         "is_closed": false,
         "location": {
          "address1": "Calle 4 Norte S/N",
          "address2": "",
          "address3": "",
          "city": "Playa del Carmen",
          "country": "MX",
          "display_address": [
           "Calle 4 Norte S/N",
           "77710 Playa del Carmen, Quintana Roo",
           "Mexico"
          ],
          "state": "ROO",
          "zip_code": "77710"
         },
         "name": "Carboncitos",
         "phone": "+529848731382",
         "price": "$$",
         "rating": 4.5,
         "review_count": 182,
         "transactions": [],
         "url": "https://www.yelp.com/biz/carboncitos-playa-del-carmen?adjust_creative=_ggy3Sdpay4Ja_rXWsdaCQ&utm_campaign=yelp_api_v3&utm_medium=api_v3_business_search&utm_source=_ggy3Sdpay4Ja_rXWsdaCQ"
        },
        {
         "alias": "guidos-quintana-roo",
         "categories": [
          {
           "alias": "italian",
           "title": "Italian"
          }
         ],
         "coordinates": {
          "latitude": 20.5135853843773,
          "longitude": -86.9471861422062
         },
         "display_phone": "+52 987 872 0946",
         "distance": 19349.235315108566,
         "id": "QVp2zD5l6lokC_XpuYOhKQ",
         "image_url": "https://s3-media4.fl.yelpcdn.com/bphoto/hlFMh7IP17leJqdC4FJN6A/o.jpg",
         "is_closed": false,
         "location": {
          "address1": "Av. Rafael Melgar 23",
          "address2": "",
          "address3": "",
          "city": "Quintana Roo",
          "country": "MX",
          "display_address": [
           "Av. Rafael Melgar 23",
           "77600 Quintana Roo",
           "Mexico"
          ],
          "state": "ROO",
          "zip_code": "77600"
         },
         "name": "Guido's",
         "phone": "+529878720946",
         "price": "$$",
         "rating": 5,
         "review_count": 180,
         "transactions": [],
         "url": "https://www.yelp.com/biz/guidos-quintana-roo?adjust_creative=_ggy3Sdpay4Ja_rXWsdaCQ&utm_campaign=yelp_api_v3&utm_medium=api_v3_business_search&utm_source=_ggy3Sdpay4Ja_rXWsdaCQ"
        },
        {
         "alias": "kondesa-san-miguel-de-cozumel",
         "categories": [
          {
           "alias": "mexican",
           "title": "Mexican"
          },
          {
           "alias": "cocktailbars",
           "title": "Cocktail Bars"
          }
         ],
         "coordinates": {
          "latitude": 20.506617,
          "longitude": -86.952862
         },
         "display_phone": "+52 987 869 1086",
         "distance": 19647.494923503273,
         "id": "qpJFOM_giwLwKUCq9MO7Xw",
         "image_url": "https://s3-media3.fl.yelpcdn.com/bphoto/wRl1iKXfCnZdFYe9SUXbtA/o.jpg",
         "is_closed": false,
         "location": {
          "address1": "5ta Avenida Sur 456",
          "address2": "",
          "address3": "",
          "city": "San Miguel de Cozumel",
          "country": "MX",
          "display_address": [
           "5ta Avenida Sur 456",
           "77600 San Miguel de Cozumel, Quintana Roo",
           "Mexico"
          ],
          "state": "ROO",
          "zip_code": "77600"
         },
         "name": "Kondesa",
         "phone": "+529878691086",
         "price": "$$",
         "rating": 4.5,
         "review_count": 176,
         "transactions": [],
         "url": "https://www.yelp.com/biz/kondesa-san-miguel-de-cozumel?adjust_creative=_ggy3Sdpay4Ja_rXWsdaCQ&utm_campaign=yelp_api_v3&utm_medium=api_v3_business_search&utm_source=_ggy3Sdpay4Ja_rXWsdaCQ"
        },
        {
         "alias": "plank-playa-del-carmen",
         "categories": [
          {
           "alias": "seafood",
           "title": "Seafood"
          },
          {
           "alias": "steak",
           "title": "Steakhouses"
          }
         ],
         "coordinates": {
          "latitude": 20.6288931808367,
          "longitude": -87.0699545627045
         },
         "display_phone": "+52 984 168 7025",
         "distance": 3094.2738958880022,
         "id": "rcubB7fp1cruCFs5U5wkjA",
         "image_url": "https://s3-media2.fl.yelpcdn.com/bphoto/bSz3SSLGJRMaF2cT_TH3ww/o.jpg",
         "is_closed": false,
         "location": {
          "address1": "Calle 16 Norte Bis S/N",
          "address2": "",
          "address3": "",
          "city": "Playa del Carmen",
          "country": "MX",
          "display_address": [
           "Calle 16 Norte Bis S/N",
           "77720 Playa del Carmen, Quintana Roo",
           "Mexico"
          ],
          "state": "ROO",
          "zip_code": "77720"
         },
         "name": "Plank",
         "phone": "+529841687025",
         "price": "$$$",
         "rating": 4.5,
         "review_count": 154,
         "transactions": [],
         "url": "https://www.yelp.com/biz/plank-playa-del-carmen?adjust_creative=_ggy3Sdpay4Ja_rXWsdaCQ&utm_campaign=yelp_api_v3&utm_medium=api_v3_business_search&utm_source=_ggy3Sdpay4Ja_rXWsdaCQ"
        },
        {
         "alias": "lara-y-luca-playa-del-carmen",
         "categories": [
          {
           "alias": "breakfast_brunch",
           "title": "Breakfast & Brunch"
          },
          {
           "alias": "modern_european",
           "title": "Modern European"
          }
         ],
         "coordinates": {
          "latitude": 20.62103150884479,
          "longitude": -87.08129055798054
         },
         "display_phone": "+52 984 176 3305",
         "distance": 4446.830320898197,
         "id": "VN-MjwCv8JpLEiv0aOxTkg",
         "image_url": "https://s3-media2.fl.yelpcdn.com/bphoto/Vx97tkSE0pdYZ9_l-4xysg/o.jpg",
         "is_closed": false,
         "location": {
          "address1": "Av. Aviación 4",
          "address2": "Manzana 29",
          "address3": "",
          "city": "Playa del Carmen",
          "country": "MX",
          "display_address": [
           "Av. Aviación 4",
           "Manzana 29",
           "77710 Playa del Carmen, Quintana Roo",
           "Mexico"
          ],
          "state": "ROO",
          "zip_code": "77710"
         },
         "name": "Lara & Luca",
         "phone": "+529841763305",
         "price": "$",
         "rating": 5,
         "review_count": 147,
         "transactions": [],
         "url": "https://www.yelp.com/biz/lara-y-luca-playa-del-carmen?adjust_creative=_ggy3Sdpay4Ja_rXWsdaCQ&utm_campaign=yelp_api_v3&utm_medium=api_v3_business_search&utm_source=_ggy3Sdpay4Ja_rXWsdaCQ"
        },
        {
         "alias": "el-pirata-playa-del-carmen",
         "categories": [
          {
           "alias": "seafood",
           "title": "Seafood"
          },
          {
           "alias": "seafoodmarkets",
           "title": "Seafood Markets"
          }
         ],
         "coordinates": {
          "latitude": 20.6368056401704,
          "longitude": -87.0657186400086
         },
         "display_phone": "+52 984 803 6762",
         "distance": 2110.367617673186,
         "id": "bue8werYZZ0WcU75wxQCrA",
         "image_url": "https://s3-media3.fl.yelpcdn.com/bphoto/H4ph0Lkmxuyd075FXcouww/o.jpg",
         "is_closed": false,
         "location": {
          "address1": "Calle 40 S/N",
          "address2": "Col. Zazil Ha",
          "address3": "",
          "city": "Playa del Carmen",
          "country": "MX",
          "display_address": [
           "Calle 40 S/N",
           "Col. Zazil Ha",
           "77710 Playa del Carmen, Quintana Roo",
           "Mexico"
          ],
          "state": "ROO",
          "zip_code": "77710"
         },
         "name": "El Pirata",
         "phone": "+529848036762",
         "price": "$$",
         "rating": 4.5,
         "review_count": 137,
         "transactions": [],
         "url": "https://www.yelp.com/biz/el-pirata-playa-del-carmen?adjust_creative=_ggy3Sdpay4Ja_rXWsdaCQ&utm_campaign=yelp_api_v3&utm_medium=api_v3_business_search&utm_source=_ggy3Sdpay4Ja_rXWsdaCQ"
        },
        {
         "alias": "ah-carbon-playa-del-carmen",
         "categories": [
          {
           "alias": "mexican",
           "title": "Mexican"
          }
         ],
         "coordinates": {
          "latitude": 20.6310172753457,
          "longitude": -87.06900748543
         },
         "display_phone": "+52 984 147 6737",
         "distance": 2838.754126444636,
         "id": "yiaQDrw1brrZdH-n1umX5A",
         "image_url": "https://s3-media1.fl.yelpcdn.com/bphoto/c7VdAX0oHvKy74-l9hHNYg/o.jpg",
         "is_closed": false,
         "location": {
          "address1": "Calle 22 Nte. S/N",
          "address2": "Manzana 67",
          "address3": "",
          "city": "Playa del Carmen",
          "country": "MX",
          "display_address": [
           "Calle 22 Nte. S/N",
           "Manzana 67",
           "77710 Playa del Carmen, Quintana Roo",
           "Mexico"
          ],
          "state": "ROO",
          "zip_code": "77710"
         },
         "name": "Ah Carbon!",
         "phone": "+529841476737",
         "price": "$",
         "rating": 4.5,
         "review_count": 132,
         "transactions": [],
         "url": "https://www.yelp.com/biz/ah-carbon-playa-del-carmen?adjust_creative=_ggy3Sdpay4Ja_rXWsdaCQ&utm_campaign=yelp_api_v3&utm_medium=api_v3_business_search&utm_source=_ggy3Sdpay4Ja_rXWsdaCQ"
        },
        {
         "alias": "500-gramos-grill-playa-del-carmen",
         "categories": [
          {
           "alias": "steak",
           "title": "Steakhouses"
          }
         ],
         "coordinates": {
          "latitude": 20.6343732,
          "longitude": -87.0665186
         },
         "display_phone": "+52 984 316 3620",
         "distance": 2390.788486214586,
         "id": "imfhk76iYa4X7-Vw7jwnew",
         "image_url": "https://s3-media3.fl.yelpcdn.com/bphoto/piWS0zLS5C4PpWT6y_4OYw/o.jpg",
         "is_closed": false,
         "location": {
          "address1": "Calle Quinta Avenida S/N",
          "address2": "Col. Gonzalo Guerrero",
          "address3": "",
          "city": "Playa del Carmen",
          "country": "MX",
          "display_address": [
           "Calle Quinta Avenida S/N",
           "Col. Gonzalo Guerrero",
           "77710 Playa del Carmen, Quintana Roo",
           "Mexico"
          ],
          "state": "ROO",
          "zip_code": "77710"
         },
         "name": "500 Gramos Grill",
         "phone": "+529843163620",
         "price": "$$",
         "rating": 4.5,
         "review_count": 127,
         "transactions": [],
         "url": "https://www.yelp.com/biz/500-gramos-grill-playa-del-carmen?adjust_creative=_ggy3Sdpay4Ja_rXWsdaCQ&utm_campaign=yelp_api_v3&utm_medium=api_v3_business_search&utm_source=_ggy3Sdpay4Ja_rXWsdaCQ"
        },
        {
         "alias": "chez-céline-playa-del-carmen-2",
         "categories": [
          {
           "alias": "bakeries",
           "title": "Bakeries"
          },
          {
           "alias": "desserts",
           "title": "Desserts"
          }
         ],
         "coordinates": {
          "latitude": 20.6338107158392,
          "longitude": -87.0672801096491
         },
         "display_phone": "+52 984 803 3480",
         "distance": 2480.8926287038025,
         "id": "abMCnzi1GHRWA6o1yqn33A",
         "image_url": "https://s3-media4.fl.yelpcdn.com/bphoto/7Bb9BZYrqf9xQCeXnwEUZw/o.jpg",
         "is_closed": false,
         "location": {
          "address1": "Calle 5a Avenida S/N",
          "address2": "Col. Zazil Ha",
          "address3": "",
          "city": "Playa del Carmen",
          "country": "MX",
          "display_address": [
           "Calle 5a Avenida S/N",
           "Col. Zazil Ha",
           "77710 Playa del Carmen, Quintana Roo",
           "Mexico"
          ],
          "state": "ROO",
          "zip_code": "77710"
         },
         "name": "Chez Céline",
         "phone": "+529848033480",
         "price": "$$",
         "rating": 4.5,
         "review_count": 125,
         "transactions": [],
         "url": "https://www.yelp.com/biz/chez-c%C3%A9line-playa-del-carmen-2?adjust_creative=_ggy3Sdpay4Ja_rXWsdaCQ&utm_campaign=yelp_api_v3&utm_medium=api_v3_business_search&utm_source=_ggy3Sdpay4Ja_rXWsdaCQ"
        },
        {
         "alias": "oh-lala-playa-del-carmen",
         "categories": [
          {
           "alias": "modern_european",
           "title": "Modern European"
          },
          {
           "alias": "seafood",
           "title": "Seafood"
          },
          {
           "alias": "mediterranean",
           "title": "Mediterranean"
          }
         ],
         "coordinates": {
          "latitude": 20.629753,
          "longitude": -87.071813
         },
         "display_phone": "+52 984 127 4844",
         "distance": 3099.6745151888094,
         "id": "dxmZU3rUhdQY2qMhva_F6g",
         "image_url": "https://s3-media3.fl.yelpcdn.com/bphoto/uxFV1MeY7IZk3kzn-qvTnw/o.jpg",
         "is_closed": false,
         "location": {
          "address1": "Calle 14 Nte Bis 147",
          "address2": "Col. Centro",
          "address3": "",
          "city": "Playa del Carmen",
          "country": "MX",
          "display_address": [
           "Calle 14 Nte Bis 147",
           "Col. Centro",
           "77710 Playa del Carmen, Quintana Roo",
           "Mexico"
          ],
          "state": "ROO",
          "zip_code": "77710"
         },
         "name": "Oh Lala",
         "phone": "+529841274844",
         "price": "$$$",
         "rating": 5,
         "review_count": 122,
         "transactions": [],
         "url": "https://www.yelp.com/biz/oh-lala-playa-del-carmen?adjust_creative=_ggy3Sdpay4Ja_rXWsdaCQ&utm_campaign=yelp_api_v3&utm_medium=api_v3_business_search&utm_source=_ggy3Sdpay4Ja_rXWsdaCQ"
        },
        {
         "alias": "la-perla-pixan-cuisine-playa-del-carmen",
         "categories": [
          {
           "alias": "mexican",
           "title": "Mexican"
          }
         ],
         "coordinates": {
          "latitude": 20.6339360354139,
          "longitude": -87.0674086454169
         },
         "display_phone": "+52 984 120 2616",
         "distance": 2474.120863957386,
         "id": "PVcTpaVtLnU6fO_6B4blhw",
         "image_url": "https://s3-media2.fl.yelpcdn.com/bphoto/i4k5mbReFTukvitdjEQ8CA/o.jpg",
         "is_closed": false,
         "location": {
          "address1": "Calle 34 Nte S/N",
          "address2": "Col. Colosio",
          "address3": "",
          "city": "Playa del Carmen",
          "country": "MX",
          "display_address": [
           "Calle 34 Nte S/N",
           "Col. Colosio",
           "77710 Playa del Carmen, Quintana Roo",
           "Mexico"
          ],
          "state": "ROO",
          "zip_code": "77710"
         },
         "name": "La Perla Pixan Cuisine",
         "phone": "+529841202616",
         "price": "$$",
         "rating": 4.5,
         "review_count": 115,
         "transactions": [],
         "url": "https://www.yelp.com/biz/la-perla-pixan-cuisine-playa-del-carmen?adjust_creative=_ggy3Sdpay4Ja_rXWsdaCQ&utm_campaign=yelp_api_v3&utm_medium=api_v3_business_search&utm_source=_ggy3Sdpay4Ja_rXWsdaCQ"
        },
        {
         "alias": "los-tacotales-cozumel",
         "categories": [
          {
           "alias": "mexican",
           "title": "Mexican"
          }
         ],
         "coordinates": {
          "latitude": 20.507043,
          "longitude": -86.949411
         },
         "display_phone": "+52 987 120 1076",
         "distance": 19808.949510760347,
         "id": "GyUQMkmlVhutBt6v6yElEg",
         "image_url": "https://s3-media1.fl.yelpcdn.com/bphoto/-zgyrhB9pVgIMYyur3t9EQ/o.jpg",
         "is_closed": false,
         "location": {
          "address1": "15A Avenida Sur S/N",
          "address2": "",
          "address3": "",
          "city": "Cozumel",
          "country": "MX",
          "display_address": [
           "15A Avenida Sur S/N",
           "77600 Cozumel, Quintana Roo",
           "Mexico"
          ],
          "state": "ROO",
          "zip_code": "77600"
         },
         "name": "Los Tacotales",
         "phone": "+529871201076",
         "price": "$",
         "rating": 4.5,
         "review_count": 115,
         "transactions": [],
         "url": "https://www.yelp.com/biz/los-tacotales-cozumel?adjust_creative=_ggy3Sdpay4Ja_rXWsdaCQ&utm_campaign=yelp_api_v3&utm_medium=api_v3_business_search&utm_source=_ggy3Sdpay4Ja_rXWsdaCQ"
        },
        {
         "alias": "la-vagabunda-playa-del-carmen-2",
         "categories": [
          {
           "alias": "mexican",
           "title": "Mexican"
          },
          {
           "alias": "breakfast_brunch",
           "title": "Breakfast & Brunch"
          }
         ],
         "coordinates": {
          "latitude": 20.631761,
          "longitude": -87.068576
         },
         "display_phone": "+52 984 873 3753",
         "distance": 2744.7430195247834,
         "id": "ayfRv5a7kj0ERuitx1QiOQ",
         "image_url": "https://s3-media3.fl.yelpcdn.com/bphoto/ocBz5JZIza60W_emEnaWPw/o.jpg",
         "is_closed": false,
         "location": {
          "address1": "5ta avenida entre Calle 24 y Calle 26 Nte S/N",
          "address2": "",
          "address3": "",
          "city": "Playa del Carmen",
          "country": "MX",
          "display_address": [
           "5ta avenida entre Calle 24 y Calle 26 Nte S/N",
           "77720 Playa del Carmen, Quintana Roo",
           "Mexico"
          ],
          "state": "ROO",
          "zip_code": "77720"
         },
         "name": "La Vagabunda",
         "phone": "+529848733753",
         "price": "$$",
         "rating": 4,
         "review_count": 114,
         "transactions": [],
         "url": "https://www.yelp.com/biz/la-vagabunda-playa-del-carmen-2?adjust_creative=_ggy3Sdpay4Ja_rXWsdaCQ&utm_campaign=yelp_api_v3&utm_medium=api_v3_business_search&utm_source=_ggy3Sdpay4Ja_rXWsdaCQ"
        },
        {
         "alias": "la-bodeguita-del-medio-playa-del-carmen",
         "categories": [
          {
           "alias": "cuban",
           "title": "Cuban"
          },
          {
           "alias": "bars",
           "title": "Bars"
          },
          {
           "alias": "danceclubs",
           "title": "Dance Clubs"
          }
         ],
         "coordinates": {
          "latitude": 20.6339985109311,
          "longitude": -87.0670728829895
         },
         "display_phone": "+52 984 803 3951",
         "distance": 2452.7945957821366,
         "id": "6vG2K80ULzRXWlizbNckww",
         "image_url": "https://s3-media3.fl.yelpcdn.com/bphoto/gQp-N7blfSfPdWBmVjpwiQ/o.jpg",
         "is_closed": false,
         "location": {
          "address1": "Calle 34 Norte S/N",
          "address2": "Col.  Centro",
          "address3": "",
          "city": "Playa del Carmen",
          "country": "MX",
          "display_address": [
           "Calle 34 Norte S/N",
           "Col.  Centro",
           "77710 Playa del Carmen, Quintana Roo",
           "Mexico"
          ],
          "state": "ROO",
          "zip_code": "77710"
         },
         "name": "La Bodeguita del Medio",
         "phone": "+529848033951",
         "price": "$$",
         "rating": 4,
         "review_count": 110,
         "transactions": [],
         "url": "https://www.yelp.com/biz/la-bodeguita-del-medio-playa-del-carmen?adjust_creative=_ggy3Sdpay4Ja_rXWsdaCQ&utm_campaign=yelp_api_v3&utm_medium=api_v3_business_search&utm_source=_ggy3Sdpay4Ja_rXWsdaCQ"
        },
        {
         "alias": "la-parrilla-playa-del-carmen",
         "categories": [
          {
           "alias": "mexican",
           "title": "Mexican"
          }
         ],
         "coordinates": {
          "latitude": 20.6297402122606,
          "longitude": -87.0700309408994
         },
         "display_phone": "+52 984 873 0687",
         "distance": 3013.272847493747,
         "id": "faC2UlAvR1F7uwJYvfQXuA",
         "image_url": "https://s3-media2.fl.yelpcdn.com/bphoto/rrqQmmcP6CNosqAbZ9Zuag/o.jpg",
         "is_closed": false,
         "location": {
          "address1": "Call Quinta Avenida S/N",
          "address2": "",
          "address3": "",
          "city": "Playa del Carmen",
          "country": "MX",
          "display_address": [
           "Call Quinta Avenida S/N",
           "77710 Playa del Carmen, Quintana Roo",
           "Mexico"
          ],
          "state": "ROO",
          "zip_code": "77710"
         },
         "name": "La Parrilla",
         "phone": "+529848730687",
         "price": "$$",
         "rating": 4,
         "review_count": 107,
         "transactions": [],
         "url": "https://www.yelp.com/biz/la-parrilla-playa-del-carmen?adjust_creative=_ggy3Sdpay4Ja_rXWsdaCQ&utm_campaign=yelp_api_v3&utm_medium=api_v3_business_search&utm_source=_ggy3Sdpay4Ja_rXWsdaCQ"
        },
        {
         "alias": "casa-mission-cozumel",
         "categories": [
          {
           "alias": "seafood",
           "title": "Seafood"
          }
         ],
         "coordinates": {
          "latitude": 20.503551,
          "longitude": -86.941256
         },
         "display_phone": "+52 987 872 1641",
         "distance": 20614.989849497404,
         "id": "Lwqn-f7wsaqO2BEFL4OcSg",
         "image_url": "https://s3-media4.fl.yelpcdn.com/bphoto/nZfusl8zkxtSnnIunOTXFw/o.jpg",
         "is_closed": false,
         "location": {
          "address1": "55 Avenida Sur S/N",
          "address2": "",
          "address3": "",
          "city": "Cozumel",
          "country": "MX",
          "display_address": [
           "55 Avenida Sur S/N",
           "77600 Cozumel, Quintana Roo",
           "Mexico"
          ],
          "state": "ROO",
          "zip_code": "77600"
         },
         "name": "Casa Mission",
         "phone": "+529878721641",
         "price": "$$",
         "rating": 4.5,
         "review_count": 105,
         "transactions": [],
         "url": "https://www.yelp.com/biz/casa-mission-cozumel?adjust_creative=_ggy3Sdpay4Ja_rXWsdaCQ&utm_campaign=yelp_api_v3&utm_medium=api_v3_business_search&utm_source=_ggy3Sdpay4Ja_rXWsdaCQ"
        },
        {
         "alias": "piola-playa-del-carmen",
         "categories": [
          {
           "alias": "pizza",
           "title": "Pizza"
          },
          {
           "alias": "italian",
           "title": "Italian"
          }
         ],
         "coordinates": {
          "latitude": 20.635156198531,
          "longitude": -87.0655167359916
         },
         "display_phone": "+52 984 803 4229",
         "distance": 2269.2300874881626,
         "id": "wOpPgaCrjdijsohruHGtxQ",
         "image_url": "https://s3-media2.fl.yelpcdn.com/bphoto/8t1cszK0KqbTdVhq0IgD1w/o.jpg",
         "is_closed": false,
         "location": {
          "address1": "Av. 38 Norte S/N",
          "address2": "Col. Zazil Ha",
          "address3": "",
          "city": "Playa del Carmen",
          "country": "MX",
          "display_address": [
           "Av. 38 Norte S/N",
           "Col. Zazil Ha",
           "77720 Playa del Carmen, Quintana Roo",
           "Mexico"
          ],
          "state": "ROO",
          "zip_code": "77720"
         },
         "name": "Piola",
         "phone": "+529848034229",
         "price": "$$",
         "rating": 4.5,
         "review_count": 101,
         "transactions": [],
         "url": "https://www.yelp.com/biz/piola-playa-del-carmen?adjust_creative=_ggy3Sdpay4Ja_rXWsdaCQ&utm_campaign=yelp_api_v3&utm_medium=api_v3_business_search&utm_source=_ggy3Sdpay4Ja_rXWsdaCQ"
        },
        {
         "alias": "amparos-cozumel-4",
         "categories": [
          {
           "alias": "breakfast_brunch",
           "title": "Breakfast & Brunch"
          },
          {
           "alias": "bistros",
           "title": "Bistros"
          }
         ],
         "coordinates": {
          "latitude": 20.51075,
          "longitude": -86.947335
         },
         "display_phone": "+52 987 872 7749",
         "distance": 19595.479515078623,
         "id": "wRhSnRK0DaE-Fgr3A7dPlw",
         "image_url": "https://s3-media1.fl.yelpcdn.com/bphoto/RBsnuCRymfNZ-gzVvRRXgw/o.jpg",
         "is_closed": false,
         "location": {
          "address1": "10a Av. Nte. 132",
          "address2": "Col. Centro",
          "address3": "",
          "city": "Cozumel",
          "country": "MX",
          "display_address": [
           "10a Av. Nte. 132",
           "Col. Centro",
           "77600 Cozumel, Quintana Roo",
           "Mexico"
          ],
          "state": "ROO",
          "zip_code": "77600"
         },
         "name": "Amparo's",
         "phone": "+529878727749",
         "price": "$",
         "rating": 4.5,
         "review_count": 101,
         "transactions": [],
         "url": "https://www.yelp.com/biz/amparos-cozumel-4?adjust_creative=_ggy3Sdpay4Ja_rXWsdaCQ&utm_campaign=yelp_api_v3&utm_medium=api_v3_business_search&utm_source=_ggy3Sdpay4Ja_rXWsdaCQ"
        },
        {
         "alias": "zenzi-playa-del-carmen",
         "categories": [
          {
           "alias": "bars",
           "title": "Bars"
          },
          {
           "alias": "mexican",
           "title": "Mexican"
          }
         ],
         "coordinates": {
          "latitude": 20.6260031147322,
          "longitude": -87.0710881058208
         },
         "display_phone": "+52 984 803 5738",
         "distance": 3435.136447519146,
         "id": "ERTsmfT3VjlWF4xXXNn2MQ",
         "image_url": "https://s3-media2.fl.yelpcdn.com/bphoto/Zxn54OP9leFWsHuWd0BYrw/o.jpg",
         "is_closed": false,
         "location": {
          "address1": "Calle 10",
          "address2": "en la playa",
          "address3": "",
          "city": "Playa del Carmen",
          "country": "MX",
          "display_address": [
           "Calle 10",
           "en la playa",
           "77720 Playa del Carmen, Quintana Roo",
           "Mexico"
          ],
          "state": "ROO",
          "zip_code": "77720"
         },
         "name": "Zenzi",
         "phone": "+529848035738",
         "price": "$$",
         "rating": 4,
         "review_count": 101,
         "transactions": [],
         "url": "https://www.yelp.com/biz/zenzi-playa-del-carmen?adjust_creative=_ggy3Sdpay4Ja_rXWsdaCQ&utm_campaign=yelp_api_v3&utm_medium=api_v3_business_search&utm_source=_ggy3Sdpay4Ja_rXWsdaCQ"
        },
        {
         "alias": "blue-lobster-playa-del-carmen",
         "categories": [
          {
           "alias": "seafood",
           "title": "Seafood"
          },
          {
           "alias": "mexican",
           "title": "Mexican"
          }
         ],
         "coordinates": {
          "latitude": 20.627412,
          "longitude": -87.071588
         },
         "display_phone": "+52 984 803 1200",
         "distance": 3317.4621034637885,
         "id": "2ZW9QYlYw8ftc0vLU399Xw",
         "image_url": "https://s3-media4.fl.yelpcdn.com/bphoto/tgI3xNCkQeaR1h8ukpJPVA/o.jpg",
         "is_closed": false,
         "location": {
          "address1": "Calle 12 Nte S/N",
          "address2": "Col. Centro",
          "address3": null,
          "city": "Playa del Carmen",
          "country": "MX",
          "display_address": [
           "Calle 12 Nte S/N",
           "Col. Centro",
           "77710 Playa del Carmen, Quintana Roo",
           "Mexico"
          ],
          "state": "ROO",
          "zip_code": "77710"
         },
         "name": "Blue Lobster",
         "phone": "+529848031200",
         "price": "$$",
         "rating": 4,
         "review_count": 101,
         "transactions": [],
         "url": "https://www.yelp.com/biz/blue-lobster-playa-del-carmen?adjust_creative=_ggy3Sdpay4Ja_rXWsdaCQ&utm_campaign=yelp_api_v3&utm_medium=api_v3_business_search&utm_source=_ggy3Sdpay4Ja_rXWsdaCQ"
        },
        {
         "alias": "la-senda-playa-del-carmen",
         "categories": [
          {
           "alias": "vegan",
           "title": "Vegan"
          },
          {
           "alias": "vegetarian",
           "title": "Vegetarian"
          }
         ],
         "coordinates": {
          "latitude": 20.627726,
          "longitude": -87.073059
         },
         "display_phone": "+52 984 803 0499",
         "distance": 3359.7014557412026,
         "id": "V09_XxKyFBkJqwcuQzaEbQ",
         "image_url": "https://s3-media4.fl.yelpcdn.com/bphoto/NLARJfPHeW6ihtygs2LoeA/o.jpg",
         "is_closed": false,
         "location": {
          "address1": "10 Av. Norte S/N",
          "address2": "Col. Centro",
          "address3": "",
          "city": "Playa del Carmen",
          "country": "MX",
          "display_address": [
           "10 Av. Norte S/N",
           "Col. Centro",
           "77710 Playa del Carmen, Quintana Roo",
           "Mexico"
          ],
          "state": "ROO",
          "zip_code": "77710"
         },
         "name": "La Senda",
         "phone": "+529848030499",
         "price": "$",
         "rating": 4.5,
         "review_count": 98,
         "transactions": [],
         "url": "https://www.yelp.com/biz/la-senda-playa-del-carmen?adjust_creative=_ggy3Sdpay4Ja_rXWsdaCQ&utm_campaign=yelp_api_v3&utm_medium=api_v3_business_search&utm_source=_ggy3Sdpay4Ja_rXWsdaCQ"
        },
        {
         "alias": "las-hijas-de-la-tostada-cancún",
         "categories": [
          {
           "alias": "seafood",
           "title": "Seafood"
          }
         ],
         "coordinates": {
          "latitude": 20.635622,
          "longitude": -87.065857
         },
         "display_phone": "+52 984 100 2466",
         "distance": 2235.8993366669347,
         "id": "UIOouI1X-j07vm0bYQBtGA",
         "image_url": "https://s3-media2.fl.yelpcdn.com/bphoto/dJAQ4UVhwza8a8DYEZ5GfQ/o.jpg",
         "is_closed": false,
         "location": {
          "address1": "Calle Quinta Avenida S/N",
          "address2": "Col. Gonzalo Guerrero",
          "address3": "",
          "city": "Cancún",
          "country": "MX",
          "display_address": [
           "Calle Quinta Avenida S/N",
           "Col. Gonzalo Guerrero",
           "77720 Cancún, Quintana Roo",
           "Mexico"
          ],
          "state": "ROO",
          "zip_code": "77720"
         },
         "name": "Las Hijas de la Tostada",
         "phone": "+529841002466",
         "price": "$$",
         "rating": 4,
         "review_count": 97,
         "transactions": [],
         "url": "https://www.yelp.com/biz/las-hijas-de-la-tostada-canc%C3%BAn?adjust_creative=_ggy3Sdpay4Ja_rXWsdaCQ&utm_campaign=yelp_api_v3&utm_medium=api_v3_business_search&utm_source=_ggy3Sdpay4Ja_rXWsdaCQ"
        },
        {
         "alias": "la-fishería-playa-del-carmen-2",
         "categories": [
          {
           "alias": "seafood",
           "title": "Seafood"
          }
         ],
         "coordinates": {
          "latitude": 20.6308344032361,
          "longitude": -87.069227
         },
         "display_phone": "+52 984 803 0611",
         "distance": 2867.0727543186645,
         "id": "0nRgH1Dn9yrt29w8hmE_Pg",
         "image_url": "https://s3-media2.fl.yelpcdn.com/bphoto/rLQCdzqx5pScqCn3hDCgMw/o.jpg",
         "is_closed": false,
         "location": {
          "address1": "Calle Quinta Avenida S/N",
          "address2": "Col. Centro",
          "address3": "",
          "city": "Playa del Carmen",
          "country": "MX",
          "display_address": [
           "Calle Quinta Avenida S/N",
           "Col. Centro",
           "77712 Playa del Carmen, Quintana Roo",
           "Mexico"
          ],
          "state": "ROO",
          "zip_code": "77712"
         },
         "name": "La Fishería",
         "phone": "+529848030611",
         "price": "$$$",
         "rating": 4,
         "review_count": 96,
         "transactions": [],
         "url": "https://www.yelp.com/biz/la-fisher%C3%ADa-playa-del-carmen-2?adjust_creative=_ggy3Sdpay4Ja_rXWsdaCQ&utm_campaign=yelp_api_v3&utm_medium=api_v3_business_search&utm_source=_ggy3Sdpay4Ja_rXWsdaCQ"
        },
        {
         "alias": "kinta-mexican-bistro-cozumel",
         "categories": [
          {
           "alias": "mexican",
           "title": "Mexican"
          }
         ],
         "coordinates": {
          "latitude": 20.5117425917065,
          "longitude": -86.9477809796845
         },
         "display_phone": "+52 987 869 0544",
         "distance": 19478.729364879717,
         "id": "0FJOYbsgFY2zcggOTlxRjg",
         "image_url": "https://s3-media3.fl.yelpcdn.com/bphoto/WIHqKFbanqJOOHk4criBqA/o.jpg",
         "is_closed": false,
         "location": {
          "address1": "5ta Avenida Nte 148",
          "address2": "",
          "address3": "",
          "city": "Cozumel",
          "country": "MX",
          "display_address": [
           "5ta Avenida Nte 148",
           "77622 Cozumel, Quintana Roo",
           "Mexico"
          ],
          "state": "ROO",
          "zip_code": "77622"
         },
         "name": "Kinta Mexican Bistro",
         "phone": "+529878690544",
         "price": "$$",
         "rating": 5,
         "review_count": 93,
         "transactions": [],
         "url": "https://www.yelp.com/biz/kinta-mexican-bistro-cozumel?adjust_creative=_ggy3Sdpay4Ja_rXWsdaCQ&utm_campaign=yelp_api_v3&utm_medium=api_v3_business_search&utm_source=_ggy3Sdpay4Ja_rXWsdaCQ"
        },
        {
         "alias": "panchos-backyard-san-miguel-de-cozumel-2",
         "categories": [
          {
           "alias": "bars",
           "title": "Bars"
          },
          {
           "alias": "mexican",
           "title": "Mexican"
          },
          {
           "alias": "seafood",
           "title": "Seafood"
          }
         ],
         "coordinates": {
          "latitude": 20.4767108596807,
          "longitude": -86.9746060031833
         },
         "display_phone": "+52 987 872 2141",
         "distance": 21496.303019376315,
         "id": "lQF8HzT_gXa8RG9IuJLIIw",
         "image_url": "https://s3-media1.fl.yelpcdn.com/bphoto/ou-fpUNoHXN6HLWXTaJo3g/o.jpg",
         "is_closed": false,
         "location": {
          "address1": "Carretera Chankanaab Km 4.5",
          "address2": "Col. Costera Sur",
          "address3": "",
          "city": "San Miguel de Cozumel",
          "country": "MX",
          "display_address": [
           "Carretera Chankanaab Km 4.5",
           "Col. Costera Sur",
           "77600 San Miguel de Cozumel, Quintana Roo",
           "Mexico"
          ],
          "state": "ROO",
          "zip_code": "77600"
         },
         "name": "Pancho's Backyard",
         "phone": "+529878722141",
         "price": "$$",
         "rating": 4.5,
         "review_count": 90,
         "transactions": [],
         "url": "https://www.yelp.com/biz/panchos-backyard-san-miguel-de-cozumel-2?adjust_creative=_ggy3Sdpay4Ja_rXWsdaCQ&utm_campaign=yelp_api_v3&utm_medium=api_v3_business_search&utm_source=_ggy3Sdpay4Ja_rXWsdaCQ"
        },
        {
         "alias": "coz-coffee-roasting-company-cozumel",
         "categories": [
          {
           "alias": "coffee",
           "title": "Coffee & Tea"
          },
          {
           "alias": "breakfast_brunch",
           "title": "Breakfast & Brunch"
          }
         ],
         "coordinates": {
          "latitude": 20.5108271687,
          "longitude": -86.9485928389
         },
         "display_phone": "+52 987 869 3354",
         "distance": 19512.46189149079,
         "id": "7bDC5WqurF_Zvvrp-CB6Vg",
         "image_url": "https://s3-media3.fl.yelpcdn.com/bphoto/F5L4wkOdyVMQ27ANV6_m6Q/o.jpg",
         "is_closed": false,
         "location": {
          "address1": "Av. 5 Nte S/N",
          "address2": "Col. Centro",
          "address3": "",
          "city": "Cozumel",
          "country": "MX",
          "display_address": [
           "Av. 5 Nte S/N",
           "Col. Centro",
           "77600 Cozumel, Quintana Roo",
           "Mexico"
          ],
          "state": "ROO",
          "zip_code": "77600"
         },
         "name": "Coz Coffee Roasting Company",
         "phone": "+529878693354",
         "price": "$",
         "rating": 4.5,
         "review_count": 89,
         "transactions": [],
         "url": "https://www.yelp.com/biz/coz-coffee-roasting-company-cozumel?adjust_creative=_ggy3Sdpay4Ja_rXWsdaCQ&utm_campaign=yelp_api_v3&utm_medium=api_v3_business_search&utm_source=_ggy3Sdpay4Ja_rXWsdaCQ"
        },
        {
         "alias": "la-mission-cozumel",
         "categories": [
          {
           "alias": "seafood",
           "title": "Seafood"
          },
          {
           "alias": "mexican",
           "title": "Mexican"
          }
         ],
         "coordinates": {
          "latitude": 20.509443,
          "longitude": -86.95088
         },
         "display_phone": "+52 987 872 6340",
         "distance": 19502.34384626723,
         "id": "XnEB9ynzT0UmajxCXZQIHg",
         "image_url": "https://s3-media2.fl.yelpcdn.com/bphoto/jbwj2MlCL4x89LATDtcKJQ/o.jpg",
         "is_closed": false,
         "location": {
          "address1": "Calle Dr. Adolfo Rosado Salas S/N",
          "address2": "Col. Centro",
          "address3": "",
          "city": "Cozumel",
          "country": "MX",
          "display_address": [
           "Calle Dr. Adolfo Rosado Salas S/N",
           "Col. Centro",
           "06700 Cozumel, Quintana Roo",
           "Mexico"
          ],
          "state": "ROO",
          "zip_code": "06700"
         },
         "name": "La Mission",
         "phone": "+529878726340",
         "price": "$$",
         "rating": 4,
         "review_count": 89,
         "transactions": [],
         "url": "https://www.yelp.com/biz/la-mission-cozumel?adjust_creative=_ggy3Sdpay4Ja_rXWsdaCQ&utm_campaign=yelp_api_v3&utm_medium=api_v3_business_search&utm_source=_ggy3Sdpay4Ja_rXWsdaCQ"
        },
        {
         "alias": "harrys-playa-del-carmen",
         "categories": [
          {
           "alias": "cocktailbars",
           "title": "Cocktail Bars"
          },
          {
           "alias": "steak",
           "title": "Steakhouses"
          },
          {
           "alias": "raw_food",
           "title": "Live/Raw Food"
          }
         ],
         "coordinates": {
          "latitude": 20.6283528060904,
          "longitude": -87.0711197853088
         },
         "display_phone": "+52 984 803 2021",
         "distance": 3202.144978227148,
         "id": "BuGaLOXiqxo1iLLPcij7fQ",
         "image_url": "https://s3-media2.fl.yelpcdn.com/bphoto/CHI7y5u1mSqL1ngEn-i_Ug/o.jpg",
         "is_closed": false,
         "location": {
          "address1": "Calle Quinta Avenida S/N",
          "address2": "Lote 8",
          "address3": "",
          "city": "Playa del Carmen",
          "country": "MX",
          "display_address": [
           "Calle Quinta Avenida S/N",
           "Lote 8",
           "77710 Playa del Carmen, Quintana Roo",
           "Mexico"
          ],
          "state": "ROO",
          "zip_code": "77710"
         },
         "name": "Harry's",
         "phone": "+529848032021",
         "price": "$$$$",
         "rating": 4.5,
         "review_count": 88,
         "transactions": [],
         "url": "https://www.yelp.com/biz/harrys-playa-del-carmen?adjust_creative=_ggy3Sdpay4Ja_rXWsdaCQ&utm_campaign=yelp_api_v3&utm_medium=api_v3_business_search&utm_source=_ggy3Sdpay4Ja_rXWsdaCQ"
        },
        {
         "alias": "romeo-playa-del-carmen",
         "categories": [
          {
           "alias": "pizza",
           "title": "Pizza"
          },
          {
           "alias": "italian",
           "title": "Italian"
          }
         ],
         "coordinates": {
          "latitude": 20.6248014530333,
          "longitude": -87.075296013739
         },
         "display_phone": "+52 984 141 6507",
         "distance": 3757.7729665437646,
         "id": "d08E5FnP8jmeu0Wn6wBuhQ",
         "image_url": "https://s3-media2.fl.yelpcdn.com/bphoto/dcdgWTopRaT3Pp20CoBrhg/o.jpg",
         "is_closed": false,
         "location": {
          "address1": "Calle 4 Nte. S/N",
          "address2": "",
          "address3": "",
          "city": "Playa del Carmen",
          "country": "MX",
          "display_address": [
           "Calle 4 Nte. S/N",
           "77710 Playa del Carmen, Quintana Roo",
           "Mexico"
          ],
          "state": "ROO",
          "zip_code": "77710"
         },
         "name": "Romeo",
         "phone": "+529841416507",
         "price": "$$",
         "rating": 4.5,
         "review_count": 87,
         "transactions": [],
         "url": "https://www.yelp.com/biz/romeo-playa-del-carmen?adjust_creative=_ggy3Sdpay4Ja_rXWsdaCQ&utm_campaign=yelp_api_v3&utm_medium=api_v3_business_search&utm_source=_ggy3Sdpay4Ja_rXWsdaCQ"
        },
        {
         "alias": "aldea-corazón-quintana-roo-2",
         "categories": [
          {
           "alias": "mexican",
           "title": "Mexican"
          }
         ],
         "coordinates": {
          "latitude": 20.628509,
          "longitude": -87.071083
         },
         "display_phone": "+52 984 803 1942",
         "distance": 3184.953550901169,
         "id": "4VAyiPg4CmGE-Tp_2VwMAQ",
         "image_url": "https://s3-media4.fl.yelpcdn.com/bphoto/TPDhzbw8S8wKszVkrPm7Dg/o.jpg",
         "is_closed": false,
         "location": {
          "address1": "Calle Quinta Avenida S/N",
          "address2": "Col. Centro",
          "address3": "",
          "city": "Quintana Roo",
          "country": "MX",
          "display_address": [
           "Calle Quinta Avenida S/N",
           "Col. Centro",
           "77710 Quintana Roo",
           "Mexico"
          ],
          "state": "ROO",
          "zip_code": "77710"
         },
         "name": "Aldea Corazón",
         "phone": "+529848031942",
         "price": "$$$",
         "rating": 3.5,
         "review_count": 87,
         "transactions": [],
         "url": "https://www.yelp.com/biz/aldea-coraz%C3%B3n-quintana-roo-2?adjust_creative=_ggy3Sdpay4Ja_rXWsdaCQ&utm_campaign=yelp_api_v3&utm_medium=api_v3_business_search&utm_source=_ggy3Sdpay4Ja_rXWsdaCQ"
        },
        {
         "alias": "don-chendo-playa-del-carmen",
         "categories": [
          {
           "alias": "pizza",
           "title": "Pizza"
          },
          {
           "alias": "italian",
           "title": "Italian"
          }
         ],
         "coordinates": {
          "latitude": 20.63448124997446,
          "longitude": -87.07322070721327
         },
         "display_phone": "+52 984 803 5950",
         "distance": 2743.3682177161254,
         "id": "EhgCTbLY7aVyPVVaXUYGow",
         "image_url": "https://s3-media4.fl.yelpcdn.com/bphoto/WEpm8OJLsMMLR4dPCdp5RA/o.jpg",
         "is_closed": false,
         "location": {
          "address1": "30 Avenida Nte. S/N",
          "address2": "Col. Centro",
          "address3": "",
          "city": "Playa del Carmen",
          "country": "MX",
          "display_address": [
           "30 Avenida Nte. S/N",
           "Col. Centro",
           "77710 Playa del Carmen, Quintana Roo",
           "Mexico"
          ],
          "state": "ROO",
          "zip_code": "77710"
         },
         "name": "Don Chendo",
         "phone": "+529848035950",
         "price": "$$",
         "rating": 4.5,
         "review_count": 87,
         "transactions": [],
         "url": "https://www.yelp.com/biz/don-chendo-playa-del-carmen?adjust_creative=_ggy3Sdpay4Ja_rXWsdaCQ&utm_campaign=yelp_api_v3&utm_medium=api_v3_business_search&utm_source=_ggy3Sdpay4Ja_rXWsdaCQ"
        },
        {
         "alias": "100-natural-playa-del-carmen-2",
         "categories": [
          {
           "alias": "mexican",
           "title": "Mexican"
          },
          {
           "alias": "breakfast_brunch",
           "title": "Breakfast & Brunch"
          }
         ],
         "coordinates": {
          "latitude": 20.626974770187,
          "longitude": -87.0720429974417
         },
         "display_phone": "+52 984 873 2242",
         "distance": 3382.389341962255,
         "id": "0a0pMrQRFDzq3JyGmQ1MDQ",
         "image_url": "https://s3-media3.fl.yelpcdn.com/bphoto/yUNxuv-xJ2bjbuC3khL94Q/o.jpg",
         "is_closed": false,
         "location": {
          "address1": "Calle Quinta Avenida 201",
          "address2": "Col. Centro",
          "address3": "",
          "city": "Playa del Carmen",
          "country": "MX",
          "display_address": [
           "Calle Quinta Avenida 201",
           "Col. Centro",
           "77710 Playa del Carmen, Quintana Roo",
           "Mexico"
          ],
          "state": "ROO",
          "zip_code": "77710"
         },
         "name": "100% Natural",
         "phone": "+529848732242",
         "price": "$$",
         "rating": 4,
         "review_count": 85,
         "transactions": [],
         "url": "https://www.yelp.com/biz/100-natural-playa-del-carmen-2?adjust_creative=_ggy3Sdpay4Ja_rXWsdaCQ&utm_campaign=yelp_api_v3&utm_medium=api_v3_business_search&utm_source=_ggy3Sdpay4Ja_rXWsdaCQ"
        },
        {
         "alias": "don-sirloin-playa-del-carmen-2",
         "categories": [
          {
           "alias": "mexican",
           "title": "Mexican"
          }
         ],
         "coordinates": {
          "latitude": 20.628603,
          "longitude": -87.072365
         },
         "display_phone": "+52 984 148 0424",
         "distance": 3239.2312182188416,
         "id": "YXMA0Z4LcUGZ1N5LuZRqxA",
         "image_url": "https://s3-media1.fl.yelpcdn.com/bphoto/l41DNn3-Yq1eA2eusyUvQA/o.jpg",
         "is_closed": false,
         "location": {
          "address1": "10 Avenida Nte S/N",
          "address2": "Col. Centro",
          "address3": "",
          "city": "Playa del Carmen",
          "country": "MX",
          "display_address": [
           "10 Avenida Nte S/N",
           "Col. Centro",
           "08800 Playa del Carmen, Quintana Roo",
           "Mexico"
          ],
          "state": "ROO",
          "zip_code": "08800"
         },
         "name": "Don Sirloin",
         "phone": "+529841480424",
         "price": "$",
         "rating": 4.5,
         "review_count": 84,
         "transactions": [],
         "url": "https://www.yelp.com/biz/don-sirloin-playa-del-carmen-2?adjust_creative=_ggy3Sdpay4Ja_rXWsdaCQ&utm_campaign=yelp_api_v3&utm_medium=api_v3_business_search&utm_source=_ggy3Sdpay4Ja_rXWsdaCQ"
        },
        {
         "alias": "po-thai-restaurant-playa-del-carmen",
         "categories": [
          {
           "alias": "thai",
           "title": "Thai"
          }
         ],
         "coordinates": {
          "latitude": 20.629283,
          "longitude": -87.071666
         },
         "display_phone": "+52 984 277 4846",
         "distance": 3137.712629527795,
         "id": "mfKdsOUshqZjbNatxzv7Og",
         "image_url": "https://s3-media2.fl.yelpcdn.com/bphoto/LY34J6RZLsqYlg6J1ghk4A/o.jpg",
         "is_closed": false,
         "location": {
          "address1": "10  Av. Nte S/N",
          "address2": "Col. Centro",
          "address3": null,
          "city": "Playa del Carmen",
          "country": "MX",
          "display_address": [
           "10  Av. Nte S/N",
           "Col. Centro",
           "77710 Playa del Carmen, Quintana Roo",
           "Mexico"
          ],
          "state": "ROO",
          "zip_code": "77710"
         },
         "name": "Po Thai Restaurant",
         "phone": "+529842774846",
         "price": "$$",
         "rating": 4.5,
         "review_count": 83,
         "transactions": [],
         "url": "https://www.yelp.com/biz/po-thai-restaurant-playa-del-carmen?adjust_creative=_ggy3Sdpay4Ja_rXWsdaCQ&utm_campaign=yelp_api_v3&utm_medium=api_v3_business_search&utm_source=_ggy3Sdpay4Ja_rXWsdaCQ"
        },
        {
         "alias": "the-thirsty-cougar-cozumel",
         "categories": [
          {
           "alias": "cocktailbars",
           "title": "Cocktail Bars"
          },
          {
           "alias": "mexican",
           "title": "Mexican"
          },
          {
           "alias": "breakfast_brunch",
           "title": "Breakfast & Brunch"
          }
         ],
         "coordinates": {
          "latitude": 20.50882,
          "longitude": -86.952075
         },
         "display_phone": "+52 987 869 0214",
         "distance": 19489.46445895358,
         "id": "gJhY50VD7QuTTeAHkRVCOA",
         "image_url": "https://s3-media1.fl.yelpcdn.com/bphoto/6eSqa4wL58RvFxR0qQ3a4Q/o.jpg",
         "is_closed": false,
         "location": {
          "address1": "Av.Rafael E. Melgar S/N",
          "address2": "",
          "address3": "",
          "city": "Cozumel",
          "country": "MX",
          "display_address": [
           "Av.Rafael E. Melgar S/N",
           "77600 Cozumel, Quintana Roo",
           "Mexico"
          ],
          "state": "ROO",
          "zip_code": "77600"
         },
         "name": "The Thirsty Cougar",
         "phone": "+529878690214",
         "price": "$$",
         "rating": 4.5,
         "review_count": 82,
         "transactions": [],
         "url": "https://www.yelp.com/biz/the-thirsty-cougar-cozumel?adjust_creative=_ggy3Sdpay4Ja_rXWsdaCQ&utm_campaign=yelp_api_v3&utm_medium=api_v3_business_search&utm_source=_ggy3Sdpay4Ja_rXWsdaCQ"
        },
        {
         "alias": "lobster-shack-cozumel",
         "categories": [
          {
           "alias": "seafood",
           "title": "Seafood"
          },
          {
           "alias": "mexican",
           "title": "Mexican"
          }
         ],
         "coordinates": {
          "latitude": 20.5086305629315,
          "longitude": -86.9516607333435
         },
         "display_phone": "+52 987 869 0812",
         "distance": 19531.10227101968,
         "id": "Am4KWNYcE9-Hl2njMAVzYw",
         "image_url": "https://s3-media2.fl.yelpcdn.com/bphoto/ilmXfsPVIDTD9HGXX3CNXA/o.jpg",
         "is_closed": false,
         "location": {
          "address1": "Calle 3 Sur 2",
          "address2": "Col. Centro",
          "address3": "",
          "city": "Cozumel",
          "country": "MX",
          "display_address": [
           "Calle 3 Sur 2",
           "Col. Centro",
           "77600 Cozumel, Quintana Roo",
           "Mexico"
          ],
          "state": "ROO",
          "zip_code": "77600"
         },
         "name": "Lobster Shack",
         "phone": "+529878690812",
         "price": "$$",
         "rating": 4.5,
         "review_count": 82,
         "transactions": [],
         "url": "https://www.yelp.com/biz/lobster-shack-cozumel?adjust_creative=_ggy3Sdpay4Ja_rXWsdaCQ&utm_campaign=yelp_api_v3&utm_medium=api_v3_business_search&utm_source=_ggy3Sdpay4Ja_rXWsdaCQ"
        },
        {
         "alias": "la-coronela-playa-del-carmen-playa-del-carmen",
         "categories": [
          {
           "alias": "mexican",
           "title": "Mexican"
          }
         ],
         "coordinates": {
          "latitude": 20.6224005906827,
          "longitude": -87.0761028304696
         },
         "display_phone": "+52 984 114 9783",
         "distance": 4031.040863105815,
         "id": "LJ7Y2-l22q3J0PAjTXOgVg",
         "image_url": "https://s3-media2.fl.yelpcdn.com/bphoto/1NvaTCva_GuJrL-UcEjQQA/o.jpg",
         "is_closed": false,
         "location": {
          "address1": "Calle 1ra Sur S/N",
          "address2": "Col. Centro",
          "address3": "",
          "city": "Playa del Carmen",
          "country": "MX",
          "display_address": [
           "Calle 1ra Sur S/N",
           "Col. Centro",
           "77710 Playa del Carmen, Quintana Roo",
           "Mexico"
          ],
          "state": "ROO",
          "zip_code": "77710"
         },
         "name": "La Coronela Playa Del Carmen",
         "phone": "+529841149783",
         "price": "$$",
         "rating": 4.5,
         "review_count": 82,
         "transactions": [],
         "url": "https://www.yelp.com/biz/la-coronela-playa-del-carmen-playa-del-carmen?adjust_creative=_ggy3Sdpay4Ja_rXWsdaCQ&utm_campaign=yelp_api_v3&utm_medium=api_v3_business_search&utm_source=_ggy3Sdpay4Ja_rXWsdaCQ"
        },
        {
         "alias": "micaelas-playa-del-carmen",
         "categories": [
          {
           "alias": "breakfast_brunch",
           "title": "Breakfast & Brunch"
          },
          {
           "alias": "mexican",
           "title": "Mexican"
          }
         ],
         "coordinates": {
          "latitude": 20.6325537660845,
          "longitude": -87.0682261715615
         },
         "display_phone": "+52 984 803 5831",
         "distance": 2649.554570940809,
         "id": "6XXA4e3DY_--026kYSHRSA",
         "image_url": "https://s3-media4.fl.yelpcdn.com/bphoto/vYytnMIKwIARnBDumxuisw/o.jpg",
         "is_closed": false,
         "location": {
          "address1": "Quinta Av.",
          "address2": "",
          "address3": "",
          "city": "Playa del Carmen",
          "country": "MX",
          "display_address": [
           "Quinta Av.",
           "77710 Playa del Carmen, Quintana Roo",
           "Mexico"
          ],
          "state": "ROO",
          "zip_code": "77710"
         },
         "name": "Micaela's",
         "phone": "+529848035831",
         "price": "$$",
         "rating": 3,
         "review_count": 82,
         "transactions": [],
         "url": "https://www.yelp.com/biz/micaelas-playa-del-carmen?adjust_creative=_ggy3Sdpay4Ja_rXWsdaCQ&utm_campaign=yelp_api_v3&utm_medium=api_v3_business_search&utm_source=_ggy3Sdpay4Ja_rXWsdaCQ"
        },
        {
         "alias": "rockas-jamaican-kitchen-playa-del-carmen",
         "categories": [
          {
           "alias": "caribbean",
           "title": "Caribbean"
          }
         ],
         "coordinates": {
          "latitude": 20.6319514556013,
          "longitude": -87.0676421863472
         },
         "display_phone": "+52 984 277 9119",
         "distance": 2684.330116272672,
         "id": "r_1_1gdg6lcNml8-pB2fcg",
         "image_url": "https://s3-media1.fl.yelpcdn.com/bphoto/3uidW0GcBRO0M0Blp2gL1A/o.jpg",
         "is_closed": false,
         "location": {
          "address1": "1 Avenida Norte S/N",
          "address2": "Manzana 77",
          "address3": "Lote 2",
          "city": "Playa del Carmen",
          "country": "MX",
          "display_address": [
           "1 Avenida Norte S/N",
           "Manzana 77",
           "Lote 2",
           "77710 Playa del Carmen, Quintana Roo",
           "Mexico"
          ],
          "state": "ROO",
          "zip_code": "77710"
         },
         "name": "Rockas Jamaican Kitchen",
         "phone": "+529842779119",
         "rating": 5,
         "review_count": 78,
         "transactions": [],
         "url": "https://www.yelp.com/biz/rockas-jamaican-kitchen-playa-del-carmen?adjust_creative=_ggy3Sdpay4Ja_rXWsdaCQ&utm_campaign=yelp_api_v3&utm_medium=api_v3_business_search&utm_source=_ggy3Sdpay4Ja_rXWsdaCQ"
        },
        {
         "alias": "trattoria-del-centro-playa-del-carmen",
         "categories": [
          {
           "alias": "italian",
           "title": "Italian"
          }
         ],
         "coordinates": {
          "latitude": 20.6321805219538,
          "longitude": -87.069041817569
         },
         "display_phone": "+52 984 147 2294",
         "distance": 2724.748273330124,
         "id": "UCgjbyM1iCOANPlBwm0r3g",
         "image_url": "https://s3-media2.fl.yelpcdn.com/bphoto/DnpXt_mWdf3OdesaxSca0A/o.jpg",
         "is_closed": false,
         "location": {
          "address1": "Calle 26 Nte S/N",
          "address2": "",
          "address3": "",
          "city": "Playa del Carmen",
          "country": "MX",
          "display_address": [
           "Calle 26 Nte S/N",
           "77710 Playa del Carmen, Quintana Roo",
           "Mexico"
          ],
          "state": "ROO",
          "zip_code": "77710"
         },
         "name": "Trattoria del Centro",
         "phone": "+529841472294",
         "rating": 4.5,
         "review_count": 76,
         "transactions": [],
         "url": "https://www.yelp.com/biz/trattoria-del-centro-playa-del-carmen?adjust_creative=_ggy3Sdpay4Ja_rXWsdaCQ&utm_campaign=yelp_api_v3&utm_medium=api_v3_business_search&utm_source=_ggy3Sdpay4Ja_rXWsdaCQ"
        },
        {
         "alias": "the-pitted-date-playa-del-carmen-5",
         "categories": [
          {
           "alias": "vegan",
           "title": "Vegan"
          },
          {
           "alias": "breakfast_brunch",
           "title": "Breakfast & Brunch"
          },
          {
           "alias": "gluten_free",
           "title": "Gluten-Free"
          }
         ],
         "coordinates": {
          "latitude": 20.6369743,
          "longitude": -87.0629082
         },
         "display_phone": "+52 984 803 3917",
         "distance": 1984.8561984502676,
         "id": "_0X0seSHYeOC3QY1Pk9u9g",
         "image_url": "https://s3-media4.fl.yelpcdn.com/bphoto/V_MT5gAIgY5agibnQcWbNg/o.jpg",
         "is_closed": false,
         "location": {
          "address1": "Av. C.T.M S/N",
          "address2": "",
          "address3": null,
          "city": "Playa del Carmen",
          "country": "MX",
          "display_address": [
           "Av. C.T.M S/N",
           "77720 Playa del Carmen, Quintana Roo",
           "Mexico"
          ],
          "state": "ROO",
          "zip_code": "77720"
         },
         "name": "The Pitted Date",
         "phone": "+529848033917",
         "rating": 4.5,
         "review_count": 76,
         "transactions": [],
         "url": "https://www.yelp.com/biz/the-pitted-date-playa-del-carmen-5?adjust_creative=_ggy3Sdpay4Ja_rXWsdaCQ&utm_campaign=yelp_api_v3&utm_medium=api_v3_business_search&utm_source=_ggy3Sdpay4Ja_rXWsdaCQ"
        },
        {
         "alias": "crazy-king-burrito-san-miguel-de-cozumel",
         "categories": [
          {
           "alias": "mexican",
           "title": "Mexican"
          }
         ],
         "coordinates": {
          "latitude": 20.5120982424205,
          "longitude": -86.9473577196301
         },
         "display_phone": "+52 987 102 6638",
         "distance": 19472.43073461853,
         "id": "BuxtE4PNApk-WXaSKLDg_w",
         "image_url": "https://s3-media1.fl.yelpcdn.com/bphoto/d55HiDeCD70LaTQ6gf66hw/o.jpg",
         "is_closed": false,
         "location": {
          "address1": "5a Av. Norte 220",
          "address2": "",
          "address3": null,
          "city": "San Miguel de Cozumel",
          "country": "MX",
          "display_address": [
           "5a Av. Norte 220",
           "77600 San Miguel de Cozumel, Quintana Roo",
           "Mexico"
          ],
          "state": "ROO",
          "zip_code": "77600"
         },
         "name": "Crazy King Burrito",
         "phone": "+529871026638",
         "price": "$",
         "rating": 5,
         "review_count": 76,
         "transactions": [],
         "url": "https://www.yelp.com/biz/crazy-king-burrito-san-miguel-de-cozumel?adjust_creative=_ggy3Sdpay4Ja_rXWsdaCQ&utm_campaign=yelp_api_v3&utm_medium=api_v3_business_search&utm_source=_ggy3Sdpay4Ja_rXWsdaCQ"
        }
       ],
       "region": {
        "center": {
         "latitude": 20.653958107850627,
         "longitude": -87.05703735351562
        }
       },
       "total": 240
      },
      "text/plain": [
       "<IPython.core.display.JSON object>"
      ]
     },
     "execution_count": 49,
     "metadata": {
      "application/json": {
       "expanded": false,
       "root": "root"
      }
     },
     "output_type": "execute_result"
    }
   ],
   "source": [
    "# Yelp\n",
    "## Run only once so as not to overload the API. Uncomment resp variable below to run again\n",
    "\n",
    "api_key = os.environ['yelp_key']\n",
    "\n",
    "url = 'https://api.yelp.com/v3/businesses/search'\n",
    "\n",
    "headers= {\"Authorization\": f\"Bearer {api_key}\"}\n",
    "\n",
    "params = dict(\n",
    "location = 'Playa Del Carmen, Mexico',\n",
    "limit=50,\n",
    "sort_by = 'review_count'\n",
    ")\n",
    "resp = re.get(url=url, headers=headers, params=params)\n",
    "data_yelp = json.loads(resp.text)\n",
    "\n",
    "#Write to file\n",
    "with open('####################################', 'w', encoding='utf-8') as f:\n",
    "    json.dump(data_yelp, f, ensure_ascii=False, indent=4)\n",
    "    \n",
    "JSON(data_yelp)"
   ]
  },
  {
   "cell_type": "code",
   "execution_count": 6,
   "metadata": {},
   "outputs": [
    {
     "data": {
      "text/plain": [
       "Index(['id', 'alias', 'name', 'image_url', 'is_closed', 'url', 'review_count',\n",
       "       'categories', 'rating', 'transactions', 'price', 'phone',\n",
       "       'display_phone', 'distance', 'coordinates.latitude',\n",
       "       'coordinates.longitude', 'location.address1', 'location.address2',\n",
       "       'location.address3', 'location.city', 'location.zip_code',\n",
       "       'location.country', 'location.state', 'location.display_address'],\n",
       "      dtype='object')"
      ]
     },
     "execution_count": 6,
     "metadata": {},
     "output_type": "execute_result"
    }
   ],
   "source": [
    "with open('data_yelp.json','r') as f:\n",
    "    data_yelp = json.loads(f.read())\n",
    "df_yelp = pd.json_normalize(data_yelp, record_path=['businesses'], errors='ignore')\n",
    "df_yelp.columns"
   ]
  },
  {
   "cell_type": "code",
   "execution_count": 7,
   "metadata": {},
   "outputs": [
    {
     "data": {
      "text/plain": [
       "id                          object\n",
       "alias                       object\n",
       "name                        object\n",
       "image_url                   object\n",
       "is_closed                   object\n",
       "url                         object\n",
       "review_count                object\n",
       "categories                  object\n",
       "rating                      object\n",
       "transactions                object\n",
       "price                       object\n",
       "phone                       object\n",
       "display_phone               object\n",
       "distance                    object\n",
       "coordinates.latitude        object\n",
       "coordinates.longitude       object\n",
       "location.address1           object\n",
       "location.address2           object\n",
       "location.address3           object\n",
       "location.city               object\n",
       "location.zip_code           object\n",
       "location.country            object\n",
       "location.state              object\n",
       "location.display_address    object\n",
       "dtype: object"
      ]
     },
     "execution_count": 7,
     "metadata": {},
     "output_type": "execute_result"
    }
   ],
   "source": [
    "\n",
    "df_yelp = df_yelp.applymap(str)\n",
    "df_yelp.dtypes"
   ]
  },
  {
   "cell_type": "code",
   "execution_count": 70,
   "metadata": {},
   "outputs": [],
   "source": [
    "conn = sql.connect('playa.db')\n",
    "df_yelp.to_sql('yelp_data', conn, schema='online', index=False, if_exists='append')"
   ]
  },
  {
   "cell_type": "code",
   "execution_count": 74,
   "metadata": {},
   "outputs": [
    {
     "data": {
      "text/html": [
       "<div>\n",
       "<style scoped>\n",
       "    .dataframe tbody tr th:only-of-type {\n",
       "        vertical-align: middle;\n",
       "    }\n",
       "\n",
       "    .dataframe tbody tr th {\n",
       "        vertical-align: top;\n",
       "    }\n",
       "\n",
       "    .dataframe thead th {\n",
       "        text-align: right;\n",
       "    }\n",
       "</style>\n",
       "<table border=\"1\" class=\"dataframe\">\n",
       "  <thead>\n",
       "    <tr style=\"text-align: right;\">\n",
       "      <th></th>\n",
       "      <th>name</th>\n",
       "      <th>rating</th>\n",
       "      <th>review_count</th>\n",
       "      <th>price</th>\n",
       "      <th>is_closed</th>\n",
       "      <th>categories</th>\n",
       "      <th>location.display_address</th>\n",
       "    </tr>\n",
       "  </thead>\n",
       "  <tbody>\n",
       "    <tr>\n",
       "      <th>0</th>\n",
       "      <td>El Fogón</td>\n",
       "      <td>4.5</td>\n",
       "      <td>928</td>\n",
       "      <td>$</td>\n",
       "      <td>False</td>\n",
       "      <td>[{'alias': 'tacos', 'title': 'Tacos'}]</td>\n",
       "      <td>['30 Avenida Nte. S/N', 'Col. Centro', '77710 ...</td>\n",
       "    </tr>\n",
       "    <tr>\n",
       "      <th>1</th>\n",
       "      <td>Kaxapa Factory</td>\n",
       "      <td>5.0</td>\n",
       "      <td>545</td>\n",
       "      <td>$</td>\n",
       "      <td>False</td>\n",
       "      <td>[{'alias': 'latin', 'title': 'Latin American'}...</td>\n",
       "      <td>['Calle 10 Norte S/N', 'Col. Centro', '77710 P...</td>\n",
       "    </tr>\n",
       "    <tr>\n",
       "      <th>2</th>\n",
       "      <td>Madrez Café</td>\n",
       "      <td>5.0</td>\n",
       "      <td>463</td>\n",
       "      <td>$</td>\n",
       "      <td>False</td>\n",
       "      <td>[{'alias': 'breakfast_brunch', 'title': 'Break...</td>\n",
       "      <td>['Calle 8 Nte S/N', '77710 Playa del Carmen, Q...</td>\n",
       "    </tr>\n",
       "    <tr>\n",
       "      <th>3</th>\n",
       "      <td>Xcaret Park</td>\n",
       "      <td>4.0</td>\n",
       "      <td>420</td>\n",
       "      <td>nan</td>\n",
       "      <td>False</td>\n",
       "      <td>[{'alias': 'amusementparks', 'title': 'Amuseme...</td>\n",
       "      <td>['Carretera Chetumal-Puerto Juárez Km 282', '7...</td>\n",
       "    </tr>\n",
       "    <tr>\n",
       "      <th>4</th>\n",
       "      <td>La Cueva del Chango</td>\n",
       "      <td>4.5</td>\n",
       "      <td>340</td>\n",
       "      <td>$$</td>\n",
       "      <td>False</td>\n",
       "      <td>[{'alias': 'vegetarian', 'title': 'Vegetarian'...</td>\n",
       "      <td>['Calle 38 Nte. S/N', 'Col. Zazil Ha', '77710 ...</td>\n",
       "    </tr>\n",
       "    <tr>\n",
       "      <th>5</th>\n",
       "      <td>Xplor Park</td>\n",
       "      <td>4.5</td>\n",
       "      <td>310</td>\n",
       "      <td>nan</td>\n",
       "      <td>False</td>\n",
       "      <td>[{'alias': 'amusementparks', 'title': 'Amuseme...</td>\n",
       "      <td>['Carretera Federal 307 Km 282', '77710 Playa ...</td>\n",
       "    </tr>\n",
       "    <tr>\n",
       "      <th>6</th>\n",
       "      <td>Alux Restaurant</td>\n",
       "      <td>3.5</td>\n",
       "      <td>269</td>\n",
       "      <td>$$$$</td>\n",
       "      <td>False</td>\n",
       "      <td>[{'alias': 'mexican', 'title': 'Mexican'}, {'a...</td>\n",
       "      <td>['Av. Juárez S/N', 'Col. Ejidal', '77710 Playa...</td>\n",
       "    </tr>\n",
       "    <tr>\n",
       "      <th>7</th>\n",
       "      <td>La Choza</td>\n",
       "      <td>4.5</td>\n",
       "      <td>236</td>\n",
       "      <td>$$</td>\n",
       "      <td>False</td>\n",
       "      <td>[{'alias': 'mexican', 'title': 'Mexican'}, {'a...</td>\n",
       "      <td>['10a Avenida Sur 216', 'Col. Centro', '77600 ...</td>\n",
       "    </tr>\n",
       "    <tr>\n",
       "      <th>8</th>\n",
       "      <td>Los Aguachiles</td>\n",
       "      <td>4.5</td>\n",
       "      <td>235</td>\n",
       "      <td>$$</td>\n",
       "      <td>False</td>\n",
       "      <td>[{'alias': 'seafood', 'title': 'Seafood'}, {'a...</td>\n",
       "      <td>['Calle 34 Nte S/N', 'Col. Centro', '77710 Pla...</td>\n",
       "    </tr>\n",
       "    <tr>\n",
       "      <th>9</th>\n",
       "      <td>La Famiglia</td>\n",
       "      <td>4.5</td>\n",
       "      <td>226</td>\n",
       "      <td>$$</td>\n",
       "      <td>False</td>\n",
       "      <td>[{'alias': 'pizza', 'title': 'Pizza'}, {'alias...</td>\n",
       "      <td>['Av. 10 S/N', 'Col. Centro', '77710 Playa del...</td>\n",
       "    </tr>\n",
       "  </tbody>\n",
       "</table>\n",
       "</div>"
      ],
      "text/plain": [
       "                  name rating review_count price is_closed  \\\n",
       "0             El Fogón    4.5          928     $     False   \n",
       "1       Kaxapa Factory    5.0          545     $     False   \n",
       "2          Madrez Café    5.0          463     $     False   \n",
       "3          Xcaret Park    4.0          420   nan     False   \n",
       "4  La Cueva del Chango    4.5          340    $$     False   \n",
       "5           Xplor Park    4.5          310   nan     False   \n",
       "6      Alux Restaurant    3.5          269  $$$$     False   \n",
       "7             La Choza    4.5          236    $$     False   \n",
       "8       Los Aguachiles    4.5          235    $$     False   \n",
       "9          La Famiglia    4.5          226    $$     False   \n",
       "\n",
       "                                          categories  \\\n",
       "0             [{'alias': 'tacos', 'title': 'Tacos'}]   \n",
       "1  [{'alias': 'latin', 'title': 'Latin American'}...   \n",
       "2  [{'alias': 'breakfast_brunch', 'title': 'Break...   \n",
       "3  [{'alias': 'amusementparks', 'title': 'Amuseme...   \n",
       "4  [{'alias': 'vegetarian', 'title': 'Vegetarian'...   \n",
       "5  [{'alias': 'amusementparks', 'title': 'Amuseme...   \n",
       "6  [{'alias': 'mexican', 'title': 'Mexican'}, {'a...   \n",
       "7  [{'alias': 'mexican', 'title': 'Mexican'}, {'a...   \n",
       "8  [{'alias': 'seafood', 'title': 'Seafood'}, {'a...   \n",
       "9  [{'alias': 'pizza', 'title': 'Pizza'}, {'alias...   \n",
       "\n",
       "                            location.display_address  \n",
       "0  ['30 Avenida Nte. S/N', 'Col. Centro', '77710 ...  \n",
       "1  ['Calle 10 Norte S/N', 'Col. Centro', '77710 P...  \n",
       "2  ['Calle 8 Nte S/N', '77710 Playa del Carmen, Q...  \n",
       "3  ['Carretera Chetumal-Puerto Juárez Km 282', '7...  \n",
       "4  ['Calle 38 Nte. S/N', 'Col. Zazil Ha', '77710 ...  \n",
       "5  ['Carretera Federal 307 Km 282', '77710 Playa ...  \n",
       "6  ['Av. Juárez S/N', 'Col. Ejidal', '77710 Playa...  \n",
       "7  ['10a Avenida Sur 216', 'Col. Centro', '77600 ...  \n",
       "8  ['Calle 34 Nte S/N', 'Col. Centro', '77710 Pla...  \n",
       "9  ['Av. 10 S/N', 'Col. Centro', '77710 Playa del...  "
      ]
     },
     "execution_count": 74,
     "metadata": {},
     "output_type": "execute_result"
    }
   ],
   "source": [
    "dyelp_sql = pd.read_sql('SELECT * FROM yelp_data', conn)\n",
    "dyelp_sql[['name', 'rating', 'review_count', 'price','is_closed',  'categories','location.display_address']].head(10)"
   ]
  },
  {
   "cell_type": "code",
   "execution_count": 27,
   "metadata": {},
   "outputs": [],
   "source": [
    "api_key = os.environ['maps_api_key']"
   ]
  },
  {
   "cell_type": "code",
   "execution_count": 6,
   "metadata": {
    "tags": []
   },
   "outputs": [],
   "source": [
    "# Google Places API\n",
    "api_key = os.environ['maps_api_key']\n",
    "\n",
    "url = 'https://maps.googleapis.com/maps/api/place/textsearch/json'\n",
    "\n",
    "\n",
    "params = dict(\n",
    "query = 'Attractions in Playa Del Carmen, Mexico',\n",
    "key=api_key\n",
    ")\n",
    "resp = re.get(url=url, params=params)\n",
    "\n",
    "data_google = json.loads(resp.text)\n",
    "\n",
    "\n"
   ]
  },
  {
   "cell_type": "code",
   "execution_count": 35,
   "metadata": {},
   "outputs": [
    {
     "data": {
      "application/json": {
       "html_attributions": [],
       "next_page_token": "Aap_uEC1KrhB8a796elXzP_T5Eneg97zKXEIwg7OTeTtuW6UQCMk0mJxY41gPMGJuEZTwJB25mj4As_A6BwB_2ZjsDjaOUVHCKBE7PImIIXbDn7Th2emXkvZgifXv0knAzSNWk-wKLr0S8iF1nFsdRwqWX6vSaYxZlBKe3_yHocVVx4eNUo2mh6YeIGaZ5N0B6GQ0XRe6KYXjiD019GVOi8TQK5j51zaOjpelwbJLJvGOHVOHSXqmw4uinBjBImv0UXj8o41hCmkdMGPM5ZAhRHSluu9dR2S6jVu_OQpeFMfY6zt8zPu5CPBGF57-1x7jRnax-nfe7qisl4yIjVkUhooc6q0zlMruNURdp-eMwvTSeTuIaZc82TA0Z03O0yxYbOPouKusIOI-A5eZdUdLdBgJz7fSLTUzoiiBbjbqDLT13WfzAKD7Q",
       "results": [
        {
         "business_status": "OPERATIONAL",
         "formatted_address": "Playacar, 77717 Playa del Carmen, Quintana Roo, Mexico",
         "geometry": {
          "location": {
           "lat": 20.6133752,
           "lng": -87.0898943
          },
          "viewport": {
           "northeast": {
            "lat": 20.61533012989272,
            "lng": -87.08819782010727
           },
           "southwest": {
            "lat": 20.61263047010728,
            "lng": -87.09089747989272
           }
          }
         },
         "icon": "https://maps.gstatic.com/mapfiles/place_api/icons/v1/png_71/generic_business-71.png",
         "icon_background_color": "#13B5C7",
         "icon_mask_base_uri": "https://maps.gstatic.com/mapfiles/place_api/icons/v2/generic_pinlet",
         "name": "Playa del Carmen",
         "photos": [
          {
           "height": 1908,
           "html_attributions": [
            "<a href=\"https://maps.google.com/maps/contrib/111283444794491055952\">Nura Nur</a>"
           ],
           "photo_reference": "Aap_uEDhG0rqujgdH5X-KSfUWrG1bvhAFWVU76B9F2UOxKEZ2RR2PpZNM84HxJANvNC1oA0Bykdoq5S3deruF76A5NFTvdfgXUl_iLl_fzDeIH5-26Uzx02pOlyUqKGPhdr7a4W_OLH93AI6bSwZJISAsheh3YAdWz22dWEVIn91wsoqGmte",
           "width": 4032
          }
         ],
         "place_id": "ChIJMVD4eOdDTo8Rf0_3BBTVriU",
         "plus_code": {
          "compound_code": "JW76+92 Playa del Carmen, Quintana Roo, Mexico",
          "global_code": "76GJJW76+92"
         },
         "rating": 0,
         "reference": "ChIJMVD4eOdDTo8Rf0_3BBTVriU",
         "types": [
          "tourist_attraction",
          "point_of_interest",
          "establishment"
         ],
         "user_ratings_total": 0
        },
        {
         "business_status": "OPERATIONAL",
         "formatted_address": "5 Av. Nte. 10, Playacar, 77717 Playa del Carmen, Q.R., Mexico",
         "geometry": {
          "location": {
           "lat": 20.6146041,
           "lng": -87.0831717
          },
          "viewport": {
           "northeast": {
            "lat": 20.61612897989272,
            "lng": -87.08199152010728
           },
           "southwest": {
            "lat": 20.61342932010728,
            "lng": -87.08469117989272
           }
          }
         },
         "icon": "https://maps.gstatic.com/mapfiles/place_api/icons/v1/png_71/generic_business-71.png",
         "icon_background_color": "#7B9EB0",
         "icon_mask_base_uri": "https://maps.gstatic.com/mapfiles/place_api/icons/v2/generic_pinlet",
         "name": "Playa del Carmen Archeological Site",
         "opening_hours": {
          "open_now": true
         },
         "photos": [
          {
           "height": 3456,
           "html_attributions": [
            "<a href=\"https://maps.google.com/maps/contrib/102308365656620976090\">Josue Prieto</a>"
           ],
           "photo_reference": "Aap_uECdQWPWWUDVYrq2_7QBVLkTcbg0xhMGdBJTXuxWaNnF-mdRpaQIopryeBFtVYi7k7O5abq4D8Mvz7hy0YZ375dsukAB8DCZcs0ykLPvYlGJawSv2jr2ipR2-rSvdOjaJHbNdheMQmRa3jWDePti4cB_dee1xxWmXz6Te9uXOofs3Aoc",
           "width": 5184
          }
         ],
         "place_id": "ChIJdbytl2pDTo8R3xTsu5oZTfo",
         "plus_code": {
          "compound_code": "JW78+RP Playa del Carmen, Quintana Roo, Mexico",
          "global_code": "76GJJW78+RP"
         },
         "rating": 4.3,
         "reference": "ChIJdbytl2pDTo8R3xTsu5oZTfo",
         "types": [
          "tourist_attraction",
          "point_of_interest",
          "establishment"
         ],
         "user_ratings_total": 372
        },
        {
         "business_status": "OPERATIONAL",
         "formatted_address": "Centro, 77710 Playa del Carmen, Quintana Roo, Mexico",
         "geometry": {
          "location": {
           "lat": 20.6212257,
           "lng": -87.07519959999999
          },
          "viewport": {
           "northeast": {
            "lat": 20.62257097989272,
            "lng": -87.07384372010728
           },
           "southwest": {
            "lat": 20.61987132010728,
            "lng": -87.07654337989273
           }
          }
         },
         "icon": "https://maps.gstatic.com/mapfiles/place_api/icons/v1/png_71/generic_business-71.png",
         "icon_background_color": "#13B5C7",
         "icon_mask_base_uri": "https://maps.gstatic.com/mapfiles/place_api/icons/v2/generic_pinlet",
         "name": "Letras Playa del Carmen",
         "opening_hours": {
          "open_now": true
         },
         "photos": [
          {
           "height": 4032,
           "html_attributions": [
            "<a href=\"https://maps.google.com/maps/contrib/117397470831664768997\">Michelle H</a>"
           ],
           "photo_reference": "Aap_uEANOJGe8espXUYciGeXkTSajEYz-yuKDdZlPsjB15_i8f-fpUsv_viRipK6Lo-N31c3XLubzQEgTFvYp74Pjstp7RhmwKEeNn9m98KPyFbHTLFeDkh1RwXmIHeD6nqOIakNCvRCYhmgT104wjz5FNWfOhO8vc8w8TaTJneuOb3ubVc",
           "width": 3024
          }
         ],
         "place_id": "ChIJT5SFKjpDTo8R63k0pS9d2Jk",
         "plus_code": {
          "compound_code": "JWCF+FW Playa del Carmen, Quintana Roo, Mexico",
          "global_code": "76GJJWCF+FW"
         },
         "rating": 4.6,
         "reference": "ChIJT5SFKjpDTo8R63k0pS9d2Jk",
         "types": [
          "tourist_attraction",
          "point_of_interest",
          "establishment"
         ],
         "user_ratings_total": 408
        },
        {
         "business_status": "OPERATIONAL",
         "formatted_address": "Av Benito Juárez 251, Centro, 77710 Playa del Carmen, Q.R., Mexico",
         "geometry": {
          "location": {
           "lat": 20.6218103,
           "lng": -87.0746951
          },
          "viewport": {
           "northeast": {
            "lat": 20.62315452989272,
            "lng": -87.07333797010729
           },
           "southwest": {
            "lat": 20.62045487010728,
            "lng": -87.07603762989272
           }
          }
         },
         "icon": "https://maps.gstatic.com/mapfiles/place_api/icons/v1/png_71/generic_business-71.png",
         "icon_background_color": "#13B5C7",
         "icon_mask_base_uri": "https://maps.gstatic.com/mapfiles/place_api/icons/v2/generic_pinlet",
         "name": "Portal Maya",
         "opening_hours": {
          "open_now": true
         },
         "photos": [
          {
           "height": 3472,
           "html_attributions": [
            "<a href=\"https://maps.google.com/maps/contrib/100450810111012353918\">Gandhi Valdez</a>"
           ],
           "photo_reference": "Aap_uEAwy88JCOmHLTom11BMH7zV1O8ZY1bWwOpZgMu5atl1dKQV_bpRJ2LmHYAiP716gHaZaR5JqmVe5rxHzYbwGqk5yqcQks3xWTrRviEeJ6gN7hhM7kUdLslAu6DrJNlq8Oub0FDT91EU56Bysyd5ahcnECF_lFadfJ_g_ZGDVeDiIiD7",
           "width": 4640
          }
         ],
         "place_id": "ChIJZW0fgTlDTo8R2N9-1V0xuNU",
         "plus_code": {
          "compound_code": "JWCG+P4 Playa del Carmen, Quintana Roo, Mexico",
          "global_code": "76GJJWCG+P4"
         },
         "rating": 4.6,
         "reference": "ChIJZW0fgTlDTo8R2N9-1V0xuNU",
         "types": [
          "tourist_attraction",
          "point_of_interest",
          "establishment"
         ],
         "user_ratings_total": 3310
        },
        {
         "business_status": "OPERATIONAL",
         "formatted_address": "Gonzalo Guerrero, 77720 Playa del Carmen, Quintana Roo, Mexico",
         "geometry": {
          "location": {
           "lat": 20.62594,
           "lng": -87.07123299999999
          },
          "viewport": {
           "northeast": {
            "lat": 20.62742657989272,
            "lng": -87.06999907010727
           },
           "southwest": {
            "lat": 20.62472692010728,
            "lng": -87.07269872989272
           }
          }
         },
         "icon": "https://maps.gstatic.com/mapfiles/place_api/icons/v1/png_71/generic_business-71.png",
         "icon_background_color": "#13B5C7",
         "icon_mask_base_uri": "https://maps.gstatic.com/mapfiles/place_api/icons/v2/generic_pinlet",
         "name": "Playa del Carmen Lighthouse",
         "opening_hours": {
          "open_now": true
         },
         "photos": [
          {
           "height": 1936,
           "html_attributions": [
            "<a href=\"https://maps.google.com/maps/contrib/107928118215335650328\">lamparas rachab</a>"
           ],
           "photo_reference": "Aap_uEC6Tq4xwR-7ovZMKD9xHfEx2ZLCb1vkquVCW6wpDYT1ACaaEOv9ufM6tbRkZ0Wh2gUHk75X-91SAm6lsFf-6WnAIGdE2xlK7v3dn-nKhrigXFizFLbCUJqH7yY9EqxFyeY1TQByi9B9ELIJcwzVijpIadgGy5Pz_H_Ru6LHsMcj8yNl",
           "width": 2592
          }
         ],
         "place_id": "ChIJ1ZLIaTBDTo8RcGJFe0bygQ0",
         "plus_code": {
          "compound_code": "JWGH+9G Playa del Carmen, Quintana Roo, Mexico",
          "global_code": "76GJJWGH+9G"
         },
         "rating": 4.5,
         "reference": "ChIJ1ZLIaTBDTo8RcGJFe0bygQ0",
         "types": [
          "tourist_attraction",
          "point_of_interest",
          "establishment"
         ],
         "user_ratings_total": 11
        },
        {
         "business_status": "OPERATIONAL",
         "formatted_address": "Av Benito Juárez, Centro, 77710 Playa del Carmen, Q.R., Mexico",
         "geometry": {
          "location": {
           "lat": 20.6220415,
           "lng": -87.07500639999999
          },
          "viewport": {
           "northeast": {
            "lat": 20.62333197989273,
            "lng": -87.07377957010728
           },
           "southwest": {
            "lat": 20.62063232010728,
            "lng": -87.07647922989271
           }
          }
         },
         "icon": "https://maps.gstatic.com/mapfiles/place_api/icons/v1/png_71/park-71.png",
         "icon_background_color": "#4DB546",
         "icon_mask_base_uri": "https://maps.gstatic.com/mapfiles/place_api/icons/v2/tree_pinlet",
         "name": "Parque Los Fundadores",
         "opening_hours": {
          "open_now": true
         },
         "photos": [
          {
           "height": 4128,
           "html_attributions": [
            "<a href=\"https://maps.google.com/maps/contrib/102287479561856752562\">Juan Pablo Esquivel</a>"
           ],
           "photo_reference": "Aap_uED5deVJLQk6vZBovjp-ROlTJXxOX0zvea1ebftcFo0knCBBEiqtTVxOCXZxV8b9hMXKmzwD4yyBba4NOJkLyEuF9jDHT9pII8EX9CCRtHQyW7o11msredUwHp8nw8zZL4nvvHwJMCfqCe-p3UPbh3LCjVsCjYDxG8BeOAQbsmo2hoBg",
           "width": 3096
          }
         ],
         "place_id": "ChIJ3Uqm1TtDTo8R_6UbOOPCvU0",
         "plus_code": {
          "compound_code": "JWCF+RX Playa del Carmen, Quintana Roo, Mexico",
          "global_code": "76GJJWCF+RX"
         },
         "rating": 4.6,
         "reference": "ChIJ3Uqm1TtDTo8R_6UbOOPCvU0",
         "types": [
          "park",
          "tourist_attraction",
          "point_of_interest",
          "establishment"
         ],
         "user_ratings_total": 16024
        },
        {
         "business_status": "OPERATIONAL",
         "formatted_address": "Unnamed Road, Playacar, 77717 Playa del Carmen, Q.R., Mexico",
         "geometry": {
          "location": {
           "lat": 20.6025909,
           "lng": -87.094517
          },
          "viewport": {
           "northeast": {
            "lat": 20.60392057989272,
            "lng": -87.09318607010728
           },
           "southwest": {
            "lat": 20.60122092010728,
            "lng": -87.09588572989273
           }
          }
         },
         "icon": "https://maps.gstatic.com/mapfiles/place_api/icons/v1/png_71/generic_business-71.png",
         "icon_background_color": "#13B5C7",
         "icon_mask_base_uri": "https://maps.gstatic.com/mapfiles/place_api/icons/v2/generic_pinlet",
         "name": "Sandos Playacar Music Stage",
         "photos": [
          {
           "height": 3024,
           "html_attributions": [
            "<a href=\"https://maps.google.com/maps/contrib/116310746355608097850\">Patrick Wong</a>"
           ],
           "photo_reference": "Aap_uEC7-_Y6MrGHvMKTKojNQ1syEzAAVjVnSNgOrrkOL5R0G78jfzn8KlloI9AQlZK6nhNdcbVt2n8dg_poiGszjZmC1GDtImAqYzpLSZjeT67cVuqZx_cCbd3NNbqPQfEbeBqg4Le52i20tCVjVfLVITZcZ4lU5yUQ8MZlk7EubpWArG4A",
           "width": 4032
          }
         ],
         "place_id": "ChIJ1wvTSlNDTo8R1uWV7cFomQM",
         "plus_code": {
          "compound_code": "JW34+25 Playa del Carmen, Quintana Roo, Mexico",
          "global_code": "76GJJW34+25"
         },
         "rating": 0,
         "reference": "ChIJ1wvTSlNDTo8R1uWV7cFomQM",
         "types": [
          "tourist_attraction",
          "point_of_interest",
          "establishment"
         ],
         "user_ratings_total": 0
        },
        {
         "business_status": "OPERATIONAL",
         "formatted_address": "25 Avenida Nte 7A, Villas del Carmen (Paraíso del Carmen), Gonzalo Guerrero, 77720 Playa del Carmen, Q.R., Mexico",
         "geometry": {
          "location": {
           "lat": 20.634991,
           "lng": -87.0716175
          },
          "viewport": {
           "northeast": {
            "lat": 20.63634532989272,
            "lng": -87.07027532010729
           },
           "southwest": {
            "lat": 20.63364567010728,
            "lng": -87.07297497989272
           }
          }
         },
         "icon": "https://maps.gstatic.com/mapfiles/place_api/icons/v1/png_71/generic_business-71.png",
         "icon_background_color": "#13B5C7",
         "icon_mask_base_uri": "https://maps.gstatic.com/mapfiles/place_api/icons/v2/generic_pinlet",
         "name": "Tohoku Graffiti Wall",
         "place_id": "ChIJvdI7t59DTo8R1Y-Ys4HjbOQ",
         "plus_code": {
          "compound_code": "JWMH+X9 Playa del Carmen, Quintana Roo, Mexico",
          "global_code": "76GJJWMH+X9"
         },
         "rating": 0,
         "reference": "ChIJvdI7t59DTo8R1Y-Ys4HjbOQ",
         "types": [
          "tourist_attraction",
          "point_of_interest",
          "establishment"
         ],
         "user_ratings_total": 0
        },
        {
         "business_status": "OPERATIONAL",
         "formatted_address": "Calle 5 Nte. 3071, Luis Donaldo Colosio, 77728 Playa del Carmen, Q.R., Mexico",
         "geometry": {
          "location": {
           "lat": 20.6473447,
           "lng": -87.0551699
          },
          "viewport": {
           "northeast": {
            "lat": 20.64935632989273,
            "lng": -87.05395077010728
           },
           "southwest": {
            "lat": 20.64665667010728,
            "lng": -87.05665042989271
           }
          }
         },
         "icon": "https://maps.gstatic.com/mapfiles/place_api/icons/v1/png_71/generic_business-71.png",
         "icon_background_color": "#13B5C7",
         "icon_mask_base_uri": "https://maps.gstatic.com/mapfiles/place_api/icons/v2/generic_pinlet",
         "name": "Coro music",
         "place_id": "ChIJmUAKAMddTo8R6Ca4xhrNvnE",
         "plus_code": {
          "compound_code": "JWWV+WW Playa del Carmen, Quintana Roo, Mexico",
          "global_code": "76GJJWWV+WW"
         },
         "rating": 0,
         "reference": "ChIJmUAKAMddTo8R6Ca4xhrNvnE",
         "types": [
          "tourist_attraction",
          "point_of_interest",
          "establishment"
         ],
         "user_ratings_total": 0
        },
        {
         "business_status": "OPERATIONAL",
         "formatted_address": "Carretera Chetúmal Puerto Juárez Kilómetro 282, Solidaridad, 77710 Playa del Carmen, Q.R., Mexico",
         "geometry": {
          "location": {
           "lat": 20.5809134,
           "lng": -87.119698
          },
          "viewport": {
           "northeast": {
            "lat": 20.58214637989272,
            "lng": -87.11802835
           },
           "southwest": {
            "lat": 20.57944672010728,
            "lng": -87.12470694999999
           }
          }
         },
         "icon": "https://maps.gstatic.com/mapfiles/place_api/icons/v1/png_71/generic_business-71.png",
         "icon_background_color": "#7B9EB0",
         "icon_mask_base_uri": "https://maps.gstatic.com/mapfiles/place_api/icons/v2/generic_pinlet",
         "name": "Xcaret Park",
         "opening_hours": {
          "open_now": true
         },
         "photos": [
          {
           "height": 3456,
           "html_attributions": [
            "<a href=\"https://maps.google.com/maps/contrib/105675847385460544565\">Vladimir Guzmán Rivera</a>"
           ],
           "photo_reference": "Aap_uEDfMAHVElJSUnMooGlBjwL4IGW9gma5TpQpnKsAJLP5vc6t9X1EwrUN7ZnHn_DKBRsTdxKA0ZhFITVaL3fFDPhT1-CtQbPtrJv6ZfxQ4ZOtu6misxJMdY7KXpUsKtE0zCHusQpbHC7Qu9wOCLx2hi-DkydiNYqUGw-7eZ0iEUfkxw6u",
           "width": 5184
          }
         ],
         "place_id": "ChIJU3DYrW1ETo8RpQkYkh7oQoA",
         "plus_code": {
          "compound_code": "HVJJ+94 Playa del Carmen, Quintana Roo, Mexico",
          "global_code": "76GJHVJJ+94"
         },
         "rating": 4.8,
         "reference": "ChIJU3DYrW1ETo8RpQkYkh7oQoA",
         "types": [
          "amusement_park",
          "tourist_attraction",
          "point_of_interest",
          "establishment"
         ],
         "user_ratings_total": 77793
        },
        {
         "business_status": "OPERATIONAL",
         "formatted_address": "Carretera Federal, Calle 22 Nte, entre calles 22 y 26 NTE, Gonzalo Guerrero, 77720 Playa del Carmen, Q.R., Mexico",
         "geometry": {
          "location": {
           "lat": 20.6353269,
           "lng": -87.07660249999999
          },
          "viewport": {
           "northeast": {
            "lat": 20.63668312989272,
            "lng": -87.07526217010727
           },
           "southwest": {
            "lat": 20.63398347010727,
            "lng": -87.07796182989271
           }
          }
         },
         "icon": "https://maps.gstatic.com/mapfiles/place_api/icons/v1/png_71/generic_business-71.png",
         "icon_background_color": "#13B5C7",
         "icon_mask_base_uri": "https://maps.gstatic.com/mapfiles/place_api/icons/v2/generic_pinlet",
         "name": "KaribbeanMermaids",
         "opening_hours": {
          "open_now": true
         },
         "photos": [
          {
           "height": 2359,
           "html_attributions": [
            "<a href=\"https://maps.google.com/maps/contrib/110007736077981795611\">A Google User</a>"
           ],
           "photo_reference": "Aap_uEDIihNcYqe-JlVtu6rj7Bt3k9P2PxYUA76MaQUdczkl8defXxrZL0pQfBcCyWr9emMEh8TPwT8NhOSZOGLaGlYUDt2tRw5Wj4NPskvwBI3jtB7pTOLpDgydFrEdG_snjyg993K98czxIKcxnruEejVS6dNMO9bBtqTuxUOY5utv0Riv",
           "width": 4192
          }
         ],
         "place_id": "ChIJSXgYfhhDTo8RMpcJDDtJUZw",
         "plus_code": {
          "compound_code": "JWPF+49 Playa del Carmen, Quintana Roo, Mexico",
          "global_code": "76GJJWPF+49"
         },
         "rating": 5,
         "reference": "ChIJSXgYfhhDTo8RMpcJDDtJUZw",
         "types": [
          "tourist_attraction",
          "point_of_interest",
          "establishment"
         ],
         "user_ratings_total": 6
        },
        {
         "business_status": "OPERATIONAL",
         "formatted_address": "Av. Juárez prolongación km 4.7, Ejidal, 77723 Playa del Carmen, Q.R., Mexico",
         "geometry": {
          "location": {
           "lat": 20.6523162,
           "lng": -87.12565579999999
          },
          "viewport": {
           "northeast": {
            "lat": 20.65363997989272,
            "lng": -87.12432872010727
           },
           "southwest": {
            "lat": 20.65094032010727,
            "lng": -87.12702837989272
           }
          }
         },
         "icon": "https://maps.gstatic.com/mapfiles/place_api/icons/v1/png_71/generic_business-71.png",
         "icon_background_color": "#13B5C7",
         "icon_mask_base_uri": "https://maps.gstatic.com/mapfiles/place_api/icons/v2/generic_pinlet",
         "name": "Cenote Chaak Tun",
         "opening_hours": {
          "open_now": false
         },
         "photos": [
          {
           "height": 4608,
           "html_attributions": [
            "<a href=\"https://maps.google.com/maps/contrib/114709729047038162826\">A Google User</a>"
           ],
           "photo_reference": "Aap_uEDXeVkZ9fXb0DieDMsoAPiotMfK4H2NeXmSzH2NCXFj_uY8OT_V0LZL_ygfhV-KBYjn4bL7C8Ans5zDyMfbDjJwKgQof7D2xdzMEnvou0-M8I2ygf7RrC44N2EOPc2AUgQQxZ-HH1-1Jyx66HDw9X5chf4wXvp8RjGCNi6F4oRFYfB0",
           "width": 2592
          }
         ],
         "place_id": "ChIJp163_zxDTo8RV6CSKW7JwaY",
         "plus_code": {
          "compound_code": "MV2F+WP Playa del Carmen, Quintana Roo, Mexico",
          "global_code": "76GJMV2F+WP"
         },
         "rating": 4.7,
         "reference": "ChIJp163_zxDTo8RV6CSKW7JwaY",
         "types": [
          "tourist_attraction",
          "park",
          "point_of_interest",
          "establishment"
         ],
         "user_ratings_total": 1519
        },
        {
         "business_status": "OPERATIONAL",
         "formatted_address": "10 Avenida Nte., Centro, 77710 Playa del Carmen, Q.R., Mexico",
         "geometry": {
          "location": {
           "lat": 20.6270735,
           "lng": -87.0735514
          },
          "viewport": {
           "northeast": {
            "lat": 20.62836912989272,
            "lng": -87.07211332010726
           },
           "southwest": {
            "lat": 20.62566947010728,
            "lng": -87.07481297989271
           }
          }
         },
         "icon": "https://maps.gstatic.com/mapfiles/place_api/icons/v1/png_71/museum-71.png",
         "icon_background_color": "#13B5C7",
         "icon_mask_base_uri": "https://maps.gstatic.com/mapfiles/place_api/icons/v2/museum_pinlet",
         "name": "3D Museum of Wonders",
         "opening_hours": {
          "open_now": true
         },
         "photos": [
          {
           "height": 1198,
           "html_attributions": [
            "<a href=\"https://maps.google.com/maps/contrib/102987535979815137647\">A Google User</a>"
           ],
           "photo_reference": "Aap_uEBO6UW59QS-fIbN_SzMXs0OIo0ix1PBY3tbn9qRf_YveYGquiSuAJ34bSvTvfq5ej8PEL7y8UhLC9cR7X-uY2XB93gactpLgvBEubC4MZDGxyHeJvFYQ3wf1wq7N5yX4PD5-AJ80uWFa-xTyqTHT3VGrqMvJv6TpbyqsPrdgj_QBsWL",
           "width": 800
          }
         ],
         "place_id": "ChIJiUHFxjpDTo8RnPMOc5Z17ZE",
         "plus_code": {
          "compound_code": "JWGG+RH Playa del Carmen, Quintana Roo, Mexico",
          "global_code": "76GJJWGG+RH"
         },
         "rating": 4.5,
         "reference": "ChIJiUHFxjpDTo8RnPMOc5Z17ZE",
         "types": [
          "museum",
          "tourist_attraction",
          "point_of_interest",
          "establishment"
         ],
         "user_ratings_total": 1375
        },
        {
         "business_status": "OPERATIONAL",
         "formatted_address": "Calle 90 Nte., Ejidal, 77712 Playa del Carmen, Q.R., Mexico",
         "geometry": {
          "location": {
           "lat": 20.632715,
           "lng": -87.091016
          },
          "viewport": {
           "northeast": {
            "lat": 20.63409397989272,
            "lng": -87.08964687010727
           },
           "southwest": {
            "lat": 20.63139432010728,
            "lng": -87.09234652989272
           }
          }
         },
         "icon": "https://maps.gstatic.com/mapfiles/place_api/icons/v1/png_71/generic_business-71.png",
         "icon_background_color": "#13B5C7",
         "icon_mask_base_uri": "https://maps.gstatic.com/mapfiles/place_api/icons/v2/generic_pinlet",
         "name": "Mexxtremo Adventures",
         "opening_hours": {
          "open_now": true
         },
         "photos": [
          {
           "height": 2136,
           "html_attributions": [
            "<a href=\"https://maps.google.com/maps/contrib/101013383605936983598\">Elena Bernasconi</a>"
           ],
           "photo_reference": "Aap_uEBaSmbVgWJ-_BO34DRURN9KeNUIJVIPDj-FPYyikF4Zfu7-cPEunftc2eXi0xvuPmb1KjPcXQR7rrdFY7G_WKKQ43rSjwGFesOR4h5HGKorImPCAXGLwoKK6XuacEziund67r013eDCAj9sD2mb9N1vxEKY-ZcTbLNZHQZMO4-ke5-Q",
           "width": 3352
          }
         ],
         "place_id": "ChIJ3whf6S5DTo8RAlpPhu-MR7g",
         "plus_code": {
          "compound_code": "JWM5+3H Playa del Carmen, Quintana Roo, Mexico",
          "global_code": "76GJJWM5+3H"
         },
         "rating": 4.5,
         "reference": "ChIJ3whf6S5DTo8RAlpPhu-MR7g",
         "types": [
          "tourist_attraction",
          "travel_agency",
          "point_of_interest",
          "establishment"
         ],
         "user_ratings_total": 140
        },
        {
         "business_status": "OPERATIONAL",
         "formatted_address": "P.º Xaman - Ha, Galaxia del Carmen II, 77717 Playa del Carmen, Q.R., Mexico",
         "geometry": {
          "location": {
           "lat": 20.6177979,
           "lng": -87.0800967
          },
          "viewport": {
           "northeast": {
            "lat": 20.61912152989272,
            "lng": -87.07867632010726
           },
           "southwest": {
            "lat": 20.61642187010728,
            "lng": -87.08137597989271
           }
          }
         },
         "icon": "https://maps.gstatic.com/mapfiles/place_api/icons/v1/png_71/park-71.png",
         "icon_background_color": "#4DB546",
         "icon_mask_base_uri": "https://maps.gstatic.com/mapfiles/place_api/icons/v2/tree_pinlet",
         "name": "Xaman - Ha Aviary",
         "opening_hours": {
          "open_now": true
         },
         "photos": [
          {
           "height": 3464,
           "html_attributions": [
            "<a href=\"https://maps.google.com/maps/contrib/101975548609617450721\">Abel Meléndez</a>"
           ],
           "photo_reference": "Aap_uEB2FCdh211u8fI-Sb8RVIWix1uHgu3yJBHmmv2ofwOAO9d5diuWtWjlR-MbljiiqDzwrWNzNp6GOyy7RSzIxAzlhbBIpGMf4GZrbG3sI9_2AirNuAWJoWFHAHdybGXNhUArJruqtndh9sLeLDK_3-WpqrD7nI4IUyijpnYtRxIUTrnI",
           "width": 4618
          }
         ],
         "place_id": "ChIJ9cGwoT9DTo8RjCdSn7ncPUk",
         "plus_code": {
          "compound_code": "JW99+4X Playa del Carmen, Quintana Roo, Mexico",
          "global_code": "76GJJW99+4X"
         },
         "rating": 3.9,
         "reference": "ChIJ9cGwoT9DTo8RjCdSn7ncPUk",
         "types": [
          "zoo",
          "tourist_attraction",
          "park",
          "point_of_interest",
          "establishment"
         ],
         "user_ratings_total": 350
        },
        {
         "business_status": "OPERATIONAL",
         "formatted_address": "Carretera Chetumal - Puerto Juárez km 282 MZA 021 Lote 062 Colonia Xcaret, 77710 Playa del Carmen, Q.R., Mexico",
         "geometry": {
          "location": {
           "lat": 20.5850917,
           "lng": -87.1258778
          },
          "viewport": {
           "northeast": {
            "lat": 20.58650282989272,
            "lng": -87.12443442010728
           },
           "southwest": {
            "lat": 20.58380317010728,
            "lng": -87.12713407989273
           }
          }
         },
         "icon": "https://maps.gstatic.com/mapfiles/place_api/icons/v1/png_71/generic_business-71.png",
         "icon_background_color": "#7B9EB0",
         "icon_mask_base_uri": "https://maps.gstatic.com/mapfiles/place_api/icons/v2/generic_pinlet",
         "name": "Xenses",
         "opening_hours": {
          "open_now": true
         },
         "photos": [
          {
           "height": 3024,
           "html_attributions": [
            "<a href=\"https://maps.google.com/maps/contrib/108316073434470976128\">Cristina Garcia</a>"
           ],
           "photo_reference": "Aap_uEAZnQDgY0ktnHtJP7xi9r-G4hlzfH2a8WSHq8v_oIhTt1ACa_ucPV0l6D3T3uj9zLyqw7Kozq_vHAtnDV2ez7GxT82O2Y1iO4RJlJPLD7jbg-w_7TKuZN0Ti7mh4uMVUpu_LJpw9v1OceJEDNhXPk3RamJXlPNX94ljwQOb9wyV3Y6v",
           "width": 4032
          }
         ],
         "place_id": "ChIJY0r-RgxETo8R9B8XzFow0nM",
         "plus_code": {
          "compound_code": "HVPF+2J Playa del Carmen, Quintana Roo, Mexico",
          "global_code": "76GJHVPF+2J"
         },
         "rating": 4.8,
         "reference": "ChIJY0r-RgxETo8R9B8XzFow0nM",
         "types": [
          "amusement_park",
          "tourist_attraction",
          "point_of_interest",
          "establishment"
         ],
         "user_ratings_total": 10491
        },
        {
         "business_status": "OPERATIONAL",
         "formatted_address": "Carretera Federal Libre Chetumal- Puerto Juárez Ejido Sur, 77712 Playa del Carmen, Q.R., Mexico",
         "geometry": {
          "location": {
           "lat": 20.5882629,
           "lng": -87.1332759
          },
          "viewport": {
           "northeast": {
            "lat": 20.58958092989272,
            "lng": -87.13189712010728
           },
           "southwest": {
            "lat": 20.58688127010728,
            "lng": -87.13459677989273
           }
          }
         },
         "icon": "https://maps.gstatic.com/mapfiles/place_api/icons/v1/png_71/generic_business-71.png",
         "icon_background_color": "#13B5C7",
         "icon_mask_base_uri": "https://maps.gstatic.com/mapfiles/place_api/icons/v2/generic_pinlet",
         "name": "Río Secreto",
         "opening_hours": {
          "open_now": false
         },
         "photos": [
          {
           "height": 4032,
           "html_attributions": [
            "<a href=\"https://maps.google.com/maps/contrib/111555392644289736634\">Pedro Ferreira</a>"
           ],
           "photo_reference": "Aap_uEC2TYQTAZYkhlTJFYjYGjtxb-YT59Ri_KugKIUt6ZR3QGaxefx3iB6TH07ok_aIKDYA8E9WUh0ULrF2zjPM_mzNpzCHGSWgaEF1ctKB4iGu0dAVwOQ0u67xgP-bUtl5gbaGqaqpvDWas1Uf9BAesF6lUAa7gZP6rf5HV9_L6smWTj2-",
           "width": 3024
          }
         ],
         "place_id": "ChIJPdP_dgZETo8RlCmuaxZF2tI",
         "plus_code": {
          "compound_code": "HVQ8+8M Playa del Carmen, Quintana Roo, Mexico",
          "global_code": "76GJHVQ8+8M"
         },
         "rating": 4.7,
         "reference": "ChIJPdP_dgZETo8RlCmuaxZF2tI",
         "types": [
          "tourist_attraction",
          "travel_agency",
          "point_of_interest",
          "establishment"
         ],
         "user_ratings_total": 4343
        },
        {
         "business_status": "CLOSED_TEMPORARILY",
         "formatted_address": "Diagonal 60 X calle 1 y, C. 3 Sur s/n, Ejidal, 77710 Playa del Carmen, Q.R., Mexico",
         "geometry": {
          "location": {
           "lat": 20.6280883,
           "lng": -87.08689129999999
          },
          "viewport": {
           "northeast": {
            "lat": 20.62934217989272,
            "lng": -87.08534217010727
           },
           "southwest": {
            "lat": 20.62664252010727,
            "lng": -87.08804182989272
           }
          }
         },
         "icon": "https://maps.gstatic.com/mapfiles/place_api/icons/v1/png_71/park-71.png",
         "icon_background_color": "#4DB546",
         "icon_mask_base_uri": "https://maps.gstatic.com/mapfiles/place_api/icons/v2/tree_pinlet",
         "name": "Parque La Ceiba",
         "permanently_closed": true,
         "photos": [
          {
           "height": 2322,
           "html_attributions": [
            "<a href=\"https://maps.google.com/maps/contrib/116072821732032765348\">Huwix Santos</a>"
           ],
           "photo_reference": "Aap_uEBg6hUvqwWLpkrY_25uSkfTBKmZbwtK8pKrYvX8xSrvIF1h1QgxllJt2-8l4fN9Je1QABV507tUFeKwWfZIoCDT2VUcVyYrbHJkWitoPima3Uzf4d7CstMuqnO_-hxBf5xEhVQTdv1oxjPvq-xXNDe_CG2C0Xq-CQujbfa7ec5hEgVE",
           "width": 4128
          }
         ],
         "place_id": "ChIJafi5VxdDTo8RCXaMkFOVswA",
         "plus_code": {
          "compound_code": "JWH7+66 Playa del Carmen, Quintana Roo, Mexico",
          "global_code": "76GJJWH7+66"
         },
         "rating": 4.6,
         "reference": "ChIJafi5VxdDTo8RCXaMkFOVswA",
         "types": [
          "park",
          "movie_theater",
          "tourist_attraction",
          "restaurant",
          "food",
          "school",
          "point_of_interest",
          "establishment"
         ],
         "user_ratings_total": 1035
        },
        {
         "business_status": "OPERATIONAL",
         "formatted_address": "Calle Corazón, 5ta Avenida entre 12 Y 14, 5 Avenida Nte., 77710 Playa del Carmen, Q.R., Mexico",
         "geometry": {
          "location": {
           "lat": 20.6283011,
           "lng": -87.07145100000001
          },
          "viewport": {
           "northeast": {
            "lat": 20.62965092989272,
            "lng": -87.07010117010728
           },
           "southwest": {
            "lat": 20.62695127010728,
            "lng": -87.07280082989273
           }
          }
         },
         "icon": "https://maps.gstatic.com/mapfiles/place_api/icons/v1/png_71/generic_business-71.png",
         "icon_background_color": "#13B5C7",
         "icon_mask_base_uri": "https://maps.gstatic.com/mapfiles/place_api/icons/v2/generic_pinlet",
         "name": "MONSTERLAND",
         "photos": [
          {
           "height": 724,
           "html_attributions": [
            "<a href=\"https://maps.google.com/maps/contrib/103812259156579115450\">A Google User</a>"
           ],
           "photo_reference": "Aap_uEDSzO10IuxmVggcBieAbRV5uVaeEU_9quYl10KzxxrWr2GqZEhOK6OYUujql6jVZCZmF4ryKywAPtd7ayY7pz_7eR0EeIjxlnZM-gMs6OUFEWItHEF6o6qK9EfbdOZZVuS4M65GWhFRgLsvMW7GjegPBN0uSyh1S18IKRgD4MeZ3L1s",
           "width": 960
          }
         ],
         "place_id": "ChIJmS5onvVDTo8R6fltmVLEsNg",
         "plus_code": {
          "compound_code": "JWHH+8C Playa del Carmen, Quintana Roo, Mexico",
          "global_code": "76GJJWHH+8C"
         },
         "rating": 5,
         "reference": "ChIJmS5onvVDTo8R6fltmVLEsNg",
         "types": [
          "tourist_attraction",
          "point_of_interest",
          "establishment"
         ],
         "user_ratings_total": 1
        },
        {
         "business_status": "OPERATIONAL",
         "formatted_address": "15 Avenida Nte, Centro, 77710 Playa del Carmen, Q.R., Mexico",
         "geometry": {
          "location": {
           "lat": 20.6241349,
           "lng": -87.0769425
          },
          "viewport": {
           "northeast": {
            "lat": 20.62541567989272,
            "lng": -87.07549022010728
           },
           "southwest": {
            "lat": 20.62271602010728,
            "lng": -87.07818987989272
           }
          }
         },
         "icon": "https://maps.gstatic.com/mapfiles/place_api/icons/v1/png_71/park-71.png",
         "icon_background_color": "#4DB546",
         "icon_mask_base_uri": "https://maps.gstatic.com/mapfiles/place_api/icons/v2/tree_pinlet",
         "name": "Parque, Portal Maya",
         "opening_hours": {
          "open_now": true
         },
         "photos": [
          {
           "height": 3456,
           "html_attributions": [
            "<a href=\"https://maps.google.com/maps/contrib/117488265939294153525\">A Google User</a>"
           ],
           "photo_reference": "Aap_uECaXRhuaHIdRD4bE1-bcuEqFd2Padf9HrM69D1zVaDv_p42WSFef91bap4reY3MFddFmnQz7e8UKBx10lvFCw0xjKZFSp54B7sDs8_8lFsLcUZ4Y9MQQitvLDWRdIgu2t6FYGj-AvnEktNg6KkHkfYnD3DtHE6q-GI1oQ-bxj0Sg6k0",
           "width": 4608
          }
         ],
         "place_id": "ChIJa4AIjztDTo8R8Up9LLQdp6M",
         "plus_code": {
          "compound_code": "JWFF+M6 Playa del Carmen, Quintana Roo, Mexico",
          "global_code": "76GJJWFF+M6"
         },
         "rating": 4.4,
         "reference": "ChIJa4AIjztDTo8R8Up9LLQdp6M",
         "types": [
          "park",
          "tourist_attraction",
          "point_of_interest",
          "establishment"
         ],
         "user_ratings_total": 2839
        }
       ],
       "status": "OK"
      },
      "text/plain": [
       "<IPython.core.display.JSON object>"
      ]
     },
     "execution_count": 35,
     "metadata": {
      "application/json": {
       "expanded": false,
       "root": "root"
      }
     },
     "output_type": "execute_result"
    }
   ],
   "source": [
    "#Write to file\n",
    "with open('data_google.json', 'w', encoding='utf-8') as f:\n",
    "    json.dump(data_google, f, ensure_ascii=False, indent=4)\n",
    "    \n",
    "JSON(data_google)"
   ]
  },
  {
   "cell_type": "code",
   "execution_count": 37,
   "metadata": {},
   "outputs": [
    {
     "data": {
      "text/plain": [
       "Index(['business_status', 'formatted_address', 'icon', 'icon_background_color',\n",
       "       'icon_mask_base_uri', 'name', 'photos', 'place_id', 'rating',\n",
       "       'reference', 'types', 'user_ratings_total', 'geometry.location.lat',\n",
       "       'geometry.location.lng', 'geometry.viewport.northeast.lat',\n",
       "       'geometry.viewport.northeast.lng', 'geometry.viewport.southwest.lat',\n",
       "       'geometry.viewport.southwest.lng', 'plus_code.compound_code',\n",
       "       'plus_code.global_code', 'opening_hours.open_now',\n",
       "       'permanently_closed'],\n",
       "      dtype='object')"
      ]
     },
     "execution_count": 37,
     "metadata": {},
     "output_type": "execute_result"
    }
   ],
   "source": [
    "with open('data_google.json','r') as f:\n",
    "    data_google = json.loads(f.read())\n",
    "df_google = pd.json_normalize(data_google, record_path=['results'], errors='ignore')\n",
    "df_google.columns"
   ]
  },
  {
   "cell_type": "code",
   "execution_count": 38,
   "metadata": {},
   "outputs": [
    {
     "data": {
      "text/plain": [
       "business_status                    object\n",
       "formatted_address                  object\n",
       "icon                               object\n",
       "icon_background_color              object\n",
       "icon_mask_base_uri                 object\n",
       "name                               object\n",
       "photos                             object\n",
       "place_id                           object\n",
       "rating                             object\n",
       "reference                          object\n",
       "types                              object\n",
       "user_ratings_total                 object\n",
       "geometry.location.lat              object\n",
       "geometry.location.lng              object\n",
       "geometry.viewport.northeast.lat    object\n",
       "geometry.viewport.northeast.lng    object\n",
       "geometry.viewport.southwest.lat    object\n",
       "geometry.viewport.southwest.lng    object\n",
       "plus_code.compound_code            object\n",
       "plus_code.global_code              object\n",
       "opening_hours.open_now             object\n",
       "permanently_closed                 object\n",
       "dtype: object"
      ]
     },
     "execution_count": 38,
     "metadata": {},
     "output_type": "execute_result"
    }
   ],
   "source": [
    "df_google = df_google.applymap(str)\n",
    "df_google.dtypes"
   ]
  },
  {
   "cell_type": "code",
   "execution_count": 39,
   "metadata": {},
   "outputs": [],
   "source": [
    "conn = sql.connect('playa.db')\n",
    "df_google.to_sql('google_data', conn, schema='online', index=False, if_exists='append')"
   ]
  },
  {
   "cell_type": "code",
   "execution_count": 60,
   "metadata": {},
   "outputs": [
    {
     "data": {
      "text/html": [
       "<div>\n",
       "<style scoped>\n",
       "    .dataframe tbody tr th:only-of-type {\n",
       "        vertical-align: middle;\n",
       "    }\n",
       "\n",
       "    .dataframe tbody tr th {\n",
       "        vertical-align: top;\n",
       "    }\n",
       "\n",
       "    .dataframe thead th {\n",
       "        text-align: right;\n",
       "    }\n",
       "</style>\n",
       "<table border=\"1\" class=\"dataframe\">\n",
       "  <thead>\n",
       "    <tr style=\"text-align: right;\">\n",
       "      <th></th>\n",
       "      <th>name</th>\n",
       "      <th>rating</th>\n",
       "      <th>user_ratings_total</th>\n",
       "      <th>business_status</th>\n",
       "      <th>types</th>\n",
       "      <th>formatted_address</th>\n",
       "    </tr>\n",
       "  </thead>\n",
       "  <tbody>\n",
       "    <tr>\n",
       "      <th>10</th>\n",
       "      <td>KaribbeanMermaids</td>\n",
       "      <td>5.0</td>\n",
       "      <td>6</td>\n",
       "      <td>OPERATIONAL</td>\n",
       "      <td>['tourist_attraction', 'point_of_interest', 'e...</td>\n",
       "      <td>Carretera Federal, Calle 22 Nte, entre calles ...</td>\n",
       "    </tr>\n",
       "    <tr>\n",
       "      <th>11</th>\n",
       "      <td>Cenote Chaak Tun</td>\n",
       "      <td>4.7</td>\n",
       "      <td>1519</td>\n",
       "      <td>OPERATIONAL</td>\n",
       "      <td>['tourist_attraction', 'park', 'point_of_inter...</td>\n",
       "      <td>Av. Juárez prolongación km 4.7, Ejidal, 77723 ...</td>\n",
       "    </tr>\n",
       "    <tr>\n",
       "      <th>12</th>\n",
       "      <td>3D Museum of Wonders</td>\n",
       "      <td>4.5</td>\n",
       "      <td>1375</td>\n",
       "      <td>OPERATIONAL</td>\n",
       "      <td>['museum', 'tourist_attraction', 'point_of_int...</td>\n",
       "      <td>10 Avenida Nte., Centro, 77710 Playa del Carme...</td>\n",
       "    </tr>\n",
       "    <tr>\n",
       "      <th>13</th>\n",
       "      <td>Mexxtremo Adventures</td>\n",
       "      <td>4.5</td>\n",
       "      <td>140</td>\n",
       "      <td>OPERATIONAL</td>\n",
       "      <td>['tourist_attraction', 'travel_agency', 'point...</td>\n",
       "      <td>Calle 90 Nte., Ejidal, 77712 Playa del Carmen,...</td>\n",
       "    </tr>\n",
       "    <tr>\n",
       "      <th>14</th>\n",
       "      <td>Xaman - Ha Aviary</td>\n",
       "      <td>3.9</td>\n",
       "      <td>350</td>\n",
       "      <td>OPERATIONAL</td>\n",
       "      <td>['zoo', 'tourist_attraction', 'park', 'point_o...</td>\n",
       "      <td>P.º Xaman - Ha, Galaxia del Carmen II, 77717 P...</td>\n",
       "    </tr>\n",
       "    <tr>\n",
       "      <th>15</th>\n",
       "      <td>Xenses</td>\n",
       "      <td>4.8</td>\n",
       "      <td>10491</td>\n",
       "      <td>OPERATIONAL</td>\n",
       "      <td>['amusement_park', 'tourist_attraction', 'poin...</td>\n",
       "      <td>Carretera Chetumal - Puerto Juárez km 282 MZA ...</td>\n",
       "    </tr>\n",
       "    <tr>\n",
       "      <th>16</th>\n",
       "      <td>Río Secreto</td>\n",
       "      <td>4.7</td>\n",
       "      <td>4343</td>\n",
       "      <td>OPERATIONAL</td>\n",
       "      <td>['tourist_attraction', 'travel_agency', 'point...</td>\n",
       "      <td>Carretera Federal Libre Chetumal- Puerto Juáre...</td>\n",
       "    </tr>\n",
       "    <tr>\n",
       "      <th>17</th>\n",
       "      <td>Parque La Ceiba</td>\n",
       "      <td>4.6</td>\n",
       "      <td>1035</td>\n",
       "      <td>CLOSED_TEMPORARILY</td>\n",
       "      <td>['park', 'movie_theater', 'tourist_attraction'...</td>\n",
       "      <td>Diagonal 60 X calle 1 y, C. 3 Sur s/n, Ejidal,...</td>\n",
       "    </tr>\n",
       "    <tr>\n",
       "      <th>18</th>\n",
       "      <td>MONSTERLAND</td>\n",
       "      <td>5.0</td>\n",
       "      <td>1</td>\n",
       "      <td>OPERATIONAL</td>\n",
       "      <td>['tourist_attraction', 'point_of_interest', 'e...</td>\n",
       "      <td>Calle Corazón, 5ta Avenida entre 12 Y 14, 5 Av...</td>\n",
       "    </tr>\n",
       "    <tr>\n",
       "      <th>19</th>\n",
       "      <td>Parque, Portal Maya</td>\n",
       "      <td>4.4</td>\n",
       "      <td>2839</td>\n",
       "      <td>OPERATIONAL</td>\n",
       "      <td>['park', 'tourist_attraction', 'point_of_inter...</td>\n",
       "      <td>15 Avenida Nte, Centro, 77710 Playa del Carmen...</td>\n",
       "    </tr>\n",
       "  </tbody>\n",
       "</table>\n",
       "</div>"
      ],
      "text/plain": [
       "                    name rating user_ratings_total     business_status  \\\n",
       "10     KaribbeanMermaids    5.0                  6         OPERATIONAL   \n",
       "11      Cenote Chaak Tun    4.7               1519         OPERATIONAL   \n",
       "12  3D Museum of Wonders    4.5               1375         OPERATIONAL   \n",
       "13  Mexxtremo Adventures    4.5                140         OPERATIONAL   \n",
       "14     Xaman - Ha Aviary    3.9                350         OPERATIONAL   \n",
       "15                Xenses    4.8              10491         OPERATIONAL   \n",
       "16           Río Secreto    4.7               4343         OPERATIONAL   \n",
       "17       Parque La Ceiba    4.6               1035  CLOSED_TEMPORARILY   \n",
       "18           MONSTERLAND    5.0                  1         OPERATIONAL   \n",
       "19   Parque, Portal Maya    4.4               2839         OPERATIONAL   \n",
       "\n",
       "                                                types  \\\n",
       "10  ['tourist_attraction', 'point_of_interest', 'e...   \n",
       "11  ['tourist_attraction', 'park', 'point_of_inter...   \n",
       "12  ['museum', 'tourist_attraction', 'point_of_int...   \n",
       "13  ['tourist_attraction', 'travel_agency', 'point...   \n",
       "14  ['zoo', 'tourist_attraction', 'park', 'point_o...   \n",
       "15  ['amusement_park', 'tourist_attraction', 'poin...   \n",
       "16  ['tourist_attraction', 'travel_agency', 'point...   \n",
       "17  ['park', 'movie_theater', 'tourist_attraction'...   \n",
       "18  ['tourist_attraction', 'point_of_interest', 'e...   \n",
       "19  ['park', 'tourist_attraction', 'point_of_inter...   \n",
       "\n",
       "                                    formatted_address  \n",
       "10  Carretera Federal, Calle 22 Nte, entre calles ...  \n",
       "11  Av. Juárez prolongación km 4.7, Ejidal, 77723 ...  \n",
       "12  10 Avenida Nte., Centro, 77710 Playa del Carme...  \n",
       "13  Calle 90 Nte., Ejidal, 77712 Playa del Carmen,...  \n",
       "14  P.º Xaman - Ha, Galaxia del Carmen II, 77717 P...  \n",
       "15  Carretera Chetumal - Puerto Juárez km 282 MZA ...  \n",
       "16  Carretera Federal Libre Chetumal- Puerto Juáre...  \n",
       "17  Diagonal 60 X calle 1 y, C. 3 Sur s/n, Ejidal,...  \n",
       "18  Calle Corazón, 5ta Avenida entre 12 Y 14, 5 Av...  \n",
       "19  15 Avenida Nte, Centro, 77710 Playa del Carmen...  "
      ]
     },
     "execution_count": 60,
     "metadata": {},
     "output_type": "execute_result"
    }
   ],
   "source": [
    "dgoogle_sql = pd.read_sql('SELECT * FROM google_data', conn)\n",
    "dgoogle_sql[['name', 'rating', 'user_ratings_total', 'business_status', ['types'][0],'formatted_address']].tail(10)"
   ]
  },
  {
   "cell_type": "code",
   "execution_count": null,
   "metadata": {},
   "outputs": [],
   "source": []
  },
  {
   "cell_type": "code",
   "execution_count": null,
   "metadata": {},
   "outputs": [],
   "source": []
  }
 ],
 "metadata": {
  "interpreter": {
   "hash": "52ace3c547986ae5a7f91247bb4c67262f0bc49dd06d49d73937c29bba129c8f"
  },
  "kernelspec": {
   "display_name": "Python 3",
   "language": "python",
   "name": "python3"
  },
  "language_info": {
   "codemirror_mode": {
    "name": "ipython",
    "version": 3
   },
   "file_extension": ".py",
   "mimetype": "text/x-python",
   "name": "python",
   "nbconvert_exporter": "python",
   "pygments_lexer": "ipython3",
   "version": "3.8.8"
  }
 },
 "nbformat": 4,
 "nbformat_minor": 4
}
